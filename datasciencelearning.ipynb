{
 "cells": [
  {
   "cell_type": "markdown",
   "id": "8a3e933b-f4ab-4e33-b022-5164a2d797c7",
   "metadata": {},
   "source": [
    "# Learning\n",
    "\n",
    "- [intro pandas](#Intro-to-pandas)\n",
    "- [univariate data](#Describing-univariate-data) : measures of tendency, spread\n",
    "- [bivariate data](#Bivariate-data) : feature scaling, scatterplot\n",
    "  - [feature scaling](#Feature-Scaling)\n",
    "- [linear modeling](#Modeling)\n",
    "  - [linear regression](#Linear-regression) : linear regression\n",
    "  - [train-test validation](#Train,-test,-validation): train test split\n",
    "  - [k-fold validation](#K-fold-validation): kfold validation\n",
    "  - [regularization](#Regularization): Ridge regression, lasso regression\n",
    "    - [ridge regression](#Ridge-Regresssion)\n",
    "    - [lasso regression](#Lasso-Regresssion)\n",
    "- [PCA](#PCA-and-dimensionality-reduction)\n",
    "- [Classification](#Classification)\n",
    "  - [K nearest neighbors](#K-nearest-neighbors)\n",
    "  - [Logistic Regression](#Logistic-Regression)\n",
    "  - [Decision trees](#Decision-Tree)\n",
    "  - [Random Forest](#Random-forests)\n",
    "  - [Concepts](#Concepts) : Grid search, Leave one-out validation, hard classifications vs soft classifications for decision trees"
   ]
  },
  {
   "cell_type": "code",
   "execution_count": 3,
   "id": "57f866e2-a726-4add-bfe4-b2106a86a2e6",
   "metadata": {},
   "outputs": [],
   "source": [
    "import pandas as pd\n",
    "import numpy as np\n",
    "import matplotlib.pyplot as plt\n",
    "import seaborn as sns"
   ]
  },
  {
   "cell_type": "markdown",
   "id": "c92c92b5-79d4-4a83-a10d-141fac27f104",
   "metadata": {},
   "source": [
    "## Intro to pandas"
   ]
  },
  {
   "cell_type": "markdown",
   "id": "b1261744-fe64-459e-99ac-28c2ed616027",
   "metadata": {},
   "source": [
    "### Locating elements with pandas\n",
    "\n",
    "When you have a pandas series, you have two methods for accessing data: `series.iloc` and `series.loc`\n",
    "\n",
    "- `series.iloc[n]` : gets the nth row of data of the series\n",
    "- `series.loc[index]` : gets all entries that have the specified index in the series.\n",
    "\n",
    "`series.iloc` will only ever return one entry, while `series.loc` can return multiple entries if there are duplicate indices in the series"
   ]
  },
  {
   "cell_type": "code",
   "execution_count": 3,
   "id": "c0f9043b-a084-4895-83ca-f9773ad4fbce",
   "metadata": {},
   "outputs": [],
   "source": [
    "series = pd.Series([\"Ford\", \"Vasiliu\", \"Willner\", \"Vasiliu\"], index=[\"DATA201\",\"DATA301\",\"DATA201\",\"DATA201\"])"
   ]
  },
  {
   "cell_type": "code",
   "execution_count": 4,
   "id": "385654d4-901a-47f9-b08c-7a876f1dda89",
   "metadata": {},
   "outputs": [
    {
     "data": {
      "text/plain": [
       "DATA201       Ford\n",
       "DATA301    Vasiliu\n",
       "DATA201    Willner\n",
       "DATA201    Vasiliu\n",
       "dtype: object"
      ]
     },
     "execution_count": 4,
     "metadata": {},
     "output_type": "execute_result"
    }
   ],
   "source": [
    "series"
   ]
  },
  {
   "cell_type": "code",
   "execution_count": 5,
   "id": "1876784d-9a8c-4814-b753-1dee638f1727",
   "metadata": {},
   "outputs": [
    {
     "data": {
      "text/plain": [
       "'Ford'"
      ]
     },
     "execution_count": 5,
     "metadata": {},
     "output_type": "execute_result"
    }
   ],
   "source": [
    "series.iloc[0]"
   ]
  },
  {
   "cell_type": "markdown",
   "id": "35a98332-26bb-427f-a5a4-a1f1dad0f0fa",
   "metadata": {},
   "source": [
    "In this specific example, we get back all entries that have a named index of \"DATA201\". Multiple elements have that index, so multiple entries are returned as a sub-series. "
   ]
  },
  {
   "cell_type": "code",
   "execution_count": 8,
   "id": "ceeb1190-fd1e-41a5-96de-c99aea7849cd",
   "metadata": {},
   "outputs": [
    {
     "data": {
      "text/plain": [
       "DATA201       Ford\n",
       "DATA201    Willner\n",
       "DATA201    Vasiliu\n",
       "dtype: object"
      ]
     },
     "execution_count": 8,
     "metadata": {},
     "output_type": "execute_result"
    }
   ],
   "source": [
    "series.loc[\"DATA201\"] # multiple elements returned since duplicate series"
   ]
  },
  {
   "cell_type": "markdown",
   "id": "def93573-ca6c-48e8-856b-11a4fca2d1bf",
   "metadata": {},
   "source": [
    "### Reading in data and looking at it"
   ]
  },
  {
   "cell_type": "markdown",
   "id": "63f0ffe4-4543-4be9-a765-c6c94c937e58",
   "metadata": {},
   "source": [
    "**`pd.read_csv()`**\n",
    "\n",
    "In this example, the `pd.read_csv(filepath)` method takes in a filepath to a csv and returns a dataframe. To specify the separator if it's different, use the `sep` keyword. \n",
    "\n",
    "It then returns a dataframe"
   ]
  },
  {
   "cell_type": "code",
   "execution_count": 2,
   "id": "c50ac5d9-1d87-49f5-abc7-0b6fc95c2a14",
   "metadata": {
    "scrolled": true
   },
   "outputs": [
    {
     "data": {
      "text/html": [
       "<div>\n",
       "<style scoped>\n",
       "    .dataframe tbody tr th:only-of-type {\n",
       "        vertical-align: middle;\n",
       "    }\n",
       "\n",
       "    .dataframe tbody tr th {\n",
       "        vertical-align: top;\n",
       "    }\n",
       "\n",
       "    .dataframe thead th {\n",
       "        text-align: right;\n",
       "    }\n",
       "</style>\n",
       "<table border=\"1\" class=\"dataframe\">\n",
       "  <thead>\n",
       "    <tr style=\"text-align: right;\">\n",
       "      <th></th>\n",
       "      <th>Continent</th>\n",
       "      <th>Country</th>\n",
       "      <th>Year</th>\n",
       "      <th>Tourism_expenditure</th>\n",
       "      <th>Arrivals</th>\n",
       "    </tr>\n",
       "  </thead>\n",
       "  <tbody>\n",
       "    <tr>\n",
       "      <th>0</th>\n",
       "      <td>Africa</td>\n",
       "      <td>Dem. Rep. of the Congo</td>\n",
       "      <td>1995</td>\n",
       "      <td>NaN</td>\n",
       "      <td>35.0</td>\n",
       "    </tr>\n",
       "    <tr>\n",
       "      <th>1</th>\n",
       "      <td>Africa</td>\n",
       "      <td>Dem. Rep. of the Congo</td>\n",
       "      <td>2005</td>\n",
       "      <td>3.0</td>\n",
       "      <td>61.0</td>\n",
       "    </tr>\n",
       "    <tr>\n",
       "      <th>2</th>\n",
       "      <td>Africa</td>\n",
       "      <td>Dem. Rep. of the Congo</td>\n",
       "      <td>2010</td>\n",
       "      <td>11.0</td>\n",
       "      <td>81.0</td>\n",
       "    </tr>\n",
       "    <tr>\n",
       "      <th>3</th>\n",
       "      <td>Africa</td>\n",
       "      <td>Dem. Rep. of the Congo</td>\n",
       "      <td>2017</td>\n",
       "      <td>6.0</td>\n",
       "      <td>NaN</td>\n",
       "    </tr>\n",
       "    <tr>\n",
       "      <th>4</th>\n",
       "      <td>Africa</td>\n",
       "      <td>Dem. Rep. of the Congo</td>\n",
       "      <td>2018</td>\n",
       "      <td>61.0</td>\n",
       "      <td>NaN</td>\n",
       "    </tr>\n",
       "    <tr>\n",
       "      <th>5</th>\n",
       "      <td>Africa</td>\n",
       "      <td>Dem. Rep. of the Congo</td>\n",
       "      <td>2019</td>\n",
       "      <td>100.0</td>\n",
       "      <td>NaN</td>\n",
       "    </tr>\n",
       "    <tr>\n",
       "      <th>6</th>\n",
       "      <td>Europe</td>\n",
       "      <td>Denmark</td>\n",
       "      <td>1995</td>\n",
       "      <td>3691.0</td>\n",
       "      <td>NaN</td>\n",
       "    </tr>\n",
       "    <tr>\n",
       "      <th>7</th>\n",
       "      <td>Europe</td>\n",
       "      <td>Denmark</td>\n",
       "      <td>2005</td>\n",
       "      <td>5293.0</td>\n",
       "      <td>9178.0</td>\n",
       "    </tr>\n",
       "    <tr>\n",
       "      <th>8</th>\n",
       "      <td>Europe</td>\n",
       "      <td>Denmark</td>\n",
       "      <td>2010</td>\n",
       "      <td>5704.0</td>\n",
       "      <td>8744.0</td>\n",
       "    </tr>\n",
       "    <tr>\n",
       "      <th>9</th>\n",
       "      <td>Europe</td>\n",
       "      <td>Denmark</td>\n",
       "      <td>2017</td>\n",
       "      <td>8508.0</td>\n",
       "      <td>12426.0</td>\n",
       "    </tr>\n",
       "    <tr>\n",
       "      <th>10</th>\n",
       "      <td>Europe</td>\n",
       "      <td>Denmark</td>\n",
       "      <td>2018</td>\n",
       "      <td>9097.0</td>\n",
       "      <td>12749.0</td>\n",
       "    </tr>\n",
       "    <tr>\n",
       "      <th>11</th>\n",
       "      <td>Europe</td>\n",
       "      <td>Denmark</td>\n",
       "      <td>2019</td>\n",
       "      <td>8847.0</td>\n",
       "      <td>13285.0</td>\n",
       "    </tr>\n",
       "    <tr>\n",
       "      <th>12</th>\n",
       "      <td>Africa</td>\n",
       "      <td>Djibouti</td>\n",
       "      <td>1995</td>\n",
       "      <td>5.0</td>\n",
       "      <td>21.0</td>\n",
       "    </tr>\n",
       "    <tr>\n",
       "      <th>13</th>\n",
       "      <td>Africa</td>\n",
       "      <td>Djibouti</td>\n",
       "      <td>2005</td>\n",
       "      <td>7.0</td>\n",
       "      <td>30.0</td>\n",
       "    </tr>\n",
       "    <tr>\n",
       "      <th>14</th>\n",
       "      <td>Africa</td>\n",
       "      <td>Djibouti</td>\n",
       "      <td>2010</td>\n",
       "      <td>18.0</td>\n",
       "      <td>51.0</td>\n",
       "    </tr>\n",
       "    <tr>\n",
       "      <th>15</th>\n",
       "      <td>Africa</td>\n",
       "      <td>Djibouti</td>\n",
       "      <td>2017</td>\n",
       "      <td>36.0</td>\n",
       "      <td>NaN</td>\n",
       "    </tr>\n",
       "    <tr>\n",
       "      <th>16</th>\n",
       "      <td>Africa</td>\n",
       "      <td>Djibouti</td>\n",
       "      <td>2018</td>\n",
       "      <td>57.0</td>\n",
       "      <td>NaN</td>\n",
       "    </tr>\n",
       "  </tbody>\n",
       "</table>\n",
       "</div>"
      ],
      "text/plain": [
       "   Continent                 Country  Year  Tourism_expenditure  Arrivals\n",
       "0     Africa  Dem. Rep. of the Congo  1995                  NaN      35.0\n",
       "1     Africa  Dem. Rep. of the Congo  2005                  3.0      61.0\n",
       "2     Africa  Dem. Rep. of the Congo  2010                 11.0      81.0\n",
       "3     Africa  Dem. Rep. of the Congo  2017                  6.0       NaN\n",
       "4     Africa  Dem. Rep. of the Congo  2018                 61.0       NaN\n",
       "5     Africa  Dem. Rep. of the Congo  2019                100.0       NaN\n",
       "6     Europe                 Denmark  1995               3691.0       NaN\n",
       "7     Europe                 Denmark  2005               5293.0    9178.0\n",
       "8     Europe                 Denmark  2010               5704.0    8744.0\n",
       "9     Europe                 Denmark  2017               8508.0   12426.0\n",
       "10    Europe                 Denmark  2018               9097.0   12749.0\n",
       "11    Europe                 Denmark  2019               8847.0   13285.0\n",
       "12    Africa                Djibouti  1995                  5.0      21.0\n",
       "13    Africa                Djibouti  2005                  7.0      30.0\n",
       "14    Africa                Djibouti  2010                 18.0      51.0\n",
       "15    Africa                Djibouti  2017                 36.0       NaN\n",
       "16    Africa                Djibouti  2018                 57.0       NaN"
      ]
     },
     "execution_count": 2,
     "metadata": {},
     "output_type": "execute_result"
    }
   ],
   "source": [
    "df = pd.read_csv(\"./data/test_data_v2.csv\", sep=\",\")\n",
    "df"
   ]
  },
  {
   "cell_type": "markdown",
   "id": "8ebea7d3-a94b-4e45-a675-19ee22537c14",
   "metadata": {},
   "source": [
    "**data describing methods**\n",
    "\n",
    "- `df.head()` : return first 5 entries as dataframe\n",
    "- `df.tail()` : return last 5 entries as dataframe\n",
    "- `df.describe()` : return numerical aggregation data on all numerical columns. "
   ]
  },
  {
   "cell_type": "code",
   "execution_count": 8,
   "id": "369139ba-9849-416d-b765-db72bc9499ef",
   "metadata": {},
   "outputs": [
    {
     "data": {
      "text/html": [
       "<div>\n",
       "<style scoped>\n",
       "    .dataframe tbody tr th:only-of-type {\n",
       "        vertical-align: middle;\n",
       "    }\n",
       "\n",
       "    .dataframe tbody tr th {\n",
       "        vertical-align: top;\n",
       "    }\n",
       "\n",
       "    .dataframe thead th {\n",
       "        text-align: right;\n",
       "    }\n",
       "</style>\n",
       "<table border=\"1\" class=\"dataframe\">\n",
       "  <thead>\n",
       "    <tr style=\"text-align: right;\">\n",
       "      <th></th>\n",
       "      <th>Continent</th>\n",
       "      <th>Country</th>\n",
       "      <th>Year</th>\n",
       "      <th>Tourism_expenditure</th>\n",
       "      <th>Arrivals</th>\n",
       "    </tr>\n",
       "  </thead>\n",
       "  <tbody>\n",
       "    <tr>\n",
       "      <th>0</th>\n",
       "      <td>Africa</td>\n",
       "      <td>Dem. Rep. of the Congo</td>\n",
       "      <td>1995</td>\n",
       "      <td>NaN</td>\n",
       "      <td>35.0</td>\n",
       "    </tr>\n",
       "    <tr>\n",
       "      <th>1</th>\n",
       "      <td>Africa</td>\n",
       "      <td>Dem. Rep. of the Congo</td>\n",
       "      <td>2005</td>\n",
       "      <td>3.0</td>\n",
       "      <td>61.0</td>\n",
       "    </tr>\n",
       "    <tr>\n",
       "      <th>2</th>\n",
       "      <td>Africa</td>\n",
       "      <td>Dem. Rep. of the Congo</td>\n",
       "      <td>2010</td>\n",
       "      <td>11.0</td>\n",
       "      <td>81.0</td>\n",
       "    </tr>\n",
       "    <tr>\n",
       "      <th>3</th>\n",
       "      <td>Africa</td>\n",
       "      <td>Dem. Rep. of the Congo</td>\n",
       "      <td>2017</td>\n",
       "      <td>6.0</td>\n",
       "      <td>NaN</td>\n",
       "    </tr>\n",
       "    <tr>\n",
       "      <th>4</th>\n",
       "      <td>Africa</td>\n",
       "      <td>Dem. Rep. of the Congo</td>\n",
       "      <td>2018</td>\n",
       "      <td>61.0</td>\n",
       "      <td>NaN</td>\n",
       "    </tr>\n",
       "  </tbody>\n",
       "</table>\n",
       "</div>"
      ],
      "text/plain": [
       "  Continent                 Country  Year  Tourism_expenditure  Arrivals\n",
       "0    Africa  Dem. Rep. of the Congo  1995                  NaN      35.0\n",
       "1    Africa  Dem. Rep. of the Congo  2005                  3.0      61.0\n",
       "2    Africa  Dem. Rep. of the Congo  2010                 11.0      81.0\n",
       "3    Africa  Dem. Rep. of the Congo  2017                  6.0       NaN\n",
       "4    Africa  Dem. Rep. of the Congo  2018                 61.0       NaN"
      ]
     },
     "execution_count": 8,
     "metadata": {},
     "output_type": "execute_result"
    }
   ],
   "source": [
    "df.head()"
   ]
  },
  {
   "cell_type": "code",
   "execution_count": 9,
   "id": "714a142e-8083-4ade-9e14-1fce7c3fbdf0",
   "metadata": {},
   "outputs": [
    {
     "data": {
      "text/html": [
       "<div>\n",
       "<style scoped>\n",
       "    .dataframe tbody tr th:only-of-type {\n",
       "        vertical-align: middle;\n",
       "    }\n",
       "\n",
       "    .dataframe tbody tr th {\n",
       "        vertical-align: top;\n",
       "    }\n",
       "\n",
       "    .dataframe thead th {\n",
       "        text-align: right;\n",
       "    }\n",
       "</style>\n",
       "<table border=\"1\" class=\"dataframe\">\n",
       "  <thead>\n",
       "    <tr style=\"text-align: right;\">\n",
       "      <th></th>\n",
       "      <th>Continent</th>\n",
       "      <th>Country</th>\n",
       "      <th>Year</th>\n",
       "      <th>Tourism_expenditure</th>\n",
       "      <th>Arrivals</th>\n",
       "    </tr>\n",
       "  </thead>\n",
       "  <tbody>\n",
       "    <tr>\n",
       "      <th>12</th>\n",
       "      <td>Africa</td>\n",
       "      <td>Djibouti</td>\n",
       "      <td>1995</td>\n",
       "      <td>5.0</td>\n",
       "      <td>21.0</td>\n",
       "    </tr>\n",
       "    <tr>\n",
       "      <th>13</th>\n",
       "      <td>Africa</td>\n",
       "      <td>Djibouti</td>\n",
       "      <td>2005</td>\n",
       "      <td>7.0</td>\n",
       "      <td>30.0</td>\n",
       "    </tr>\n",
       "    <tr>\n",
       "      <th>14</th>\n",
       "      <td>Africa</td>\n",
       "      <td>Djibouti</td>\n",
       "      <td>2010</td>\n",
       "      <td>18.0</td>\n",
       "      <td>51.0</td>\n",
       "    </tr>\n",
       "    <tr>\n",
       "      <th>15</th>\n",
       "      <td>Africa</td>\n",
       "      <td>Djibouti</td>\n",
       "      <td>2017</td>\n",
       "      <td>36.0</td>\n",
       "      <td>NaN</td>\n",
       "    </tr>\n",
       "    <tr>\n",
       "      <th>16</th>\n",
       "      <td>Africa</td>\n",
       "      <td>Djibouti</td>\n",
       "      <td>2018</td>\n",
       "      <td>57.0</td>\n",
       "      <td>NaN</td>\n",
       "    </tr>\n",
       "  </tbody>\n",
       "</table>\n",
       "</div>"
      ],
      "text/plain": [
       "   Continent   Country  Year  Tourism_expenditure  Arrivals\n",
       "12    Africa  Djibouti  1995                  5.0      21.0\n",
       "13    Africa  Djibouti  2005                  7.0      30.0\n",
       "14    Africa  Djibouti  2010                 18.0      51.0\n",
       "15    Africa  Djibouti  2017                 36.0       NaN\n",
       "16    Africa  Djibouti  2018                 57.0       NaN"
      ]
     },
     "execution_count": 9,
     "metadata": {},
     "output_type": "execute_result"
    }
   ],
   "source": [
    "df.tail()"
   ]
  },
  {
   "cell_type": "markdown",
   "id": "fc239bf4-b455-4166-b0c5-01b050862c01",
   "metadata": {},
   "source": [
    "### Dataframe properties\n",
    "\n",
    "- `df.shape` : returns rows x columns tuple of dataframe\n",
    "- `df.dtypes` : returns a series of the columns and explains their data types\n",
    "- `df.columns` : returns a index of the column names in the dataframe"
   ]
  },
  {
   "cell_type": "code",
   "execution_count": 6,
   "id": "638ad109-5efd-465f-89f9-3900dcac65d7",
   "metadata": {},
   "outputs": [
    {
     "data": {
      "text/plain": [
       "Continent               object\n",
       "Country                 object\n",
       "Year                     int64\n",
       "Tourism_expenditure    float64\n",
       "Arrivals               float64\n",
       "dtype: object"
      ]
     },
     "execution_count": 6,
     "metadata": {},
     "output_type": "execute_result"
    }
   ],
   "source": [
    "df.dtypes"
   ]
  },
  {
   "cell_type": "code",
   "execution_count": 7,
   "id": "2a4dcd6c-2132-4f5f-84b9-75354c054475",
   "metadata": {},
   "outputs": [
    {
     "data": {
      "text/plain": [
       "Index(['Continent', 'Country', 'Year', 'Tourism_expenditure', 'Arrivals'], dtype='object')"
      ]
     },
     "execution_count": 7,
     "metadata": {},
     "output_type": "execute_result"
    }
   ],
   "source": [
    "df.columns"
   ]
  },
  {
   "cell_type": "markdown",
   "id": "9c1ddfcc-5b84-4553-b29e-b41a04f47a45",
   "metadata": {},
   "source": [
    "### Dataframe indexing\n",
    "\n",
    "Using bracket notation we can access individual or multiple columns. \n",
    "\n",
    "Accessing a column by its column name returns a series, while accessing a list of column names returns a data frame. \n",
    "\n",
    "- `df[column_name]` : returns a series of the specified column. Returns `Series`\n",
    "- `df[[col1, col2, col3]]` : returns a dataframe including all the different columns. Returns `DataFrame`"
   ]
  },
  {
   "cell_type": "code",
   "execution_count": 10,
   "id": "2ad62d99-92da-45e2-ab8c-3542d04b538c",
   "metadata": {},
   "outputs": [
    {
     "data": {
      "text/plain": [
       "0     Africa\n",
       "1     Africa\n",
       "2     Africa\n",
       "3     Africa\n",
       "4     Africa\n",
       "5     Africa\n",
       "6     Europe\n",
       "7     Europe\n",
       "8     Europe\n",
       "9     Europe\n",
       "10    Europe\n",
       "11    Europe\n",
       "12    Africa\n",
       "13    Africa\n",
       "14    Africa\n",
       "15    Africa\n",
       "16    Africa\n",
       "Name: Continent, dtype: object"
      ]
     },
     "execution_count": 10,
     "metadata": {},
     "output_type": "execute_result"
    }
   ],
   "source": [
    "# returns series\n",
    "df['Continent'] "
   ]
  },
  {
   "cell_type": "code",
   "execution_count": 11,
   "id": "01d5b90b-2352-4da8-891e-6dca6530eaff",
   "metadata": {},
   "outputs": [
    {
     "data": {
      "text/html": [
       "<div>\n",
       "<style scoped>\n",
       "    .dataframe tbody tr th:only-of-type {\n",
       "        vertical-align: middle;\n",
       "    }\n",
       "\n",
       "    .dataframe tbody tr th {\n",
       "        vertical-align: top;\n",
       "    }\n",
       "\n",
       "    .dataframe thead th {\n",
       "        text-align: right;\n",
       "    }\n",
       "</style>\n",
       "<table border=\"1\" class=\"dataframe\">\n",
       "  <thead>\n",
       "    <tr style=\"text-align: right;\">\n",
       "      <th></th>\n",
       "      <th>Continent</th>\n",
       "      <th>Country</th>\n",
       "      <th>Year</th>\n",
       "    </tr>\n",
       "  </thead>\n",
       "  <tbody>\n",
       "    <tr>\n",
       "      <th>0</th>\n",
       "      <td>Africa</td>\n",
       "      <td>Dem. Rep. of the Congo</td>\n",
       "      <td>1995</td>\n",
       "    </tr>\n",
       "    <tr>\n",
       "      <th>1</th>\n",
       "      <td>Africa</td>\n",
       "      <td>Dem. Rep. of the Congo</td>\n",
       "      <td>2005</td>\n",
       "    </tr>\n",
       "    <tr>\n",
       "      <th>2</th>\n",
       "      <td>Africa</td>\n",
       "      <td>Dem. Rep. of the Congo</td>\n",
       "      <td>2010</td>\n",
       "    </tr>\n",
       "    <tr>\n",
       "      <th>3</th>\n",
       "      <td>Africa</td>\n",
       "      <td>Dem. Rep. of the Congo</td>\n",
       "      <td>2017</td>\n",
       "    </tr>\n",
       "    <tr>\n",
       "      <th>4</th>\n",
       "      <td>Africa</td>\n",
       "      <td>Dem. Rep. of the Congo</td>\n",
       "      <td>2018</td>\n",
       "    </tr>\n",
       "    <tr>\n",
       "      <th>5</th>\n",
       "      <td>Africa</td>\n",
       "      <td>Dem. Rep. of the Congo</td>\n",
       "      <td>2019</td>\n",
       "    </tr>\n",
       "    <tr>\n",
       "      <th>6</th>\n",
       "      <td>Europe</td>\n",
       "      <td>Denmark</td>\n",
       "      <td>1995</td>\n",
       "    </tr>\n",
       "    <tr>\n",
       "      <th>7</th>\n",
       "      <td>Europe</td>\n",
       "      <td>Denmark</td>\n",
       "      <td>2005</td>\n",
       "    </tr>\n",
       "    <tr>\n",
       "      <th>8</th>\n",
       "      <td>Europe</td>\n",
       "      <td>Denmark</td>\n",
       "      <td>2010</td>\n",
       "    </tr>\n",
       "    <tr>\n",
       "      <th>9</th>\n",
       "      <td>Europe</td>\n",
       "      <td>Denmark</td>\n",
       "      <td>2017</td>\n",
       "    </tr>\n",
       "    <tr>\n",
       "      <th>10</th>\n",
       "      <td>Europe</td>\n",
       "      <td>Denmark</td>\n",
       "      <td>2018</td>\n",
       "    </tr>\n",
       "    <tr>\n",
       "      <th>11</th>\n",
       "      <td>Europe</td>\n",
       "      <td>Denmark</td>\n",
       "      <td>2019</td>\n",
       "    </tr>\n",
       "    <tr>\n",
       "      <th>12</th>\n",
       "      <td>Africa</td>\n",
       "      <td>Djibouti</td>\n",
       "      <td>1995</td>\n",
       "    </tr>\n",
       "    <tr>\n",
       "      <th>13</th>\n",
       "      <td>Africa</td>\n",
       "      <td>Djibouti</td>\n",
       "      <td>2005</td>\n",
       "    </tr>\n",
       "    <tr>\n",
       "      <th>14</th>\n",
       "      <td>Africa</td>\n",
       "      <td>Djibouti</td>\n",
       "      <td>2010</td>\n",
       "    </tr>\n",
       "    <tr>\n",
       "      <th>15</th>\n",
       "      <td>Africa</td>\n",
       "      <td>Djibouti</td>\n",
       "      <td>2017</td>\n",
       "    </tr>\n",
       "    <tr>\n",
       "      <th>16</th>\n",
       "      <td>Africa</td>\n",
       "      <td>Djibouti</td>\n",
       "      <td>2018</td>\n",
       "    </tr>\n",
       "  </tbody>\n",
       "</table>\n",
       "</div>"
      ],
      "text/plain": [
       "   Continent                 Country  Year\n",
       "0     Africa  Dem. Rep. of the Congo  1995\n",
       "1     Africa  Dem. Rep. of the Congo  2005\n",
       "2     Africa  Dem. Rep. of the Congo  2010\n",
       "3     Africa  Dem. Rep. of the Congo  2017\n",
       "4     Africa  Dem. Rep. of the Congo  2018\n",
       "5     Africa  Dem. Rep. of the Congo  2019\n",
       "6     Europe                 Denmark  1995\n",
       "7     Europe                 Denmark  2005\n",
       "8     Europe                 Denmark  2010\n",
       "9     Europe                 Denmark  2017\n",
       "10    Europe                 Denmark  2018\n",
       "11    Europe                 Denmark  2019\n",
       "12    Africa                Djibouti  1995\n",
       "13    Africa                Djibouti  2005\n",
       "14    Africa                Djibouti  2010\n",
       "15    Africa                Djibouti  2017\n",
       "16    Africa                Djibouti  2018"
      ]
     },
     "execution_count": 11,
     "metadata": {},
     "output_type": "execute_result"
    }
   ],
   "source": [
    "df[['Continent', 'Country', 'Year']]"
   ]
  },
  {
   "cell_type": "markdown",
   "id": "9637147f-4b25-416b-969b-f9dc61be4d1d",
   "metadata": {},
   "source": [
    "### Dealing with Missing data\n",
    "\n",
    "- `df.isnull()` : returns a boolena dataframe where the element is `True` if null, `False` if not null\n",
    "- `df.dropna(subset=col_list)` : drops all missing data in the columns specified in the `col_list`, which is a list of the column names to drop from. "
   ]
  },
  {
   "cell_type": "markdown",
   "id": "aaa739fa-d928-4a08-b160-b9d2d1ebb92e",
   "metadata": {},
   "source": [
    "### Series Aggregation methods\n",
    "\n",
    "- `series.mean()` : returns the mean of the series\n",
    "- `series.max()` : returns the max of the series\n",
    "- `series.min()` : returns the min of the series"
   ]
  },
  {
   "cell_type": "markdown",
   "id": "3a7cd628-7c59-4f73-a6d6-e6cce202d3a4",
   "metadata": {
    "jp-MarkdownHeadingCollapsed": true
   },
   "source": [
    "### Series conditionals\n",
    "\n",
    "To find all values in a series that equal \"turtle\", we can write code like this: \n",
    "\n",
    "```python\n",
    "series == \"turtle\"\n",
    "```\n",
    "\n",
    "All boolean expressions with conditionals will return a **boolean series** where every value in the series is a boolean"
   ]
  },
  {
   "cell_type": "code",
   "execution_count": 12,
   "id": "c9b684ca-c226-422f-a564-ffe07914d6e4",
   "metadata": {},
   "outputs": [],
   "source": [
    "series = pd.Series([\"turtle\", \"potato\", \"turtle\", \"potato\"])"
   ]
  },
  {
   "cell_type": "code",
   "execution_count": 13,
   "id": "ddf09fc1-fa74-4f22-abc2-34808b745b33",
   "metadata": {
    "scrolled": true
   },
   "outputs": [
    {
     "data": {
      "text/plain": [
       "0     True\n",
       "1    False\n",
       "2     True\n",
       "3    False\n",
       "dtype: bool"
      ]
     },
     "execution_count": 13,
     "metadata": {},
     "output_type": "execute_result"
    }
   ],
   "source": [
    "series == \"turtle\""
   ]
  },
  {
   "cell_type": "markdown",
   "id": "75adc67d-8e31-4697-a7f8-c47c1d516195",
   "metadata": {},
   "source": [
    "### Numpy array basics\n",
    "\n"
   ]
  },
  {
   "cell_type": "markdown",
   "id": "767ebd9f-b287-4c8e-b8b4-2240ebbeec7d",
   "metadata": {},
   "source": [
    "#### Numpy array properties\n",
    "\n",
    "Here are some important properties on a numpy array:\n",
    "\n",
    "- `arr.dtype` : returns the data type of the array\n",
    "- `arr.ndim` : returns the number of dimensions of the array. Returns `int`\n",
    "- `arr.shape` : returns a tuple representing the size of each dimension in the array"
   ]
  },
  {
   "cell_type": "markdown",
   "id": "5ff35e46-fe17-46e4-b737-483d32f28d13",
   "metadata": {},
   "source": [
    "#### Creating numpy arrays\n",
    "\n",
    "For all these array creation methods, they return a numpy array, and for the parameter they take in, it can be either a single number or a tuple. \n",
    "\n",
    "- If single number: means the resulting array will be one-dimensional, and the number you pass in specifies the size of the array\n",
    "- If tuple of numbers: represents the dimensional shape\n",
    "\n",
    "So here are all the useful array creation methods:\n",
    "\n",
    "- `np.zeros()` : creates array where every element is 0\n",
    "- `np.ones()` : creates array where every element is 1\n",
    "- `np.empty()` : creates array where every element is empty\n",
    "- `np.arange(start, stop, step)` : creates an array where elements are drawn from this incrementing range"
   ]
  },
  {
   "cell_type": "code",
   "execution_count": 3,
   "id": "44df098a-527a-4070-9d02-27989bb30828",
   "metadata": {},
   "outputs": [
    {
     "name": "stdout",
     "output_type": "stream",
     "text": [
      "[0. 0. 0. 0. 0.]\n",
      "[1. 1. 1. 1. 1.]\n",
      "[1. 1. 1. 1. 1.]\n",
      "[1 2 3 4]\n"
     ]
    }
   ],
   "source": [
    "# LEVEL 1: 1D data\n",
    "\n",
    "print(np.zeros(5))\n",
    "print(np.ones(5))\n",
    "print(np.empty(5))\n",
    "print(np.arange(1, 5))"
   ]
  },
  {
   "cell_type": "code",
   "execution_count": 4,
   "id": "848fc54a-56d7-4add-9a2e-43dc0df8df99",
   "metadata": {},
   "outputs": [
    {
     "data": {
      "text/plain": [
       "array([[0., 0., 0., 0., 0.],\n",
       "       [0., 0., 0., 0., 0.],\n",
       "       [0., 0., 0., 0., 0.],\n",
       "       [0., 0., 0., 0., 0.],\n",
       "       [0., 0., 0., 0., 0.]])"
      ]
     },
     "execution_count": 4,
     "metadata": {},
     "output_type": "execute_result"
    }
   ],
   "source": [
    "# LEVEL 2: Multiple dimensions\n",
    "\n",
    "# to create an array with multiple dimensions, pass in a shape tuple into these methods\n",
    "\n",
    "np.zeros((5 , 5))"
   ]
  },
  {
   "cell_type": "markdown",
   "id": "5b4e01b6-038b-43f4-942c-2ab9c8705ced",
   "metadata": {},
   "source": [
    "#### Numpy data types casting\n",
    "\n",
    "**METHOD 1: add dtype property**\n",
    "\n",
    "To cast an array as soon as you create it, pass the `dtype=` keyword arg into the `np.array()` method. Here is the basic syntax:\n",
    "\n",
    "```python\n",
    "np.array(arr, dtype=data_type)\n",
    "```\n",
    "\n",
    "**METHOD 2: use asstype()**\n",
    "\n",
    "The `arr.astype(data_type)` method returns the array casted to the specified data type. "
   ]
  },
  {
   "cell_type": "code",
   "execution_count": 5,
   "id": "4f3f5fe2-0976-4bf7-a34b-4ea16778cb3a",
   "metadata": {},
   "outputs": [
    {
     "data": {
      "text/plain": [
       "dtype('int64')"
      ]
     },
     "execution_count": 5,
     "metadata": {},
     "output_type": "execute_result"
    }
   ],
   "source": [
    "# starts out as int array\n",
    "\n",
    "arr = np.array([1, 2, 3, 4])\n",
    "arr.dtype"
   ]
  },
  {
   "cell_type": "code",
   "execution_count": 9,
   "id": "35fe1b9f-5d39-4cdc-bfe7-43a4a0e8e063",
   "metadata": {},
   "outputs": [
    {
     "data": {
      "text/plain": [
       "dtype('float64')"
      ]
     },
     "execution_count": 9,
     "metadata": {},
     "output_type": "execute_result"
    }
   ],
   "source": [
    "# cast to float array\n",
    "\n",
    "new_arr = arr.astype(float)\n",
    "new_arr.dtype"
   ]
  },
  {
   "cell_type": "markdown",
   "id": "3a387913-db42-4cc1-a0cc-93e0c8da32e9",
   "metadata": {},
   "source": [
    "#### Reshaping data\n",
    "\n",
    "FOr reshaping data, all the methods below return a new modified array that has a different shape than the original, but it doesn't modify the original. \n",
    "\n",
    "- `arr.reshape(shape_tuple)` : takes in a tuple representing the sizes for each dimension and reshapes the array accordingly\n",
    "- `arr.ravel()` : flattens the array to 1 dimension\n",
    "- `arr.flatten()` : flattens the array to 1 dimension"
   ]
  },
  {
   "cell_type": "markdown",
   "id": "df2a8d5c-8df1-45ca-9703-a7f183e2aed7",
   "metadata": {},
   "source": [
    "#### Numpy aggregation methods\n",
    "\n",
    "Using numpy aggregation methods lives on the `np` object from numpy itself. There are different ways to change the aggregation behavior of these methods, depending on the `axis` property. \n",
    "\n",
    "- **default** : aggregates over all of the elements, returning a single value\n",
    "- **`axis=0`** : creates final aggregate value for each column. Returns an array, whose length is the number of columns. Aggregates down the rows to create a total for each column.\n",
    "- **`axis=1`** : creates final aggregate value for each row. Returns an array, whose length is the number of rows. Aggregates left to right on the columns to create a total for each row.\n",
    "\n",
    "And here are all the aggregation methods: \n",
    "\n",
    "- `np.sum(arr)` : gets the sum\n",
    "- `np.mean(arr)` : gets the mean\n",
    "- `np.min(arr)` : gets the min\n",
    "- `np.max(arr)` : gets the max"
   ]
  },
  {
   "cell_type": "code",
   "execution_count": 3,
   "id": "1a298ba8-a713-47a9-9136-2822e4c78f60",
   "metadata": {},
   "outputs": [
    {
     "data": {
      "text/plain": [
       "array([[ 0.        ,  0.71428571,  1.42857143,  2.14285714,  2.85714286],\n",
       "       [ 3.57142857,  4.28571429,  5.        ,  5.71428571,  6.42857143],\n",
       "       [ 7.14285714,  7.85714286,  8.57142857,  9.28571429, 10.        ]])"
      ]
     },
     "execution_count": 3,
     "metadata": {},
     "output_type": "execute_result"
    }
   ],
   "source": [
    "arr = np.linspace(0, 10, 15).reshape((3,5))\n",
    "arr"
   ]
  },
  {
   "cell_type": "code",
   "execution_count": null,
   "id": "53345cea-b3d4-4294-ad7d-7c4cdcde463a",
   "metadata": {},
   "outputs": [],
   "source": [
    "print(np.mean(arr))  # sums all elements\n",
    "print(np.mean(arr, axis=0)) # mean of each column (summing down by rows)\n",
    "print(np.mean(arr, axis=1)) # mean of each row (summing right by columns)"
   ]
  },
  {
   "cell_type": "code",
   "execution_count": 6,
   "id": "6a1fcca4-c447-46b0-9637-b62e50939e8d",
   "metadata": {},
   "outputs": [
    {
     "data": {
      "text/plain": [
       "1464"
      ]
     },
     "execution_count": 6,
     "metadata": {},
     "output_type": "execute_result"
    }
   ],
   "source": [
    "np.random.seed(71)\n",
    "np.sum(np.random.randint(10, 21, (1, 100)))"
   ]
  },
  {
   "cell_type": "markdown",
   "id": "6b7fda10-a49f-42db-92c4-867c8eaf6a07",
   "metadata": {
    "jp-MarkdownHeadingCollapsed": true
   },
   "source": [
    "## Describing univariate data"
   ]
  },
  {
   "cell_type": "markdown",
   "id": "99ff68a4-dbb1-4e56-be09-324b964203c6",
   "metadata": {
    "jp-MarkdownHeadingCollapsed": true
   },
   "source": [
    "### Intro to stats\n",
    "\n",
    "- **nominal data** : categorical data with no order to the data\n",
    "- **ordinal data** : categorical data with order to the data and labels\n",
    "- **continuous data** : numerical data that includes decimals\n",
    "- **discrete data** : numerical data that includes only integers or a finite collection of integers."
   ]
  },
  {
   "cell_type": "markdown",
   "id": "56ac9f7f-b54f-4c77-a2f9-ca328338d9b3",
   "metadata": {
    "jp-MarkdownHeadingCollapsed": true
   },
   "source": [
    "### Measures of central tendency\n",
    "\n",
    "Based on the skewness of the distribution, these facts are guaranteed:\n",
    "\n",
    "- **Symmetric** : mean = median\n",
    "- **Right skewed** : mean > median\n",
    "- **Left Skewed** : mean < median\n",
    "\n",
    "<div class=\"alert alert-info\">\n",
    "When data is skewed, the best measure of central tendency is the median and the best measure of spread is the IQR.\n",
    "</div>\n",
    "\n",
    "Here are the methods to get measures of central tendency: \n",
    "\n",
    "- `np.mean(arr)` : gets the mean of the data\n",
    "- `np.median(arr)` : gets the median of the data\n",
    "\n",
    "**Best measures of central tendency for each situation**\n",
    "\n",
    "- **Median** : when dealing with ordinal data or with skewed data\n",
    "- **Mean** : When dealing with evenly distributed data like in a normal distribution"
   ]
  },
  {
   "cell_type": "markdown",
   "id": "943165e4-8a4f-4edd-82d9-959969bdebec",
   "metadata": {},
   "source": [
    "### Measures of spread\n",
    "\n",
    "- **variance** : we can use the `np.var(arr)` method to get the variance of the data within a vector.\n",
    "- **standard deviation** : we can use the `np.std(arr)` method to get the standard deviation of the data within a vector.\n",
    "- **coefficient of variation** : the coefficient of variation is the standard deviation divided by the mean, $\\frac{\\sigma}{\\mu}$.\n",
    "\n",
    "<div class=\"alert alert-warning\">\n",
    "    If you try to calculate the coefficient of variation on standard scaled data, then you will get an error because standard scaled data always has a mean = 0 and variance = 1, thus 1 / 0 nets you undefined.\n",
    "</div>\n"
   ]
  },
  {
   "cell_type": "code",
   "execution_count": 4,
   "id": "84f4feb8-6d1c-4ea6-9943-2c3c850c666d",
   "metadata": {},
   "outputs": [
    {
     "name": "stdout",
     "output_type": "stream",
     "text": [
      "standard deviation: 1.0902109621927198\n",
      "variance: 1.1885599420851762\n",
      "coefficient of variation 3.4092197684483057\n"
     ]
    }
   ],
   "source": [
    "x = np.random.randn(20)\n",
    "\n",
    "print(\"standard deviation:\", np.std(x))\n",
    "print(\"variance:\", np.var(x))\n",
    "print(\"coefficient of variation\", np.std(x) / np.mean(x))"
   ]
  },
  {
   "cell_type": "markdown",
   "id": "1dedb3b4-bf68-47ea-90ef-fbcd55a6e0bc",
   "metadata": {},
   "source": [
    "### Getting better resolution\n",
    "\n",
    "We use **log transformation** to get better resolution on a plot where our data varies widely between magnitudes, like on a range from 1,000 - 350,000.\n",
    "\n",
    "- `np.log10(arr)` : applies base 10 log to all elements in the array. Returns new array\n",
    "- `np.log(arr)` : applies natural log to all elements in the array. Returns new array\n",
    "\n",
    "We want to apply the log 10 transformation on our features that vary widely in magnitude. "
   ]
  },
  {
   "cell_type": "markdown",
   "id": "3001ae40-565c-4d07-97bb-9c81bf0bb432",
   "metadata": {},
   "source": [
    "### Box plots\n",
    "\n",
    "Box plots help us see measures of spread and central tendency. It's unique shape tells us a lot about the data: \n",
    "\n",
    "- **bottom of box** : Q1, 25th percentile of data\n",
    "- **middle line** : Q2, the median, at 50th percentile of data\n",
    "- **top of box** : Q3, at 75th percentile of data\n",
    "- **bottom whisker** : $\\mathrm{Q1} - 1.5\\mathrm{IQR}$\n",
    "- **top whisker** : $\\mathrm{Q3} + 1.5\\mathrm{IQR}$ \n",
    "\n",
    "We consider a data point to be an outlier if it lies beyond the bounds of the bottom and top whiskers, or in other words, if it is greater than than $1.5(IQR)$ outside the bounds of the min and max"
   ]
  },
  {
   "cell_type": "code",
   "execution_count": 5,
   "id": "2b061c80-a689-4c38-be2f-305f7d47caf8",
   "metadata": {},
   "outputs": [
    {
     "data": {
      "text/plain": [
       "array([ 6, 18, 16,  9, 19, 14,  3,  5, 11,  4, 60])"
      ]
     },
     "execution_count": 5,
     "metadata": {},
     "output_type": "execute_result"
    }
   ],
   "source": [
    "arr = np.array([*np.random.randint(3, 20, 10), 60])\n",
    "arr"
   ]
  },
  {
   "cell_type": "code",
   "execution_count": 11,
   "id": "67843972-3f8c-4c7d-a184-4aed12811e34",
   "metadata": {},
   "outputs": [
    {
     "data": {
      "image/png": "[encoded data removed]",
      "text/plain": [
       "<Figure size 400x300 with 1 Axes>"
      ]
     },
     "metadata": {},
     "output_type": "display_data"
    }
   ],
   "source": [
    "plt.figure(figsize=(4,3))\n",
    "plt.boxplot(arr)\n",
    "plt.show()"
   ]
  },
  {
   "cell_type": "markdown",
   "id": "360949df-800c-49db-ad11-a945e8cb123d",
   "metadata": {},
   "source": [
    "## Bivariate data"
   ]
  },
  {
   "cell_type": "markdown",
   "id": "41b8e5de-d3ec-4ade-9d36-ce90b4c31147",
   "metadata": {},
   "source": [
    "### Correlation coefficient\n",
    "\n",
    "Use the `np.corrcoef(x,y)` method to return a matrix of the two fields and how they correlate with each other. \n",
    "\n",
    "You can then create a scatterplot of the data with `plt.scatter(x, y)` to fact check the correlation."
   ]
  },
  {
   "cell_type": "code",
   "execution_count": null,
   "id": "e593a061-53c3-4c18-9b7c-f528fbe34185",
   "metadata": {},
   "outputs": [],
   "source": [
    "\n",
    "def create_correlation_heatmap(dataframe: pd.DataFrame):\n",
    "    # 1. clean up dataframe to have numerical data only and drop null rows\n",
    "    numerical_df = dataframe[dataframe.select_dtypes(include='number', exclude='object').columns]\n",
    "    numerical_df = numerical_df.dropna()\n",
    "    cols = list(numerical_df.columns)\n",
    "\n",
    "    #2. run correlation coefficient matrix\n",
    "    corr_matrix = np.corrcoef(numerical_df[cols], rowvar=False)\n",
    "    mask = np.triu(corr_matrix)\n",
    "\n",
    "    #3. plot heatmap\n",
    "    sns.heatmap(corr_matrix, cmap='coolwarm', vmin=-1, vmax=1,\n",
    "                annot=True, fmt='.2f', xticklabels=cols[:-1], yticklabels=['']+cols[1:],\n",
    "            mask = mask)\n",
    "    plt.tick_params(size = 0, labelsize = 12)\n",
    "    plt.xticks(rotation = 90)\n",
    "    plt.show()"
   ]
  },
  {
   "cell_type": "markdown",
   "id": "a77eab6f-fe09-4ecc-9e75-7631eec89cb9",
   "metadata": {},
   "source": [
    "#### Creating a correlation heatmap\n",
    "\n",
    "With the method below, we can clean up a dataframe data, make a correlation matrix from it, and then plot it's heatmap easily"
   ]
  },
  {
   "cell_type": "code",
   "execution_count": 1,
   "id": "f38f4f20-907f-4c29-a3b8-e84d83da5587",
   "metadata": {},
   "outputs": [
    {
     "ename": "NameError",
     "evalue": "name 'pd' is not defined",
     "output_type": "error",
     "traceback": [
      "\u001b[0;31m---------------------------------------------------------------------------\u001b[0m",
      "\u001b[0;31mNameError\u001b[0m                                 Traceback (most recent call last)",
      "Cell \u001b[0;32mIn[1], line 1\u001b[0m\n\u001b[0;32m----> 1\u001b[0m \u001b[38;5;28;01mdef\u001b[39;00m \u001b[38;5;21mcreate_correlation_heatmap\u001b[39m(dataframe: \u001b[43mpd\u001b[49m\u001b[38;5;241m.\u001b[39mDataFrame):\n\u001b[1;32m      2\u001b[0m     numerical_df \u001b[38;5;241m=\u001b[39m df\u001b[38;5;241m.\u001b[39mselect_dtypes(include\u001b[38;5;241m=\u001b[39m\u001b[38;5;124m'\u001b[39m\u001b[38;5;124mnumber\u001b[39m\u001b[38;5;124m'\u001b[39m)\n\u001b[1;32m      3\u001b[0m     corr_matrix \u001b[38;5;241m=\u001b[39m dataframe\u001b[38;5;241m.\u001b[39mcorr()\n",
      "\u001b[0;31mNameError\u001b[0m: name 'pd' is not defined"
     ]
    }
   ],
   "source": [
    "def create_correlation_heatmap(dataframe: pd.DataFrame):\n",
    "    # 1. include only numerical columns\n",
    "    numerical_df = dataframe[dataframe.select_dtypes(include='number', exclude='object').columns]\n",
    "\n",
    "    # 2. drop na\n",
    "    numerical_df = numerical_df.dropna()\n",
    "    cols = list(numerical_df.columns)\n",
    "\n",
    "    # 3. create correlation matrix\n",
    "    corr_matrix = np.corrcoef(numerical_df[cols], rowvar=False)\n",
    "    mask = np.triu(corr_matrix)\n",
    "\n",
    "    # 4. plot\n",
    "    sns.heatmap(corr_matrix, cmap='coolwarm', vmin=-1, vmax=1,\n",
    "                annot=True, fmt='.2f', xticklabels=cols[:-1], yticklabels=['']+cols[1:],\n",
    "            mask = mask)\n",
    "    plt.tick_params(size = 0, labelsize = 12)\n",
    "    plt.xticks(rotation = 90)\n",
    "    plt.show()"
   ]
  },
  {
   "cell_type": "markdown",
   "id": "3809b8cd-f2a5-4b9d-bbe5-425f1ccbce7e",
   "metadata": {},
   "source": [
    "### Feature Scaling\n",
    "\n",
    "We want to ensure that all features in a dataset have a similar range, on the level of $-1 \\le x \\le 1$. \n",
    "\n",
    "To do this, we divide each value of a feature by the range of the feature, like so: $\\frac{x}{s}$\n",
    "\n",
    "**Motivation**\n",
    "\n",
    "Why do we want to do feature scaling? Imagine you have a set of three students: \n",
    "\n",
    "- Student A: 1400 SAT, 4.0 GPA\n",
    "- Student B: 1400 SAT, 2.0 GPA\n",
    "- Student C: 1460 SAT, 4.0 GPA\n",
    "\n",
    "We would say that Student A and C are more similar, since they have the same GPA, and similar SAT scores, but that's not what happens here. \n",
    "\n",
    "The change is weighted more towards SAT because it lies on a range of 0-1600, while the GPA is on a range of 0-4.\n",
    "\n",
    "**Standard scaling**\n",
    "\n",
    "Standard scaling fits features to a normal distribution, making each feature have a mean $\\mu=0$ and a standard deviation $\\sigma=1$\n",
    "\n",
    "The formula for standard scaling is this: \n",
    "\n",
    "$$\\frac{x - \\mu}{\\sigma}$$\n",
    "\n",
    "You subtract the mean from each feature value, and then divide that by the standard deviation.\n",
    "\n",
    "This is the exact same thing as the Z-score. It returns the z-score of each feature value, about how many standard deviations the observation is from the mean.\n",
    "\n",
    "<div class=\"alert alert-info\">\n",
    "    Each feature scaled with standard scaling will always have a mean = 0 and standard deviation = 1.\n",
    "</div>\n",
    "\n",
    "**Min/max scaling**\n",
    "\n",
    "Min max scaling follows this formula:\n",
    "\n",
    "$$\\frac{x - min}{range}$$\n",
    "\n",
    "What's important about this is that all scaled values will be within the range 0-1\n",
    "\n"
   ]
  },
  {
   "cell_type": "code",
   "execution_count": 1,
   "id": "ed78d747-5d5e-4fa2-80f9-7d4c6052ec4c",
   "metadata": {},
   "outputs": [
    {
     "data": {
      "text/plain": [
       "[(1.1666666666666667, 1.0),\n",
       " (1.1666666666666667, 0.5),\n",
       " (1.2166666666666666, 1.0)]"
      ]
     },
     "execution_count": 1,
     "metadata": {},
     "output_type": "execute_result"
    }
   ],
   "source": [
    "student_a = (1400, 4)\n",
    "student_b = (1400, 2)\n",
    "student_c = (1460, 4)\n",
    "\n",
    "students = [student_a, student_b, student_c]\n",
    "\n",
    "# 1. GET ranges\n",
    "SAT_RANGE = 1600 - 400\n",
    "GPA_RANGE = 4 - 0\n",
    "\n",
    "# 2. Scale by range\n",
    "scaled_students = [(x[0]/SAT_RANGE, x[1]/GPA_RANGE) for x in students]\n",
    "scaled_students"
   ]
  },
  {
   "cell_type": "code",
   "execution_count": 14,
   "id": "ce84ff29-abd2-40aa-817d-2f8cf0e48ed3",
   "metadata": {},
   "outputs": [
    {
     "data": {
      "text/plain": [
       "[0.5, 0.05, 0.502]"
      ]
     },
     "execution_count": 14,
     "metadata": {},
     "output_type": "execute_result"
    }
   ],
   "source": [
    "import math\n",
    "\n",
    "def norm(x1, y1, x2, y2):\n",
    "    return round(math.sqrt((x2 - x1)**2 + (y2-y1)**2), 3)\n",
    "\n",
    "distances = [\n",
    "    norm(*scaled_students[0], *scaled_students[1]), # student A vs student B\n",
    "    norm(*scaled_students[0], *scaled_students[2]), # student A vs student C\n",
    "    norm(*scaled_students[1], *scaled_students[2])  # student B vs student C\n",
    "]\n",
    "\n",
    "# from the distances, we can see student A is closest to student C\n",
    "distances"
   ]
  },
  {
   "cell_type": "markdown",
   "id": "7c72f643-7501-4f56-b9ff-62df94f0734a",
   "metadata": {},
   "source": [
    "Now let's do an example with standard scaling."
   ]
  },
  {
   "cell_type": "code",
   "execution_count": 17,
   "id": "7e78ab40-fdd4-43ab-8d60-8f9c2ac60bcc",
   "metadata": {},
   "outputs": [],
   "source": [
    "sat_scores = np.array([1400, 1460, 1400, 1200])\n",
    "gpa = np.array([3.5, 2.5, 4.0, 3.8])\n",
    "\n",
    "def feature_scale(arr):\n",
    "    return (arr - np.mean(arr))/np.std(arr)\n",
    "\n",
    "feature_scaled_sat = feature_scale(sat_scores)\n",
    "feature_scaled_gpa = feature_scale(gpa)"
   ]
  },
  {
   "cell_type": "code",
   "execution_count": 22,
   "id": "98e543a9-0664-41f1-ac95-31a92bc2f6bb",
   "metadata": {},
   "outputs": [
    {
     "name": "stdout",
     "output_type": "stream",
     "text": [
      "[ 0.35583     0.96582428  0.35583    -1.67748427]\n",
      "[ 0.086711   -1.64750894  0.95382097  0.60697698]\n"
     ]
    }
   ],
   "source": [
    "print(feature_scaled_sat)\n",
    "print(feature_scaled_gpa)"
   ]
  },
  {
   "cell_type": "code",
   "execution_count": 21,
   "id": "37468389-aa03-4e9b-9e6c-9d7152281664",
   "metadata": {},
   "outputs": [
    {
     "data": {
      "image/png": "[encoded data removed]",
      "text/plain": [
       "<Figure size 300x300 with 1 Axes>"
      ]
     },
     "metadata": {},
     "output_type": "display_data"
    }
   ],
   "source": [
    "plt.figure(figsize=(3, 3))\n",
    "plt.scatter(feature_scaled_sat, feature_scaled_gpa)\n",
    "plt.xlabel(\"SAT\")\n",
    "plt.ylabel(\"GPA\")\n",
    "plt.show()"
   ]
  },
  {
   "cell_type": "markdown",
   "id": "7f456df0-9208-4d0d-98e9-0d9900132f3a",
   "metadata": {},
   "source": [
    "#### Feature scaling with standard scaler\n",
    "\n",
    "We can get access to a standard scaler through the sklearn library, like so: \n",
    "\n",
    "```python\n",
    "from sklearn.preprocessing import StandardScaler as SS\n",
    "standard_scaler = SS()\n",
    "```\n",
    "\n",
    "- `ss.fit_transform(df)` : takes in a dataframe or another 2D array, and then feature scales all the feature columns. It returns the scaled dataframe or array.\n",
    "- `ss.fit(df)` : calculates mean and standard deviation of data and stores it in the `ss` object. Returns `None`\n",
    "- `ss.transfom(df)` : feature scales the data after you call `ss.fit()`. Only does this for standard scaler, but applies fitted parameters to data\n",
    "\n",
    "These three methods do different things depending on which object instance of sklearn you use. Here is how they work in general: \n",
    "\n",
    "- `.fit()` : fits the data to the model\n",
    "- `.transform()` : transforms the model\n",
    "- `.fit_transform()` : fits the data to the model, and then returns the transformed data."
   ]
  },
  {
   "cell_type": "code",
   "execution_count": 2,
   "id": "6082b498-bdf9-479a-a56e-11ccf190d495",
   "metadata": {},
   "outputs": [],
   "source": [
    "from sklearn.preprocessing import StandardScaler"
   ]
  },
  {
   "cell_type": "code",
   "execution_count": 19,
   "id": "733f8e3a-c7fe-4c40-b02e-e9ed0327a41e",
   "metadata": {},
   "outputs": [
    {
     "data": {
      "text/html": [
       "<div>\n",
       "<style scoped>\n",
       "    .dataframe tbody tr th:only-of-type {\n",
       "        vertical-align: middle;\n",
       "    }\n",
       "\n",
       "    .dataframe tbody tr th {\n",
       "        vertical-align: top;\n",
       "    }\n",
       "\n",
       "    .dataframe thead th {\n",
       "        text-align: right;\n",
       "    }\n",
       "</style>\n",
       "<table border=\"1\" class=\"dataframe\">\n",
       "  <thead>\n",
       "    <tr style=\"text-align: right;\">\n",
       "      <th></th>\n",
       "      <th>SAT score</th>\n",
       "      <th>GPA</th>\n",
       "    </tr>\n",
       "  </thead>\n",
       "  <tbody>\n",
       "    <tr>\n",
       "      <th>0</th>\n",
       "      <td>1400.0</td>\n",
       "      <td>3.5</td>\n",
       "    </tr>\n",
       "    <tr>\n",
       "      <th>1</th>\n",
       "      <td>1460.0</td>\n",
       "      <td>2.5</td>\n",
       "    </tr>\n",
       "    <tr>\n",
       "      <th>2</th>\n",
       "      <td>1400.0</td>\n",
       "      <td>4.0</td>\n",
       "    </tr>\n",
       "    <tr>\n",
       "      <th>3</th>\n",
       "      <td>1200.0</td>\n",
       "      <td>3.8</td>\n",
       "    </tr>\n",
       "  </tbody>\n",
       "</table>\n",
       "</div>"
      ],
      "text/plain": [
       "   SAT score  GPA\n",
       "0     1400.0  3.5\n",
       "1     1460.0  2.5\n",
       "2     1400.0  4.0\n",
       "3     1200.0  3.8"
      ]
     },
     "execution_count": 19,
     "metadata": {},
     "output_type": "execute_result"
    }
   ],
   "source": [
    "sat_scores = np.array([1400, 1460, 1400, 1200])\n",
    "gpa = np.array([3.5, 2.5, 4.0, 3.8])\n",
    "\n",
    "data = np.vstack([sat_scores, gpa]).T\n",
    "students = pd.DataFrame(data=data, columns=[\"SAT score\", \"GPA\"])\n",
    "students"
   ]
  },
  {
   "cell_type": "code",
   "execution_count": 20,
   "id": "b9aa5161-ec2d-42c4-a98e-a72270dc8bcd",
   "metadata": {},
   "outputs": [],
   "source": [
    "standard_scaler = StandardScaler()"
   ]
  },
  {
   "cell_type": "code",
   "execution_count": 25,
   "id": "03ed7d81-ac5e-4dfe-ab37-cb5a2598cfe0",
   "metadata": {},
   "outputs": [],
   "source": [
    "scaled_df = standard_scaler.fit_transform(data)"
   ]
  },
  {
   "cell_type": "code",
   "execution_count": 26,
   "id": "c6d45587-eee2-449e-b668-267fdce43734",
   "metadata": {},
   "outputs": [
    {
     "data": {
      "text/plain": [
       "array([[ 0.35583   ,  0.086711  ],\n",
       "       [ 0.96582428, -1.64750894],\n",
       "       [ 0.35583   ,  0.95382097],\n",
       "       [-1.67748427,  0.60697698]])"
      ]
     },
     "execution_count": 26,
     "metadata": {},
     "output_type": "execute_result"
    }
   ],
   "source": [
    "scaled_df"
   ]
  },
  {
   "cell_type": "markdown",
   "id": "2d72df27-5c60-4cca-955a-552f7fc1b6c9",
   "metadata": {},
   "source": [
    "## Modeling"
   ]
  },
  {
   "cell_type": "markdown",
   "id": "a8e49d5e-a062-490e-ae89-ec0202d9667d",
   "metadata": {},
   "source": [
    "### Linear regression\n",
    "\n",
    "For linear regression, the hypothesis will be a linear equation with any amount of features. This can be univariate or multivariate linear regression: \n",
    "\n",
    "$$h_\\beta (x) = \\beta_0 + \\beta_1 x $$\n",
    "$$ h_\\beta (x) = \\beta_0 + \\beta_1 x_1 + \\beta_2 x_2 + ... $$\n",
    "\n",
    "The goal in linear regression is to minimize the squared error consisting of all the data points: \n",
    "\n",
    "$$C = \\sum (\\hat{y} - y)^2$$\n",
    "\n",
    "**SKLearn linear regression**\n",
    "\n",
    "1. Import the `LinearRegression` class and instantiate it\n",
    "\n",
    "    ```python\n",
    "    from sklearn.linear_model import LinearRegression as LR\n",
    "    lr = LR()\n",
    "    ```\n",
    "    \n",
    "2. Fit the model to the data using `lr.fit()`\n",
    "\n",
    "    ```python\n",
    "    lr.fit(x, y)\n",
    "    ```\n",
    "    \n",
    "3. Get the predicted data $\\hat y$ back with `lr.predict()`\n",
    "\n",
    "   ```python\n",
    "   y_hat = lr.predict(x)\n",
    "   ```\n",
    "\n",
    "Here are the methods and properties available on the linear regression instance: \n",
    "\n",
    "- `lr.coef_` : the 2D matrix of coefficients for the features (parameters)\n",
    "- `lr.intercept_` : the 1D array of intercepts\n",
    "- `lr.score(x, y)` : returns an $R^2$ score for the data, showing how well the model's features fit the target.\n",
    "- `lr.fit(x, y)` : fits data to linear regression model\n",
    "- `lr.predict(x)` : returns the array of predictions that the model makes\n",
    "\n",
    "**Coefficient of determination**\n",
    "\n",
    "THe coefficient of determination is $R^2$, and has bounds $(-\\infty, 1]$. \n",
    "\n",
    "*ONLY* in two dimensions, then you have a correlation coefficient $r$ which is just the square root of the coefficient of determination. \n",
    "\n",
    "$$r = \\sqrt{R^2}$$\n",
    "\n",
    "The null model is just predicting the mean, which means that the null model has an $R^2$ value = 0\n",
    "\n",
    "\n",
    "**Mean squared error**\n",
    "\n",
    "MSE is a better error metric for models created based on the exact same data.\n",
    "\n",
    "You can only compare model performance with MSE if the models are based on the same data.\n",
    "\n",
    "This is how we'll use scikit learn to do meane squared error: \n",
    "\n",
    "1. Import the `mean_squared_error()` method from scikit learn\n",
    "\n",
    "   ```python\n",
    "   from sklearn.metrics import mean_squared_error\n",
    "   ```\n",
    "\n",
    "2. The method takes in two arguments: the model's prediction and the expected values. Both should be numpy arrays\n",
    "\n",
    "    ```python\n",
    "    mean_squared_error(y_hat, y)\n",
    "    ```\n",
    "**Euclidian squared distance**\n",
    "\n",
    "THe euclidean squared distance is just the distance formula squared. Essentially we do it because we don't need to square root everything, making ti less computationally expensive to compute. \n",
    "\n",
    "**Coefficient of variation**\n",
    "\n",
    "THe coefficient of variation is another way to tell how spread out our data is. It's just the standard deviation divided by mean, and then we multiply by 100 to get a percentage. \n",
    "\n",
    "It's useful because it works no matter whether your data is scaled or unscaled. \n",
    "\n",
    "$$CV = \\frac{\\mathrm{standard \\ deviation}}{\\mathrm{mean}} \\cdot 100$$\n",
    "\n",
    "- A low CV means the data points tends to be close to the mean\n",
    "- A high CV means the data points tend to be farther away from the mean, spread out over a wide range.\n",
    "\n",
    "**Null model**\n",
    "\n",
    "The null model will just predict that every point is equal to the mean, giving a straight line. Then from there, we can get the coefficient R^2, which is the coefficient of determination.\n",
    "\n",
    "$$R^2 = 1 - \\frac{\\mathrm{Sum \\ of \\  actual \\ squared \\  errors}}{\\mathrm{Sum\\  of\\  squared\\  errors\\  using \\ \\ null\\  model}}$$\n",
    "\n",
    "You can also think of it like this: \n",
    "\n",
    "$$R^2 = 1 - \\frac{\\sum (\\hat y - y)^2}{\\sum (\\hat y - \\mu)^2}$$"
   ]
  },
  {
   "cell_type": "code",
   "execution_count": 3,
   "id": "62bbf963-bb98-4026-81eb-ae5857b6c9aa",
   "metadata": {},
   "outputs": [],
   "source": [
    "# 1. import the linear regression object\n",
    "from sklearn.linear_model import LinearRegression as LR"
   ]
  },
  {
   "cell_type": "code",
   "execution_count": 7,
   "id": "59cf69ec-7517-40bd-99f2-8f4f52d54ab9",
   "metadata": {},
   "outputs": [
    {
     "data": {
      "image/png": "[encoded data removed]",
      "text/plain": [
       "<Figure size 300x300 with 1 Axes>"
      ]
     },
     "metadata": {},
     "output_type": "display_data"
    }
   ],
   "source": [
    "# 2. create data\n",
    "np.random.seed(146)\n",
    "x = np.random.normal(size=(10,1))\n",
    "noise_strength = 0.5\n",
    "noise = np.random.normal(scale=noise_strength, size=(10,1))\n",
    "y = 1 + 2*x + noise\n",
    "plt.figure(figsize=(3,3))\n",
    "plt.scatter(x,y, label='Original data', color='k')\n",
    "plt.show()"
   ]
  },
  {
   "cell_type": "code",
   "execution_count": 8,
   "id": "5ffc8373-62ac-400d-984b-20294e8fa4b0",
   "metadata": {},
   "outputs": [
    {
     "data": {
      "text/html": [
       "<style>#sk-container-id-1 {\n",
       "  /* Definition of color scheme common for light and dark mode */\n",
       "  --sklearn-color-text: black;\n",
       "  --sklearn-color-line: gray;\n",
       "  /* Definition of color scheme for unfitted estimators */\n",
       "  --sklearn-color-unfitted-level-0: #fff5e6;\n",
       "  --sklearn-color-unfitted-level-1: #f6e4d2;\n",
       "  --sklearn-color-unfitted-level-2: #ffe0b3;\n",
       "  --sklearn-color-unfitted-level-3: chocolate;\n",
       "  /* Definition of color scheme for fitted estimators */\n",
       "  --sklearn-color-fitted-level-0: #f0f8ff;\n",
       "  --sklearn-color-fitted-level-1: #d4ebff;\n",
       "  --sklearn-color-fitted-level-2: #b3dbfd;\n",
       "  --sklearn-color-fitted-level-3: cornflowerblue;\n",
       "\n",
       "  /* Specific color for light theme */\n",
       "  --sklearn-color-text-on-default-background: var(--sg-text-color, var(--theme-code-foreground, var(--jp-content-font-color1, black)));\n",
       "  --sklearn-color-background: var(--sg-background-color, var(--theme-background, var(--jp-layout-color0, white)));\n",
       "  --sklearn-color-border-box: var(--sg-text-color, var(--theme-code-foreground, var(--jp-content-font-color1, black)));\n",
       "  --sklearn-color-icon: #696969;\n",
       "\n",
       "  @media (prefers-color-scheme: dark) {\n",
       "    /* Redefinition of color scheme for dark theme */\n",
       "    --sklearn-color-text-on-default-background: var(--sg-text-color, var(--theme-code-foreground, var(--jp-content-font-color1, white)));\n",
       "    --sklearn-color-background: var(--sg-background-color, var(--theme-background, var(--jp-layout-color0, #111)));\n",
       "    --sklearn-color-border-box: var(--sg-text-color, var(--theme-code-foreground, var(--jp-content-font-color1, white)));\n",
       "    --sklearn-color-icon: #878787;\n",
       "  }\n",
       "}\n",
       "\n",
       "#sk-container-id-1 {\n",
       "  color: var(--sklearn-color-text);\n",
       "}\n",
       "\n",
       "#sk-container-id-1 pre {\n",
       "  padding: 0;\n",
       "}\n",
       "\n",
       "#sk-container-id-1 input.sk-hidden--visually {\n",
       "  border: 0;\n",
       "  clip: rect(1px 1px 1px 1px);\n",
       "  clip: rect(1px, 1px, 1px, 1px);\n",
       "  height: 1px;\n",
       "  margin: -1px;\n",
       "  overflow: hidden;\n",
       "  padding: 0;\n",
       "  position: absolute;\n",
       "  width: 1px;\n",
       "}\n",
       "\n",
       "#sk-container-id-1 div.sk-dashed-wrapped {\n",
       "  border: 1px dashed var(--sklearn-color-line);\n",
       "  margin: 0 0.4em 0.5em 0.4em;\n",
       "  box-sizing: border-box;\n",
       "  padding-bottom: 0.4em;\n",
       "  background-color: var(--sklearn-color-background);\n",
       "}\n",
       "\n",
       "#sk-container-id-1 div.sk-container {\n",
       "  /* jupyter's `normalize.less` sets `[hidden] { display: none; }`\n",
       "     but bootstrap.min.css set `[hidden] { display: none !important; }`\n",
       "     so we also need the `!important` here to be able to override the\n",
       "     default hidden behavior on the sphinx rendered scikit-learn.org.\n",
       "     See: https://github.com/scikit-learn/scikit-learn/issues/21755 */\n",
       "  display: inline-block !important;\n",
       "  position: relative;\n",
       "}\n",
       "\n",
       "#sk-container-id-1 div.sk-text-repr-fallback {\n",
       "  display: none;\n",
       "}\n",
       "\n",
       "div.sk-parallel-item,\n",
       "div.sk-serial,\n",
       "div.sk-item {\n",
       "  /* draw centered vertical line to link estimators */\n",
       "  background-image: linear-gradient(var(--sklearn-color-text-on-default-background), var(--sklearn-color-text-on-default-background));\n",
       "  background-size: 2px 100%;\n",
       "  background-repeat: no-repeat;\n",
       "  background-position: center center;\n",
       "}\n",
       "\n",
       "/* Parallel-specific style estimator block */\n",
       "\n",
       "#sk-container-id-1 div.sk-parallel-item::after {\n",
       "  content: \"\";\n",
       "  width: 100%;\n",
       "  border-bottom: 2px solid var(--sklearn-color-text-on-default-background);\n",
       "  flex-grow: 1;\n",
       "}\n",
       "\n",
       "#sk-container-id-1 div.sk-parallel {\n",
       "  display: flex;\n",
       "  align-items: stretch;\n",
       "  justify-content: center;\n",
       "  background-color: var(--sklearn-color-background);\n",
       "  position: relative;\n",
       "}\n",
       "\n",
       "#sk-container-id-1 div.sk-parallel-item {\n",
       "  display: flex;\n",
       "  flex-direction: column;\n",
       "}\n",
       "\n",
       "#sk-container-id-1 div.sk-parallel-item:first-child::after {\n",
       "  align-self: flex-end;\n",
       "  width: 50%;\n",
       "}\n",
       "\n",
       "#sk-container-id-1 div.sk-parallel-item:last-child::after {\n",
       "  align-self: flex-start;\n",
       "  width: 50%;\n",
       "}\n",
       "\n",
       "#sk-container-id-1 div.sk-parallel-item:only-child::after {\n",
       "  width: 0;\n",
       "}\n",
       "\n",
       "/* Serial-specific style estimator block */\n",
       "\n",
       "#sk-container-id-1 div.sk-serial {\n",
       "  display: flex;\n",
       "  flex-direction: column;\n",
       "  align-items: center;\n",
       "  background-color: var(--sklearn-color-background);\n",
       "  padding-right: 1em;\n",
       "  padding-left: 1em;\n",
       "}\n",
       "\n",
       "\n",
       "/* Toggleable style: style used for estimator/Pipeline/ColumnTransformer box that is\n",
       "clickable and can be expanded/collapsed.\n",
       "- Pipeline and ColumnTransformer use this feature and define the default style\n",
       "- Estimators will overwrite some part of the style using the `sk-estimator` class\n",
       "*/\n",
       "\n",
       "/* Pipeline and ColumnTransformer style (default) */\n",
       "\n",
       "#sk-container-id-1 div.sk-toggleable {\n",
       "  /* Default theme specific background. It is overwritten whether we have a\n",
       "  specific estimator or a Pipeline/ColumnTransformer */\n",
       "  background-color: var(--sklearn-color-background);\n",
       "}\n",
       "\n",
       "/* Toggleable label */\n",
       "#sk-container-id-1 label.sk-toggleable__label {\n",
       "  cursor: pointer;\n",
       "  display: block;\n",
       "  width: 100%;\n",
       "  margin-bottom: 0;\n",
       "  padding: 0.5em;\n",
       "  box-sizing: border-box;\n",
       "  text-align: center;\n",
       "}\n",
       "\n",
       "#sk-container-id-1 label.sk-toggleable__label-arrow:before {\n",
       "  /* Arrow on the left of the label */\n",
       "  content: \"▸\";\n",
       "  float: left;\n",
       "  margin-right: 0.25em;\n",
       "  color: var(--sklearn-color-icon);\n",
       "}\n",
       "\n",
       "#sk-container-id-1 label.sk-toggleable__label-arrow:hover:before {\n",
       "  color: var(--sklearn-color-text);\n",
       "}\n",
       "\n",
       "/* Toggleable content - dropdown */\n",
       "\n",
       "#sk-container-id-1 div.sk-toggleable__content {\n",
       "  max-height: 0;\n",
       "  max-width: 0;\n",
       "  overflow: hidden;\n",
       "  text-align: left;\n",
       "  /* unfitted */\n",
       "  background-color: var(--sklearn-color-unfitted-level-0);\n",
       "}\n",
       "\n",
       "#sk-container-id-1 div.sk-toggleable__content.fitted {\n",
       "  /* fitted */\n",
       "  background-color: var(--sklearn-color-fitted-level-0);\n",
       "}\n",
       "\n",
       "#sk-container-id-1 div.sk-toggleable__content pre {\n",
       "  margin: 0.2em;\n",
       "  border-radius: 0.25em;\n",
       "  color: var(--sklearn-color-text);\n",
       "  /* unfitted */\n",
       "  background-color: var(--sklearn-color-unfitted-level-0);\n",
       "}\n",
       "\n",
       "#sk-container-id-1 div.sk-toggleable__content.fitted pre {\n",
       "  /* unfitted */\n",
       "  background-color: var(--sklearn-color-fitted-level-0);\n",
       "}\n",
       "\n",
       "#sk-container-id-1 input.sk-toggleable__control:checked~div.sk-toggleable__content {\n",
       "  /* Expand drop-down */\n",
       "  max-height: 200px;\n",
       "  max-width: 100%;\n",
       "  overflow: auto;\n",
       "}\n",
       "\n",
       "#sk-container-id-1 input.sk-toggleable__control:checked~label.sk-toggleable__label-arrow:before {\n",
       "  content: \"▾\";\n",
       "}\n",
       "\n",
       "/* Pipeline/ColumnTransformer-specific style */\n",
       "\n",
       "#sk-container-id-1 div.sk-label input.sk-toggleable__control:checked~label.sk-toggleable__label {\n",
       "  color: var(--sklearn-color-text);\n",
       "  background-color: var(--sklearn-color-unfitted-level-2);\n",
       "}\n",
       "\n",
       "#sk-container-id-1 div.sk-label.fitted input.sk-toggleable__control:checked~label.sk-toggleable__label {\n",
       "  background-color: var(--sklearn-color-fitted-level-2);\n",
       "}\n",
       "\n",
       "/* Estimator-specific style */\n",
       "\n",
       "/* Colorize estimator box */\n",
       "#sk-container-id-1 div.sk-estimator input.sk-toggleable__control:checked~label.sk-toggleable__label {\n",
       "  /* unfitted */\n",
       "  background-color: var(--sklearn-color-unfitted-level-2);\n",
       "}\n",
       "\n",
       "#sk-container-id-1 div.sk-estimator.fitted input.sk-toggleable__control:checked~label.sk-toggleable__label {\n",
       "  /* fitted */\n",
       "  background-color: var(--sklearn-color-fitted-level-2);\n",
       "}\n",
       "\n",
       "#sk-container-id-1 div.sk-label label.sk-toggleable__label,\n",
       "#sk-container-id-1 div.sk-label label {\n",
       "  /* The background is the default theme color */\n",
       "  color: var(--sklearn-color-text-on-default-background);\n",
       "}\n",
       "\n",
       "/* On hover, darken the color of the background */\n",
       "#sk-container-id-1 div.sk-label:hover label.sk-toggleable__label {\n",
       "  color: var(--sklearn-color-text);\n",
       "  background-color: var(--sklearn-color-unfitted-level-2);\n",
       "}\n",
       "\n",
       "/* Label box, darken color on hover, fitted */\n",
       "#sk-container-id-1 div.sk-label.fitted:hover label.sk-toggleable__label.fitted {\n",
       "  color: var(--sklearn-color-text);\n",
       "  background-color: var(--sklearn-color-fitted-level-2);\n",
       "}\n",
       "\n",
       "/* Estimator label */\n",
       "\n",
       "#sk-container-id-1 div.sk-label label {\n",
       "  font-family: monospace;\n",
       "  font-weight: bold;\n",
       "  display: inline-block;\n",
       "  line-height: 1.2em;\n",
       "}\n",
       "\n",
       "#sk-container-id-1 div.sk-label-container {\n",
       "  text-align: center;\n",
       "}\n",
       "\n",
       "/* Estimator-specific */\n",
       "#sk-container-id-1 div.sk-estimator {\n",
       "  font-family: monospace;\n",
       "  border: 1px dotted var(--sklearn-color-border-box);\n",
       "  border-radius: 0.25em;\n",
       "  box-sizing: border-box;\n",
       "  margin-bottom: 0.5em;\n",
       "  /* unfitted */\n",
       "  background-color: var(--sklearn-color-unfitted-level-0);\n",
       "}\n",
       "\n",
       "#sk-container-id-1 div.sk-estimator.fitted {\n",
       "  /* fitted */\n",
       "  background-color: var(--sklearn-color-fitted-level-0);\n",
       "}\n",
       "\n",
       "/* on hover */\n",
       "#sk-container-id-1 div.sk-estimator:hover {\n",
       "  /* unfitted */\n",
       "  background-color: var(--sklearn-color-unfitted-level-2);\n",
       "}\n",
       "\n",
       "#sk-container-id-1 div.sk-estimator.fitted:hover {\n",
       "  /* fitted */\n",
       "  background-color: var(--sklearn-color-fitted-level-2);\n",
       "}\n",
       "\n",
       "/* Specification for estimator info (e.g. \"i\" and \"?\") */\n",
       "\n",
       "/* Common style for \"i\" and \"?\" */\n",
       "\n",
       ".sk-estimator-doc-link,\n",
       "a:link.sk-estimator-doc-link,\n",
       "a:visited.sk-estimator-doc-link {\n",
       "  float: right;\n",
       "  font-size: smaller;\n",
       "  line-height: 1em;\n",
       "  font-family: monospace;\n",
       "  background-color: var(--sklearn-color-background);\n",
       "  border-radius: 1em;\n",
       "  height: 1em;\n",
       "  width: 1em;\n",
       "  text-decoration: none !important;\n",
       "  margin-left: 1ex;\n",
       "  /* unfitted */\n",
       "  border: var(--sklearn-color-unfitted-level-1) 1pt solid;\n",
       "  color: var(--sklearn-color-unfitted-level-1);\n",
       "}\n",
       "\n",
       ".sk-estimator-doc-link.fitted,\n",
       "a:link.sk-estimator-doc-link.fitted,\n",
       "a:visited.sk-estimator-doc-link.fitted {\n",
       "  /* fitted */\n",
       "  border: var(--sklearn-color-fitted-level-1) 1pt solid;\n",
       "  color: var(--sklearn-color-fitted-level-1);\n",
       "}\n",
       "\n",
       "/* On hover */\n",
       "div.sk-estimator:hover .sk-estimator-doc-link:hover,\n",
       ".sk-estimator-doc-link:hover,\n",
       "div.sk-label-container:hover .sk-estimator-doc-link:hover,\n",
       ".sk-estimator-doc-link:hover {\n",
       "  /* unfitted */\n",
       "  background-color: var(--sklearn-color-unfitted-level-3);\n",
       "  color: var(--sklearn-color-background);\n",
       "  text-decoration: none;\n",
       "}\n",
       "\n",
       "div.sk-estimator.fitted:hover .sk-estimator-doc-link.fitted:hover,\n",
       ".sk-estimator-doc-link.fitted:hover,\n",
       "div.sk-label-container:hover .sk-estimator-doc-link.fitted:hover,\n",
       ".sk-estimator-doc-link.fitted:hover {\n",
       "  /* fitted */\n",
       "  background-color: var(--sklearn-color-fitted-level-3);\n",
       "  color: var(--sklearn-color-background);\n",
       "  text-decoration: none;\n",
       "}\n",
       "\n",
       "/* Span, style for the box shown on hovering the info icon */\n",
       ".sk-estimator-doc-link span {\n",
       "  display: none;\n",
       "  z-index: 9999;\n",
       "  position: relative;\n",
       "  font-weight: normal;\n",
       "  right: .2ex;\n",
       "  padding: .5ex;\n",
       "  margin: .5ex;\n",
       "  width: min-content;\n",
       "  min-width: 20ex;\n",
       "  max-width: 50ex;\n",
       "  color: var(--sklearn-color-text);\n",
       "  box-shadow: 2pt 2pt 4pt #999;\n",
       "  /* unfitted */\n",
       "  background: var(--sklearn-color-unfitted-level-0);\n",
       "  border: .5pt solid var(--sklearn-color-unfitted-level-3);\n",
       "}\n",
       "\n",
       ".sk-estimator-doc-link.fitted span {\n",
       "  /* fitted */\n",
       "  background: var(--sklearn-color-fitted-level-0);\n",
       "  border: var(--sklearn-color-fitted-level-3);\n",
       "}\n",
       "\n",
       ".sk-estimator-doc-link:hover span {\n",
       "  display: block;\n",
       "}\n",
       "\n",
       "/* \"?\"-specific style due to the `<a>` HTML tag */\n",
       "\n",
       "#sk-container-id-1 a.estimator_doc_link {\n",
       "  float: right;\n",
       "  font-size: 1rem;\n",
       "  line-height: 1em;\n",
       "  font-family: monospace;\n",
       "  background-color: var(--sklearn-color-background);\n",
       "  border-radius: 1rem;\n",
       "  height: 1rem;\n",
       "  width: 1rem;\n",
       "  text-decoration: none;\n",
       "  /* unfitted */\n",
       "  color: var(--sklearn-color-unfitted-level-1);\n",
       "  border: var(--sklearn-color-unfitted-level-1) 1pt solid;\n",
       "}\n",
       "\n",
       "#sk-container-id-1 a.estimator_doc_link.fitted {\n",
       "  /* fitted */\n",
       "  border: var(--sklearn-color-fitted-level-1) 1pt solid;\n",
       "  color: var(--sklearn-color-fitted-level-1);\n",
       "}\n",
       "\n",
       "/* On hover */\n",
       "#sk-container-id-1 a.estimator_doc_link:hover {\n",
       "  /* unfitted */\n",
       "  background-color: var(--sklearn-color-unfitted-level-3);\n",
       "  color: var(--sklearn-color-background);\n",
       "  text-decoration: none;\n",
       "}\n",
       "\n",
       "#sk-container-id-1 a.estimator_doc_link.fitted:hover {\n",
       "  /* fitted */\n",
       "  background-color: var(--sklearn-color-fitted-level-3);\n",
       "}\n",
       "</style><div id=\"sk-container-id-1\" class=\"sk-top-container\"><div class=\"sk-text-repr-fallback\"><pre>LinearRegression()</pre><b>In a Jupyter environment, please rerun this cell to show the HTML representation or trust the notebook. <br />On GitHub, the HTML representation is unable to render, please try loading this page with nbviewer.org.</b></div><div class=\"sk-container\" hidden><div class=\"sk-item\"><div class=\"sk-estimator fitted sk-toggleable\"><input class=\"sk-toggleable__control sk-hidden--visually\" id=\"sk-estimator-id-1\" type=\"checkbox\" checked><label for=\"sk-estimator-id-1\" class=\"sk-toggleable__label fitted sk-toggleable__label-arrow fitted\">&nbsp;&nbsp;LinearRegression<a class=\"sk-estimator-doc-link fitted\" rel=\"noreferrer\" target=\"_blank\" href=\"https://scikit-learn.org/1.4/modules/generated/sklearn.linear_model.LinearRegression.html\">?<span>Documentation for LinearRegression</span></a><span class=\"sk-estimator-doc-link fitted\">i<span>Fitted</span></span></label><div class=\"sk-toggleable__content fitted\"><pre>LinearRegression()</pre></div> </div></div></div></div>"
      ],
      "text/plain": [
       "LinearRegression()"
      ]
     },
     "execution_count": 8,
     "metadata": {},
     "output_type": "execute_result"
    }
   ],
   "source": [
    "# 3: run linear regression\n",
    "\n",
    "lr = LR()\n",
    "lr.fit(x, y)"
   ]
  },
  {
   "cell_type": "code",
   "execution_count": 10,
   "id": "02b741f7-e76f-40ef-a567-ae398cb11cc7",
   "metadata": {},
   "outputs": [
    {
     "data": {
      "text/plain": [
       "array([[ 5.77218448],\n",
       "       [ 1.18729095],\n",
       "       [-0.7249848 ],\n",
       "       [-0.40065615],\n",
       "       [ 2.5548401 ],\n",
       "       [ 0.72398075],\n",
       "       [-1.61163342],\n",
       "       [ 2.57138316],\n",
       "       [ 1.19973579],\n",
       "       [ 1.64945564]])"
      ]
     },
     "execution_count": 10,
     "metadata": {},
     "output_type": "execute_result"
    }
   ],
   "source": [
    "# 4: get predictions from hypothesis\n",
    "\n",
    "y_hat = lr.predict(x)\n",
    "y_hat"
   ]
  },
  {
   "cell_type": "code",
   "execution_count": 13,
   "id": "b7ba48d8-b1db-42ac-b76d-b9af76e36843",
   "metadata": {},
   "outputs": [
    {
     "data": {
      "image/png": "[encoded data removed]",
      "text/plain": [
       "<Figure size 300x300 with 1 Axes>"
      ]
     },
     "metadata": {},
     "output_type": "display_data"
    }
   ],
   "source": [
    "# 5. plot line\n",
    "\n",
    "plt.figure(figsize=(3,3))\n",
    "plt.scatter(x,y, label='Original data', color='k')\n",
    "plt.plot(x, y_hat, color='r')\n",
    "plt.show()"
   ]
  },
  {
   "cell_type": "code",
   "execution_count": null,
   "id": "1bb14b04-f5a5-481c-afae-17e3761fd0d5",
   "metadata": {},
   "outputs": [],
   "source": [
    "# 6. create model\n",
    "\n",
    "def predict(x):\n",
    "    model = np.dot(lr.coef_, x) + lr.intercept_\n",
    "    return model"
   ]
  },
  {
   "cell_type": "markdown",
   "id": "47a7d2cf-6be0-4083-883d-405dcdbedf0c",
   "metadata": {},
   "source": [
    "#### Scaling in OLS\n",
    "\n",
    "For regression with OLS, scaling is not required. When scaling, you only scale the features. You never scale the target because doing so would require you to undo the scaling later.\n",
    "\n",
    "> There's a reason why we call it feature scaling. We only scale the features.\n",
    "\n",
    "The parameters and intercepts will change to account for any changes when you scale the data, but you will end up with the same model. \n",
    "\n",
    "i>}\r\n",
    "</style>\r\n"
   ]
  },
  {
   "cell_type": "markdown",
   "id": "1007f5ce-cd29-4e3c-a50a-2609495dfb7e",
   "metadata": {},
   "source": [
    "<div class=\"alert alert-info\">It does not matter whether or not you do feature scaling for regression since you will end up with the same result.</div>"
   ]
  },
  {
   "cell_type": "markdown",
   "id": "02fc38d1-111d-4089-8ea3-614b37fa74da",
   "metadata": {},
   "source": [
    "#### Standard Scaling\n",
    "\n",
    "Here are the rules for standard-scaling data with linear regression: \n",
    "\n",
    "- Only scale the features, not the target\n",
    "- Only scale the test data based on the specs (mean and standard deviation) from the training data.\n",
    "- Any time you are predicting data, any input data must also be scaled using the mean and standard deviation calculated from the model.\n",
    "\n",
    "<div class=\"alert alert-info\">Always scale the test features with the same scalar spes as the training data</div>"
   ]
  },
  {
   "cell_type": "code",
   "execution_count": null,
   "id": "f973bbd8-dbd9-4824-a4da-429063f55651",
   "metadata": {},
   "outputs": [],
   "source": [
    "ex_Xtrain = np.array([[56,5], [53,3], [94,4], [78,8],[15,5], [34,4], [53,5], [44,4]])\n",
    "ex_Ytrain = np.array([51, 51, 95, 82, 16, 29, 55, 49])\n",
    "ex_Xtest = np.array([[98, 6], [53,4]])\n",
    "ex_Ytest = np.array([81,38])"
   ]
  },
  {
   "cell_type": "code",
   "execution_count": 1,
   "id": "15e12655-283f-47bf-a18f-4f75d1710618",
   "metadata": {},
   "outputs": [
    {
     "ename": "NameError",
     "evalue": "name 'ex_Xtrain' is not defined",
     "output_type": "error",
     "traceback": [
      "\u001b[0;31m---------------------------------------------------------------------------\u001b[0m",
      "\u001b[0;31mNameError\u001b[0m                                 Traceback (most recent call last)",
      "Cell \u001b[0;32mIn[1], line 7\u001b[0m\n\u001b[1;32m      4\u001b[0m ss \u001b[38;5;241m=\u001b[39m SS()\n\u001b[1;32m      6\u001b[0m \u001b[38;5;66;03m# 2. fit standard scaler to training data features\u001b[39;00m\n\u001b[0;32m----> 7\u001b[0m ss\u001b[38;5;241m.\u001b[39mfit(\u001b[43mex_Xtrain\u001b[49m)\n\u001b[1;32m      9\u001b[0m scaled_Xtrain \u001b[38;5;241m=\u001b[39m ss\u001b[38;5;241m.\u001b[39mtransform(ex_Xtrain)\n\u001b[1;32m     10\u001b[0m scaled_Xtest \u001b[38;5;241m=\u001b[39m ss\u001b[38;5;241m.\u001b[39mtransform(ex_Xtest)\n",
      "\u001b[0;31mNameError\u001b[0m: name 'ex_Xtrain' is not defined"
     ]
    }
   ],
   "source": [
    "from sklearn.preprocessing import StandardScaler as SS\n",
    "\n",
    "# 1. create standard scaler\n",
    "ss = SS()\n",
    "\n",
    "# 2. fit standard scaler to training data features\n",
    "ss.fit(ex_Xtrain)\n",
    "\n",
    "# 3. scaled both training and testing data with scaler (based on training specs)\n",
    "scaled_Xtrain = ss.transform(ex_Xtrain)\n",
    "scaled_Xtest = ss.transform(ex_Xtest)"
   ]
  },
  {
   "cell_type": "markdown",
   "id": "cc3f2d03-0ed1-4915-b122-0b619685a1c2",
   "metadata": {},
   "source": [
    "### Train, test, validation\n",
    "\n",
    "**overfitting and underfitting**\n",
    "\n",
    "When we overfit a data set, essentially the model just well on the training data but fails to generalize on the testing data. It means training score is less than testing score.\n",
    "\n",
    "When we underfit a data set, it performs poorly on both the training set and and test set.\n",
    "\n",
    "- **internal validity** : how well the model performs on the training data\n",
    "- **external validity** : how well the model performs on the test data"
   ]
  },
  {
   "cell_type": "markdown",
   "id": "15136760-cae4-4541-b8dc-1a0c44a2a4a6",
   "metadata": {},
   "source": [
    "#### Train test-split\n",
    "\n",
    "The `tts()` method takes in an array of features and an array of target data, and then returns an array of 4 nested arrays, representing the training data and testing data respectively.\n",
    "\n",
    "```python\n",
    "from sklearn.model_selection import train_test_split as tts\n",
    "\n",
    "X_train, X_test, y_train, y_test = tts(x, y, test_size=0.2, shuffle=True, random_state=201)\n",
    "```\n",
    "\n",
    "The first two arguments you pass to the `tts()` method are the array of features, `x`, and the array of target values `y`. Then after that here are the kwargs you can supply: \n",
    "\n",
    "- `test_size=` : the percentage of data to allocate to testing. 20% is pretty good here.\n",
    "- `shuffle=` : whether to randomly sort data or not.\n",
    "- `random_state=` : `int`. a random seed to set so that you get back the same split every time."
   ]
  },
  {
   "cell_type": "code",
   "execution_count": 5,
   "id": "8d3ca987-8bf2-4b9e-91cb-422957913f2d",
   "metadata": {},
   "outputs": [],
   "source": [
    "df = pd.read_csv(\"./data/test_data_v2.csv\", sep=\",\")\n",
    "df.dropna(subset=['Tourism_expenditure', 'Arrivals'], inplace=True)"
   ]
  },
  {
   "cell_type": "code",
   "execution_count": 6,
   "id": "77f4ff57-9848-4ee6-8040-ccf0af7f401d",
   "metadata": {},
   "outputs": [
    {
     "data": {
      "text/html": [
       "<div>\n",
       "<style scoped>\n",
       "    .dataframe tbody tr th:only-of-type {\n",
       "        vertical-align: middle;\n",
       "    }\n",
       "\n",
       "    .dataframe tbody tr th {\n",
       "        vertical-align: top;\n",
       "    }\n",
       "\n",
       "    .dataframe thead th {\n",
       "        text-align: right;\n",
       "    }\n",
       "</style>\n",
       "<table border=\"1\" class=\"dataframe\">\n",
       "  <thead>\n",
       "    <tr style=\"text-align: right;\">\n",
       "      <th></th>\n",
       "      <th>Continent</th>\n",
       "      <th>Country</th>\n",
       "      <th>Year</th>\n",
       "      <th>Tourism_expenditure</th>\n",
       "      <th>Arrivals</th>\n",
       "    </tr>\n",
       "  </thead>\n",
       "  <tbody>\n",
       "    <tr>\n",
       "      <th>1</th>\n",
       "      <td>Africa</td>\n",
       "      <td>Dem. Rep. of the Congo</td>\n",
       "      <td>2005</td>\n",
       "      <td>3.0</td>\n",
       "      <td>61.0</td>\n",
       "    </tr>\n",
       "    <tr>\n",
       "      <th>2</th>\n",
       "      <td>Africa</td>\n",
       "      <td>Dem. Rep. of the Congo</td>\n",
       "      <td>2010</td>\n",
       "      <td>11.0</td>\n",
       "      <td>81.0</td>\n",
       "    </tr>\n",
       "    <tr>\n",
       "      <th>7</th>\n",
       "      <td>Europe</td>\n",
       "      <td>Denmark</td>\n",
       "      <td>2005</td>\n",
       "      <td>5293.0</td>\n",
       "      <td>9178.0</td>\n",
       "    </tr>\n",
       "    <tr>\n",
       "      <th>8</th>\n",
       "      <td>Europe</td>\n",
       "      <td>Denmark</td>\n",
       "      <td>2010</td>\n",
       "      <td>5704.0</td>\n",
       "      <td>8744.0</td>\n",
       "    </tr>\n",
       "    <tr>\n",
       "      <th>9</th>\n",
       "      <td>Europe</td>\n",
       "      <td>Denmark</td>\n",
       "      <td>2017</td>\n",
       "      <td>8508.0</td>\n",
       "      <td>12426.0</td>\n",
       "    </tr>\n",
       "  </tbody>\n",
       "</table>\n",
       "</div>"
      ],
      "text/plain": [
       "  Continent                 Country  Year  Tourism_expenditure  Arrivals\n",
       "1    Africa  Dem. Rep. of the Congo  2005                  3.0      61.0\n",
       "2    Africa  Dem. Rep. of the Congo  2010                 11.0      81.0\n",
       "7    Europe                 Denmark  2005               5293.0    9178.0\n",
       "8    Europe                 Denmark  2010               5704.0    8744.0\n",
       "9    Europe                 Denmark  2017               8508.0   12426.0"
      ]
     },
     "execution_count": 6,
     "metadata": {},
     "output_type": "execute_result"
    }
   ],
   "source": [
    "df.head()"
   ]
  },
  {
   "cell_type": "code",
   "execution_count": 1,
   "id": "f07e7dd0-4b69-41f8-b87e-988749cebcac",
   "metadata": {},
   "outputs": [
    {
     "ename": "NameError",
     "evalue": "name 'x' is not defined",
     "output_type": "error",
     "traceback": [
      "\u001b[0;31m---------------------------------------------------------------------------\u001b[0m",
      "\u001b[0;31mNameError\u001b[0m                                 Traceback (most recent call last)",
      "Cell \u001b[0;32mIn[1], line 4\u001b[0m\n\u001b[1;32m      1\u001b[0m \u001b[38;5;28;01mfrom\u001b[39;00m \u001b[38;5;21;01msklearn\u001b[39;00m\u001b[38;5;21;01m.\u001b[39;00m\u001b[38;5;21;01mmodel_selection\u001b[39;00m \u001b[38;5;28;01mimport\u001b[39;00m train_test_split \u001b[38;5;28;01mas\u001b[39;00m tts\n\u001b[1;32m      2\u001b[0m \u001b[38;5;66;03m#use random state 201\u001b[39;00m\n\u001b[0;32m----> 4\u001b[0m X_train, X_test, y_train, y_test \u001b[38;5;241m=\u001b[39m tts(\u001b[43mx\u001b[49m, y, test_size\u001b[38;5;241m=\u001b[39m\u001b[38;5;241m0.2\u001b[39m, shuffle\u001b[38;5;241m=\u001b[39m\u001b[38;5;28;01mTrue\u001b[39;00m, random_state\u001b[38;5;241m=\u001b[39m\u001b[38;5;241m201\u001b[39m)\n",
      "\u001b[0;31mNameError\u001b[0m: name 'x' is not defined"
     ]
    }
   ],
   "source": [
    "from sklearn.model_selection import train_test_split as tts\n",
    "#use random state 201\n",
    "\n",
    "X_train, X_test, y_train, y_test = tts(x, y, test_size=0.2, shuffle=True, random_state=201)"
   ]
  },
  {
   "cell_type": "markdown",
   "id": "bf722de4-bde7-451d-b04e-d9cb55ffb96e",
   "metadata": {},
   "source": [
    "#### K-fold validation\n",
    "\n",
    "The idea of K-fold validation is to make each batch of data as the testing data so that there are no discrepancies and bias between what we're choosing for training data and testing data.\n",
    "\n",
    "You will make $k$ models during this process.\n",
    "\n",
    "1. Split data into $k$ equally sized groups, called **folds**\n",
    "2. Use the first fold as testing data, and then merge the rest of the folds into a group as the training data.\n",
    "3. Move on to make the second fold as the testing data, and then merge the rest of the folds into a group as the training data.\n",
    "4. Continue this process until you cover all the folds.\n",
    "\n",
    "- Each fold will be in the training data $k-1$ times\n",
    "- Each fold will be the testing data 1 time.\n",
    "\n",
    "**Theory of k**\n",
    "\n",
    "The value of $k$ has a bias-variance tradeoff. \n",
    "\n",
    "- As the number of folds $k$ increases, You do better on training data and do worse on testing data (testing data is a smaller portion of data) and thus **variance increases**\n",
    "- As the number of folds $k$ decreases, You do worse on training data and do better on testing data (testing data is a bigger portion of data, and you're training on less of data) and thus **bias increases**\n",
    "\n",
    "**Using kfold**\n",
    "\n",
    "1. Import `kfold`\n",
    "\n",
    "   ```python\n",
    "   from sklearn.model_selection import KFold\n",
    "   ```\n",
    "\n",
    "2. Create a kfold instance from the `KFold` class\n",
    "\n",
    "   ```python\n",
    "   kf = KFold(n_splits = 10, random_state=146, shuffle=True)\n",
    "   ```\n",
    "\n",
    "\n",
    "3. Use the `kf.split(data)` method to create kfold splits on your data, which should be a 2D array. This method returns a generator, so you should iterate through it\n",
    "\n",
    "    ```python\n",
    "    for idxTrain, idxTest in kf.split(x):\n",
    "        Xtrain = x[idxTrain]\n",
    "        Xtest = x[idxTest]\n",
    "        ytrain = y[idxTrain]\n",
    "        ytest = y[idxTest]\n",
    "    ```"
   ]
  },
  {
   "cell_type": "code",
   "execution_count": null,
   "id": "9ae8a9f5-ec1a-4a38-a23d-ef636d36eeaf",
   "metadata": {},
   "outputs": [],
   "source": [
    "def create_random_data(size=20):\n",
    "    np.random.seed(210)\n",
    "    x= np.random.normal(size=(size,1))\n",
    "    noise_strength = 0.2\n",
    "    noise = np.random.normal(scale=noise_strength, size=(size,1))*100\n",
    "    y = 100 + 200*x + noise\n",
    "    return (x, y)"
   ]
  },
  {
   "cell_type": "code",
   "execution_count": null,
   "id": "4fef9665-c433-47de-af69-6a2bcaec934f",
   "metadata": {},
   "outputs": [],
   "source": [
    "from sklearn.model_selection import KFold\n",
    "from sklearn.linear_model import LinearRegression as LR\n",
    "lr = LR()\n",
    "\n",
    "kf = KFold(n_splits = 10, random_state=146, shuffle=True)\n",
    "scores = []\n",
    "\n",
    "for idxTrain, idxTest in kf.split(x):\n",
    "    Xtrain = x[idxTrain]\n",
    "    Xtest = x[idxTest]\n",
    "    ytrain = y[idxTrain]\n",
    "    ytest = y[idxTest]\n",
    "\n",
    "    # build the model\n",
    "    lr.fit(Xtrain, ytrain)\n",
    "    test_score = lr.score(Xtest, ytest)\n",
    "    train_score = lr.score(Xtrain, ytrain)\n",
    "    print(f\"train score: {train_score}\\t test score: {test_score}\")"
   ]
  },
  {
   "cell_type": "markdown",
   "id": "309b7aa3-a0af-48b9-93cb-7885f1557fab",
   "metadata": {},
   "source": [
    "This is a convenience function to do kfold with any kind of scikit learn model."
   ]
  },
  {
   "cell_type": "code",
   "execution_count": 1,
   "id": "cb46b8d9-86f2-4132-848a-6e51ee5c2684",
   "metadata": {},
   "outputs": [],
   "source": [
    "from sklearn.model_selection import KFold\n",
    "\n",
    "def do_Kfold(model,X,y,k,scaler = None, random_state = 146):\n",
    "    \n",
    "    kf = KFold(n_splits=k, random_state = random_state, shuffle=True)\n",
    "\n",
    "    train_scores = []\n",
    "    test_scores = []\n",
    "\n",
    "    for idxTrain, idxTest in kf.split(X):\n",
    "        Xtrain = X[idxTrain, :]\n",
    "        Xtest = X[idxTest, :]\n",
    "        ytrain = y[idxTrain]\n",
    "        ytest = y[idxTest]\n",
    "        if scaler != None:\n",
    "            Xtrain = scaler.fit_transform(Xtrain)\n",
    "            Xtest = scaler.transform(Xtest)\n",
    "\n",
    "        model.fit(Xtrain,ytrain)\n",
    "\n",
    "        train_scores.append(model.score(Xtrain,ytrain))\n",
    "        test_scores.append(model.score(Xtest,ytest))\n",
    "        \n",
    "    return train_scores, test_scores"
   ]
  },
  {
   "cell_type": "markdown",
   "id": "c2c2cbb6-4f23-467d-9e69-32a10826e5bd",
   "metadata": {},
   "source": [
    "### Regularization\n",
    "\n",
    "Regularization punishes parameters to mitigate overfitting. By adding the parameters to the cost function, gradient descent aims to decrease the values of those parameters to make the hypothesis simpler.\n",
    "\n",
    "There are three types of regularization: \n",
    "\n",
    "- L1 regression: regularization using the $L_1$ norm\n",
    "- L2 regression: regularization using the $L_2$ norm\n",
    "- elastic regression: regularization combining both L1 and L2 regualrization\n",
    "\n",
    "**$L_1$ regularization**\n",
    "\n",
    "$L_1$ regularization, also called **lasso regression**, sums up the absolute value (L1 norm) of all the parameters and adds that to the cost function \n",
    "\n",
    "$$J = \\sum_{i=1}^N (y_i - \\hat{y}_i)^2 + \\alpha \\sum_{j=1}^n |\\beta_i|$$\n",
    "\n",
    "**$L_2$ regularization**\n",
    "\n",
    "$L_2$ regularization, also called **lasso regression**, sums up the squares (L2 norm) of all the parameters and adds that to the cost function \n",
    "\n",
    "$$J = \\sum_{i=1}^N (y_i - \\hat{y}_i)^2 + \\alpha \\sum_{j=1}^n \\beta_i^{2}$$"
   ]
  },
  {
   "cell_type": "markdown",
   "id": "7148acc9-ef1f-4cb5-a4b4-ac8a6d795ed9",
   "metadata": {},
   "source": [
    "#### Ridge Regresssion \n",
    "\n",
    "Here is the cost function for ridge regression, which serves to add the beta coefficients to the cost function so that we can penalize them. \n",
    "\n",
    "- $N$ : the number of training rows you have\n",
    "- $n$ : the number of features/parameters\n",
    "- $\\alpha$ : the regularization hyperparameter\n",
    "\n",
    "$$J = \\sum_{i=1}^N (y_i - \\hat{y}_i)^2 + \\alpha \\sum_{j=1}^n \\beta_i^{2}$$\n",
    "\n",
    "**Effect of regularization parameter**\n",
    "\n",
    "- As $\\alpha$ increases, the hypothesis becomes extremely more simple \n",
    "- As $\\alpha$ decreases, the hypothesis becomes slightly more simple\n",
    "\n",
    "A high value of $\\alpha$ penalizes the parameters a lot so that they are essentially 0, and the less that value, the less you are penalizing those parameters and thus the parameters only slightly decrease. \n",
    "\n",
    "**Scaling**\n",
    "\n",
    "You must always scale data with ridge regression so that they can all be penalized appropriately.\n",
    "\n",
    "1. Scale training features\n",
    "2. Scale testing features with the same scaler parameters as you did for the training data.\n",
    "\n",
    "```python\n",
    "ss = SS()\n",
    "ss.fit(Xtrain)\n",
    "\n",
    "# scale both training and testing data with scaler (based on training specs)\n",
    "scaled_Xtrain = ss.transform(Xtrain)\n",
    "scaled_Xtest = ss.transform(Xtest)\n",
    "```\n"
   ]
  },
  {
   "cell_type": "markdown",
   "id": "a575d13a-794b-49c6-bb94-cf9f909e8cf5",
   "metadata": {},
   "source": [
    "##### Hyperparameter optimization\n",
    "\n",
    "Hyperparameter optimiziation is where we try to choose the best value for a hyperparameter that makes our model perform the best.\n",
    "\n",
    "We always do hyperparameter optimization before training a model. Here are the steps we follow: \n",
    "\n",
    "1. Create a range for the $\\alpha$ values, like an array of hyperparameter values to test\n",
    "2. Loop through that range, and for each $\\alpha$ parameter, perform ridge regression with the regularization hyperparameter set to $\\alpha$, and add that score to a list of model scores.\n",
    "3. Graph the alpha values against the list of model scores. THe optimal alpha lies at the peak of the graph."
   ]
  },
  {
   "cell_type": "code",
   "execution_count": 3,
   "id": "93a4fd37-4853-47e6-9153-e99dcca1470c",
   "metadata": {},
   "outputs": [],
   "source": [
    "from sklearn.preprocessing import StandardScaler as SS\n",
    "\n",
    "def getOptimalAlpha() -> int :\n",
    "    # 1. setup kfold and scaler \n",
    "    k = 10\n",
    "    ss = SS()\n",
    "\n",
    "    # 2. create array of possible alpha values\n",
    "    a_range = np.linspace(10,20,100)\n",
    "    \n",
    "    avg_tr_score=[]\n",
    "    avg_te_score=[]\n",
    "    \n",
    "    for a in a_range:\n",
    "        # 3. run model\n",
    "        rid_reg = Ridge(alpha=a)\n",
    "        train_scores, test_scores = do_Kfold(rid_reg, X, y, k, ss)\n",
    "\n",
    "        # 4. collect statistics\n",
    "        avg_tr_score.append(np.mean(train_scores))\n",
    "        avg_te_score.append(np.mean(test_scores))\n",
    "\n",
    "        # 5. return alpha that gave highest test score\n",
    "        idx_max = np.argmax(avg_te_score)\n",
    "        return a_range[idx_max]"
   ]
  },
  {
   "cell_type": "markdown",
   "id": "90158bc0-fd58-4a59-abbd-e22ca3028b81",
   "metadata": {},
   "source": [
    "##### Performing ridge regression\n",
    "\n",
    "1. Install the appropriate scaling and L2 regularization\n",
    "\n",
    "    ```python\n",
    "    from sklearn.linear_model import Ridge\n",
    "    from sklearn.preprocessing import StandardScaler as SS\n",
    "    ```\n",
    "\n",
    "2. Create a ridge regression model by instantiating the `Ridge()` class, and passing in a value for $\\alpha$ through the `alpha=` kwarg\n",
    "\n",
    "    ```python\n",
    "    ridge_regression = Ridge(alpha=1)\n",
    "    ```\n",
    "\n",
    "Then this ridge ression model works the exact same as the linear model from scikit learn, where you can use the `fit()`, `predict()`, and `score()` methods."
   ]
  },
  {
   "cell_type": "markdown",
   "id": "624c3964-5d7e-4716-ab70-26ab321ad918",
   "metadata": {},
   "source": [
    "#### Lasso Regression\n",
    "\n",
    "Here is the cost function for lasso regression, which serves to add the beta coefficients to the cost function so that we can penalize them. \n",
    "\n",
    "- $N$ : the number of training rows you have\n",
    "- $n$ : the number of features/parameters\n",
    "- $\\alpha$ : the regularization hyperparameter\n",
    "\n",
    "$$J = \\sum_{i=1}^N (y_i - \\hat{y}_i)^2 + \\alpha \\sum_{j=1}^n |\\beta_i|$$\n",
    "\n",
    "<div class=\"alert alert-info\" style=\"max-width:30rem\">\n",
    "The difference between lasso regression and ridge regression is that lasso regression can essentially delete features by reducing them to 0, while ridge regression can't.\n",
    "</div>\n",
    "\n",
    "**Using lasso regression**\n",
    "\n",
    "\n",
    "1. Install the appropriate scaling and L1 regularization\n",
    "\n",
    "    ```python\n",
    "    from sklearn.linear_model import Lasso\n",
    "    from sklearn.preprocessing import StandardScaler as SS\n",
    "    ```\n",
    "\n",
    "2. Create a lasso regression model by instantiating the `Lasso()` class, and passing in a value for $\\alpha$ through the `alpha=` kwarg\n",
    "\n",
    "    ```python\n",
    "    lasso_regression = Lasso(alpha=1)\n",
    "    ```\n"
   ]
  },
  {
   "cell_type": "markdown",
   "id": "3ba83268-742a-44a4-a87d-fdd7b12744e9",
   "metadata": {},
   "source": [
    "## PCA and dimensionality reduction\n",
    "\n",
    "https://www.youtube.com/watch?v=FgakZw6K1QQ"
   ]
  },
  {
   "cell_type": "markdown",
   "id": "285ef298-ace4-470e-a5e8-e540cd493a42",
   "metadata": {},
   "source": [
    "### Dimensionality reduction\n",
    "\n",
    "Dimensionsality reduction reduces features, eliminating them to reduce model complexity.\n",
    "\n",
    "- **curse of dimensionality** : higher dimensionality usually leads to overfitting. "
   ]
  },
  {
   "cell_type": "markdown",
   "id": "edec2aa6-4f26-430d-a51f-01ca3a7d3532",
   "metadata": {},
   "source": [
    "### PCA introduction\n",
    "\n",
    "When plotting all features against each other, we then project all the points onto a single axis for every axis. We find the axis that preserves the most variation in the data. \n",
    "\n",
    "The first principal component will be the feature/variable that has the most variance, followed by others in decreasing variance. \n",
    "\n",
    "<div class=\"alert alert-info\">\n",
    "    PCA creates new variables that are linear combinations of the original variables. \n",
    "</div>\n",
    "\n",
    "Because they are linear combinations, they can reduce the coefficients for a principal component / feature to 0, essentially eliminating that feature. \n",
    "\n",
    "**Theory**\n",
    "\n",
    "Plot all points on a graph. Find the line of best fit (done by first initializing a random line, and then trying to maximize the distance of the projected points onto the line from the origin), which gives you the first principal component. \n",
    "\n",
    "Principal components are just lines, so they are linear combinations of the features. Here is how you find the rest of the principal components: \n",
    "\n",
    "- **PC2** : orthogonal to PC1 and goes through origin\n",
    "- **PC3** : orthogonal to both PC1 and PC2 and goes through origin. \n",
    "\n",
    "**Properties of PCA**\n",
    "\n",
    "\n",
    "- PCA does not cluster data. It finds patterns `in data\n",
    "- PCA requires scaling since it depends on distance metrics. \n",
    "\n",
    "**Code**\n",
    "\n",
    "```python\n",
    "from sklearn.decomposition import PCA\n",
    "\n",
    "pca = PCA()\n",
    "pca_data = pca.fit_transform(X)\n",
    "```"
   ]
  },
  {
   "cell_type": "markdown",
   "id": "73dc4f01-dbda-4131-a2c3-d4a88974300c",
   "metadata": {},
   "source": [
    "### TSNE\n",
    "\n",
    "TSNE is a type of non-linear dimensionality reduction, also called manifold learning. \n",
    "\n",
    "Here are the differences between PCA and TSNE: \n",
    "\n",
    "- PCA is deterministic while TSNE is stochastic (random) and iterative (but you can set the random state to get the same output).\n",
    "- PCA is linear while TSNE is non-linear\n",
    "- PCA focuses on global relationships while TSNE focuses on *local* relationships within data\n",
    "- TSNE is better at finding distinct groups than PCA.\n",
    "\n",
    "TSNE creates a gaussian distribution of the data\n",
    "\n",
    "**Perplexity**\n",
    "\n",
    "Perplexity is the main hyperparameter for TSNE, and refers to the number of neighbors each data point should try to preserve. \n",
    "\n",
    "- If the perplexity is too high, the points will roughly form a circle.\n",
    "- If the perplexity is too small, you will have a bunch of tiny clusters of points\n",
    "\n",
    "**SKLearn**\n",
    "\n",
    "```python\n",
    "from sklearn.manifold import TSNE\n",
    "\n",
    "tsne = TSNE()\n",
    "tsne_data = tsne.fit_transform(X)\n",
    "```\n",
    "\n",
    "Here are the kwargs you can pass in to the `TSNE()` constructor: \n",
    "\n",
    "- `random_state=` : to set random state number for tsne\n",
    "- `perplexity=` : sets the amount of perplexity for the tsne model. "
   ]
  },
  {
   "cell_type": "markdown",
   "id": "e25eed64-54c7-4849-bdbd-ec47db64c448",
   "metadata": {},
   "source": [
    "## Classification\n",
    "\n",
    "**Classification metrics**\n",
    "\n",
    "If data is unbalanced, we need recall and precision to truly evaluate a model's performance. \n",
    "\n",
    "- **Accuracy**: True positives / (total classified)\n",
    "- **recall** : $\\frac{TP}{TP + FN}$. Recall asks the question, \"what percentage of the positive cases does the model correctly predict as positive?\"\r\n",
    "- **precision** $\\frac{TP}{TP + FP}$. Precision asks the question, \"when we predict a case as positive, how often is it correct?\"\r\n",
    "- **F1 score** : the harmonic mean of precision and recall, used to join both into a single universal scoring metric. F1 score will be 0 if either precision or recall equals 0, so this metric tries to strike a good balance between precision and recal\n",
    "\n",
    "**Precision and recall problems**\n",
    "\n",
    "When doing precision and recall matrix problems, remember these two facts: \n",
    "\n",
    "- Precision is vertical\n",
    "- Recall is horizontal\n",
    "\n",
    "Recall asks this question: For all values that actually belongs to class A, what was the percentage we correctly predicted as class A?\n",
    "\n",
    "Precision asks this question: When we predicted something as belonging to class A, what was the percentage that actually belonged to class A?l."
   ]
  },
  {
   "cell_type": "markdown",
   "id": "e6c34ff5-12ab-4ef7-9e40-e87c043a1555",
   "metadata": {},
   "source": [
    "### Important methods\n"
   ]
  },
  {
   "cell_type": "code",
   "execution_count": 1,
   "id": "1a4a52f0-a524-4376-bb23-bcce31802a0c",
   "metadata": {},
   "outputs": [],
   "source": [
    "def do_Kfold(model,X,y,k,scaler = None, random_state = 146):\n",
    "    from sklearn.model_selection import KFold\n",
    "    \n",
    "    kf = KFold(n_splits=k, random_state = random_state, shuffle=True)\n",
    "\n",
    "    train_scores = []\n",
    "    test_scores = []\n",
    "\n",
    "    for idxTrain, idxTest in kf.split(X):\n",
    "        Xtrain = X[idxTrain, :]\n",
    "        Xtest = X[idxTest, :]\n",
    "        ytrain = y[idxTrain]\n",
    "        ytest = y[idxTest]\n",
    "        if scaler != None:\n",
    "            Xtrain = scaler.fit_transform(Xtrain)\n",
    "            Xtest = scaler.transform(Xtest)\n",
    "\n",
    "        model.fit(Xtrain,ytrain)\n",
    "\n",
    "        train_scores.append(model.score(Xtrain,ytrain))\n",
    "        test_scores.append(model.score(Xtest,ytest))\n",
    "        \n",
    "    return train_scores, test_scores\n",
    "\n",
    "def compare_classes(actual, predicted, names=None):\n",
    "    '''Function returns a confusion matrix, and overall accuracy given:\n",
    "            Input:  actual - a list of actual classifications\n",
    "                    predicted - a list of predicted classifications\n",
    "                    names (optional) - a list of class names\n",
    "    '''\n",
    "    accuracy = sum(actual==predicted)/actual.shape[0]\n",
    "    \n",
    "    classes = pd.DataFrame(columns = ['Actual', 'Predicted'])\n",
    "    classes['Actual'] = actual\n",
    "    classes['Predicted'] = predicted\n",
    "\n",
    "    conf_mat = pd.crosstab(classes['Actual'], classes['Predicted'])\n",
    "    \n",
    "    if type(names) != type(None):\n",
    "        conf_mat.index = names\n",
    "        conf_mat.index.name = 'Actual'\n",
    "        conf_mat.columns = names\n",
    "        conf_mat.columns.name = 'Predicted'\n",
    "    \n",
    "    print('Accuracy = ' + format(accuracy, '.2f'))\n",
    "    return conf_mat, accuracy\n",
    "\n",
    "def plot_groups(points, groups, colors, \n",
    "               ec='black', ax='None',s=30, alpha=0.5,\n",
    "               figsize=(6,6)):\n",
    "    '''Creates a scatter plot, given:\n",
    "            Input:  points (array) X, features\n",
    "                    groups (an integer label for each point) y, target\n",
    "                    colors (one rgb tuple for each group)\n",
    "                    ec (edgecolor for markers, default is black)\n",
    "                    ax (optional handle to an existing axes object to add the new plot on top of)\n",
    "            Output: handles to the figure (fig) and axes (ax) objects\n",
    "    '''\n",
    "    import matplotlib.pyplot as plt\n",
    "    import numpy as np\n",
    "    \n",
    "    # Create a new plot, unless something was passed for 'ax'\n",
    "    if ax == 'None':\n",
    "        fig,ax = plt.subplots(figsize=figsize)\n",
    "    else:\n",
    "        fig = plt.gcf()\n",
    "    \n",
    "    for i,lbl in enumerate(np.unique(groups)):\n",
    "        idx = (groups==lbl)\n",
    "        ax.scatter(points[idx,0], points[idx,1],color=colors[i],\n",
    "                    ec=ec,alpha=alpha,label = lbl,s=s)\n",
    "    ax.set_xlabel('$x_1$')\n",
    "    ax.set_ylabel('$x_2$')\n",
    "    ax.legend(bbox_to_anchor=[1, 0.5], loc='center left')\n",
    "    return fig, ax\n",
    "\n",
    "def get_colors(N, map_name='rainbow'):\n",
    "    '''Returns a list of N colors from a matplotlib colormap\n",
    "            Input: N = number of colors, and map_name = name of a matplotlib colormap\n",
    "    \n",
    "            For a list of available colormaps: \n",
    "                https://matplotlib.org/3.1.1/gallery/color/colormap_reference.html\n",
    "    '''\n",
    "    import matplotlib\n",
    "    cmap = matplotlib.cm.get_cmap(name=map_name)\n",
    "    n = np.linspace(0,1,N)\n",
    "    colors = cmap(n)\n",
    "    return colors"
   ]
  },
  {
   "cell_type": "markdown",
   "id": "fae62948-b010-4093-b95b-e03b30c7ecb4",
   "metadata": {},
   "source": [
    "### K nearest neighbors\n",
    "\n",
    "In the k nearest neighbors algorithm, we choose a number $k$, and in the corrdinate space, we consider a data point's distance to the $k$ nearest points to that data point. \n",
    "\n",
    "We assign that data point to a class if out of those k points and each of those points belong to a class, the majority of the k points are part of one class. \n",
    "\n",
    "**Train vs test**\n",
    "\n",
    "For k nearest numbers, we want to keep train sets large and test sets small. \n",
    "\n",
    "**Scaling**\n",
    "\n",
    "Scaling is necessary for K nearest neighbors. \n",
    "\n",
    "**Distance metric**\n",
    "\n",
    "The default distance metric for KNN is `uniform`, meaning every point is weighted equally. You can change this with the `weights=` kwarg when instantiating the `KNN()` object. \n",
    "\n",
    "Distance metrics come into play when deciding how to tally up a positive prediction or a negative prediction from the k nearest points.\n",
    "\n",
    "- **`'uniform'`** : Each point is weighted equally, no matter how far away it is from the data point.\n",
    "- **`'distance'`** : A point is weighted higher if it's closer to the data point being considered. Each point in the K nearest points to a data point is given a *weight*, which is the inverse of the distance from that point to the data point, 1 / distance. \n",
    "\n",
    "**Code**\n",
    "\n",
    "1. Import\n",
    "\n",
    "   ```python\n",
    "   from sklearn.neighbors import KNeighborsClassifier as KNN\n",
    "   from sklearn.preprocessing import StandardScaler as SS\n",
    "   ```\n",
    "\n",
    "2. Create model\n",
    "\n",
    "   ```python\n",
    "   knn = KNN(n_neighbors=5)\n",
    "   ```\n",
    "\n",
    "3. Fit model\n",
    "\n",
    "   ```python\n",
    "   knn.fit(X, y)\n",
    "   ```\n",
    "\n",
    "**KNN() kwargs**\n",
    "\n",
    "- `n_neighbors=` : the number of neighbors to set for the algorithm.\n",
    "- `weights=` : changes the distance metric. Default is `'uniform'`, where all points are weighted equally \n",
    "\n",
    "**Methods**\n",
    "\n",
    "- `knn.predict_proba(X)` : returns a soft classification for the features, giving probabilities for each class\n",
    "- `knn.predict(X)` : returns hard classification and classifies the observations to labels.\n",
    "- `knn.score(X, y)`: returns the accuracy of the model on the data"
   ]
  },
  {
   "cell_type": "code",
   "execution_count": 3,
   "id": "a97afe64-979c-43fc-b8d8-a5e95b439b87",
   "metadata": {},
   "outputs": [],
   "source": [
    "from sklearn.neighbors import KNeighborsClassifier as KNN\n",
    "from sklearn.preprocessing import StandardScaler as SS\n",
    "from sklearn.datasets import make_moons, make_blobs as mb, load_breast_cancer as lbc, load_iris as li\n",
    "import pandas as pd\n",
    "import numpy as np\n",
    "import matplotlib.pyplot as plt\n",
    "from sklearn.model_selection import train_test_split as tts"
   ]
  },
  {
   "cell_type": "code",
   "execution_count": null,
   "id": "2a9957f7-cbec-4d75-90ed-9982e2a39c7f",
   "metadata": {},
   "outputs": [],
   "source": [
    "def knn_kfold(X, y, k):    \n",
    "    neighbor_range = np.array(range(2,k))\n",
    "    train=[]\n",
    "    test=[]\n",
    "    \n",
    "    # run through k nearest neighbord k times, doing k fold\n",
    "    for n_neighbors in neighbor_range:\n",
    "        knn = KNN(n_neighbors=n_neighbors)\n",
    "        tr, te = do_Kfold(knn, X, y, k, scaler=SS())\n",
    "        train.append(np.mean(tr))\n",
    "        test.append(np.mean(te))\n",
    "\n",
    "    # plot error against k\n",
    "    plt.figure(figsize=(6,6))\n",
    "    plt.plot(neighbor_range, train, ':xk', label='Training')\n",
    "    plt.plot(neighbor_range, test, ':xr', label='Testing')\n",
    "    plt.ylabel('Mean accuracy', fontsize=14)\n",
    "    plt.xlabel('$k$',fontsize=14)\n",
    "    plt.xticks(neighbor_range)\n",
    "    plt.legend()\n",
    "    plt.show()"
   ]
  },
  {
   "cell_type": "markdown",
   "id": "d64721eb-a424-4bff-a462-eba2c2077508",
   "metadata": {},
   "source": [
    "### Logistic Regression\n",
    "\n",
    "Logistic regression is used for classification tasks, but like regression, it also outputs a single number. \n",
    "\n",
    "The hypothesis uses the sigmoid function to make sure all probability outputs are between 0 and 1. \n",
    "\n",
    "$$h_{\\beta}(\\vec x) = \\sigma (\\vec \\beta \\cdot \\vec x) = \\frac{1}{1 + e^{-\\vec \\beta \\cdot \\vec x}}$$\n",
    "\n",
    "The single number returned from logisitic regression is called the **log odds**, which just follows this formula: \n",
    "\n",
    "$$\\log{\\frac{P(\\mathrm{class \\ 1})}{P(\\mathrm{class \\ 0})}}$$\n",
    "\n",
    "You find the probability of being in class 1, divide that by the probability of being in class 0, and then take the logarithm of that quotient to get the log odds.\n",
    "\n",
    "**Hyperparameter c**\n",
    "\n",
    "Logistic regression uses L2 regularization, the hyperparameter $c$ controls that behavior, acting as the penalty for regularization. \n",
    "\n",
    "- smaller $c$, more regularization\n",
    "\n",
    "**Multi-class regression**\n",
    "\n",
    "There are two methods for multiclass logistic regression. \n",
    "\n",
    "- **One vs rest**: We do repeated loops of treating one class as the positive class, and lumping all other classes together as the negative class.\n",
    "- **Multinomial**: We do a softmax classification where all the classes have their own probability, and all together they sum to 1. This is the default for scikit-learn"
   ]
  },
  {
   "cell_type": "markdown",
   "id": "3268c3ad-3350-450c-86dd-c0553cdbeef3",
   "metadata": {},
   "source": [
    "#### Logistic regression coding\n",
    "\n",
    "1. Import like so\n",
    "\n",
    "   ```python\n",
    "   from sklearn.linear_model import LogisticRegression\n",
    "   ```\n",
    "\n",
    "2. Create the model\n",
    "\n",
    "   ```python\n",
    "   log_reg = LogisticRegression()\n",
    "   ```\n",
    "\n",
    "\n",
    "**Model hyperparameters**\n",
    "\n",
    "Here are the kwargs you can pass in to the model to tune the hyperparameters: \n",
    "\n",
    "- `C` : the number amount of regularization. A smaller amount means more regularization"
   ]
  },
  {
   "cell_type": "code",
   "execution_count": null,
   "id": "71280715-f89d-4acf-b698-470f71b2881b",
   "metadata": {},
   "outputs": [],
   "source": [
    "from sklearn.linear_model import LogisticRegression as LR\n",
    "\n",
    "log_reg = LR()"
   ]
  },
  {
   "cell_type": "markdown",
   "id": "6a92bf21-604c-4cef-b433-3554296e8087",
   "metadata": {},
   "source": [
    "### Decision Tree\n",
    "\n",
    "**Theory**\n",
    "\n",
    "- root node has a depth of **0**\n",
    "\n",
    "**Gini impurity**\n",
    "\n",
    "The intuition behind the gini impurity coefficient is that it's the probability of misclassifying a data point within a dataset. \n",
    "\n",
    "- If all data points in a subset are of the same class, the probability of misclassifying that data point is 0 and thus the Gini impurity coefficient is 0.\n",
    "\n",
    "A decision tree tries to minimize the Gini impurity at every step. It keeps splitting at every node until a node reaches an impurity value = 0 or doesn't have enough observations falling into that node to split on, which makes it a **leaf node**.\n",
    "\n",
    "**Hyperparameters**\n",
    "\n",
    "- `min_samples_split` : how many observations in the parent node it needs in order to split (and have child nodes). This prevents overfitting by preventing too many branches until you reach completely pure nodes.\n",
    "- `min_samples_leaf` : the minimum amount of observations that each leaf should have. "
   ]
  },
  {
   "cell_type": "markdown",
   "id": "61425a43-f57e-4754-a604-68859ed2b155",
   "metadata": {},
   "source": [
    "#### Decision tree coding\n",
    "\n",
    "```python\n",
    "from sklearn.tree import DecisionTreeClassifier as DTC\n",
    "\n",
    "dtc = DTC(random_state=201)\n",
    "dtc.fit(Xtrain, ytrain)\n",
    "```\n",
    "\n",
    "**Decision tree kwargs/hyperparameters**\n",
    "\n",
    " - `random_state=` : sets the random state for the decision tree\n",
    "\n",
    "**Decision tree methods**\n",
    "\n",
    "- `dtc.score(X, y)` : returns the accuracy score\n",
    "- `dtc.get_depth()` : returns the depth of the tree"
   ]
  },
  {
   "cell_type": "markdown",
   "id": "fd322d68-2afe-49f6-b20a-2e7074c46c45",
   "metadata": {},
   "source": [
    "### Random forests\n",
    "\n",
    "**Ensemble models**\n",
    "\n",
    "Ensemble models are composed of multiple individual models, and they can different combinations of models. You then combine the results from all the models in some way to get one final result. \n",
    "\n",
    "An example of an ensemble model is having one model as K nearest neighbors with one model as Logistic Regression, etc. \n",
    "\n",
    "**Random forests**\n",
    "\n",
    "Random forests are ensemble models made up of only multiple decision trees. Here are the basic ideas: \n",
    "\n",
    "- All trees use the exact same hyperparameters\n",
    "- Random forests use bootstrapping (random sampling with replacement) to change the training data passed to each tree. We do this instead of just having smaller unique data for each tree because more training data is good. \n",
    "\n",
    "**Scikit-learn**\n",
    "\n",
    "```python\n",
    "from sklearn.ensemble import RandomForestClassifier as RFC\n",
    "\n",
    "rfc = RFC(random_state=201)\n",
    "rfc.fit(Xtrain, ytrain)\n",
    "```\n",
    "\n",
    "**Hyperparameters**\n",
    "\n",
    "- `min_samples_split` : a higher value for this hyperparameter constrains the tree more\n",
    "- `min_samples_leaf` : a higher value for this hyperparameter constrains the tree more"
   ]
  },
  {
   "cell_type": "code",
   "execution_count": null,
   "id": "7689697c-e82c-4ece-b513-dea8f4ae2b3a",
   "metadata": {},
   "outputs": [],
   "source": [
    "def output_optimal_hyperparameter(train, test, params):\n",
    "    max_idx = np.argmax(test)\n",
    "    print(\"optimal hyperparameter =\", params[max_idx])\n",
    "    print(\"training score at optimal hyperaparameter:\", train[max_idx])\n",
    "    print(\"testing score at optimal hyperaparameter:\", test[max_idx])\n",
    "    return params[max_idx]"
   ]
  },
  {
   "cell_type": "code",
   "execution_count": 8,
   "id": "b8cfcc9c-9c3c-4622-bca9-43b15d0915ab",
   "metadata": {},
   "outputs": [],
   "source": [
    "probs = np.array(\n",
    "    [[0.36, 0.49, 0.15],\n",
    "    [0.44, 0.41, 0.15],\n",
    "    [0.39, 0.31, 0.30]]\n",
    ")\n",
    "\n",
    "def hard_classification(probs):\n",
    "    pass\n",
    "\n",
    "def soft_classification(probs): \n",
    "    sums = []\n",
    "    for outcome in range(probs.shape[1]): \n",
    "        sums.append(np.sum(probs[:, outcome]))\n",
    "    averages = np.array([x / probs.shape[1] for x in sums])\n",
    "    print(f\"predicted class: {np.argmax(averages)+1}\")\n",
    "    return averages"
   ]
  },
  {
   "cell_type": "code",
   "execution_count": 9,
   "id": "64442e3e-9390-4df1-9f4e-6e386ba9f48b",
   "metadata": {},
   "outputs": [
    {
     "name": "stdout",
     "output_type": "stream",
     "text": [
      "predicted class: 2\n"
     ]
    },
    {
     "data": {
      "text/plain": [
       "array([0.39666667, 0.40333333, 0.2       ])"
      ]
     },
     "execution_count": 9,
     "metadata": {},
     "output_type": "execute_result"
    }
   ],
   "source": [
    "soft_classification(probs)"
   ]
  },
  {
   "cell_type": "markdown",
   "id": "dea468b2-0293-4a08-b6b4-9fd30f184e28",
   "metadata": {},
   "source": [
    "#### Cardinality\n",
    "\n",
    "**Cardinality** of a feature refers to how many unique values that feature has. \n",
    "\n",
    "For features with a high count or potential of unique values, you need more data to have robust training on them.\n",
    "\n",
    "High cardinality features can increase the complexity of models, particularly those based on tree algorithms. Decision trees, for example, may struggle to effectively split on high cardinality features, leading to inefficient use of computational resources and potentially overfitting."
   ]
  },
  {
   "cell_type": "markdown",
   "id": "ea028272-c08b-4303-b2b9-0c6d24e0f5b5",
   "metadata": {},
   "source": [
    "### Concepts"
   ]
  },
  {
   "cell_type": "markdown",
   "id": "2ab94009-8f48-41bf-ae65-863b4075e504",
   "metadata": {},
   "source": [
    "#### Hard classifications vs Soft classification for random forests\n",
    "\n",
    "For random forests, we have the choice between hard classification and soft classification for random forest ensemble models. \n",
    "\n",
    "**Soft classification**\n",
    "\n",
    "Add up the individual probabilities for each class, and then average that to get an average probability for each class. \n",
    "\n",
    "<div class=\"alert alert-warning\">Scikit-learn uses soft classification</div>\n",
    "\n",
    "**Hard classification**\n",
    "\n",
    "For each outcome, adds a vote for the class who had the highest probability. THe class with the most total votes wins it all. "
   ]
  },
  {
   "cell_type": "code",
   "execution_count": 6,
   "id": "a1d49c6a-764f-453f-a7c7-610b99be532f",
   "metadata": {},
   "outputs": [],
   "source": [
    "probs = np.array(\n",
    "    [[0.36, 0.49, 0.15],\n",
    "    [0.44, 0.41, 0.15],\n",
    "    [0.39, 0.31, 0.30]]\n",
    ")\n",
    "\n",
    "def hard_classification(probs):\n",
    "    num_classes = probs.shape[1]\n",
    "    votes = [0 for i in range(num_classes)]\n",
    "    decisions = np.argmax(probs, axis=1)\n",
    "\n",
    "    for class_ in decisions: \n",
    "        votes[class_] += 1\n",
    "\n",
    "    print(f\"predicted class: {np.argmax(votes)+1}\")\n",
    "    return np.array(votes)\n",
    "\n",
    "def soft_classification(probs): \n",
    "    sums = []\n",
    "    for outcome in range(probs.shape[1]): \n",
    "        sums.append(np.sum(probs[:, outcome]))\n",
    "    averages = np.array([x / probs.shape[1] for x in sums])\n",
    "    print(f\"predicted class: {np.argmax(averages)+1}\")\n",
    "    return averages"
   ]
  },
  {
   "cell_type": "code",
   "execution_count": 7,
   "id": "2d8cc033-e444-4daf-9634-4de50f2087fd",
   "metadata": {},
   "outputs": [
    {
     "name": "stdout",
     "output_type": "stream",
     "text": [
      "predicted class: 2\n"
     ]
    },
    {
     "data": {
      "text/plain": [
       "array([0.39666667, 0.40333333, 0.2       ])"
      ]
     },
     "execution_count": 7,
     "metadata": {},
     "output_type": "execute_result"
    }
   ],
   "source": [
    "soft_classification(probs)"
   ]
  },
  {
   "cell_type": "code",
   "execution_count": 8,
   "id": "811b097a-c4b2-4aa1-95b9-d2a20ddde3ea",
   "metadata": {},
   "outputs": [
    {
     "name": "stdout",
     "output_type": "stream",
     "text": [
      "predicted class: 1\n"
     ]
    },
    {
     "data": {
      "text/plain": [
       "array([2, 1, 0])"
      ]
     },
     "execution_count": 8,
     "metadata": {},
     "output_type": "execute_result"
    }
   ],
   "source": [
    "hard_classification(probs)"
   ]
  },
  {
   "cell_type": "markdown",
   "id": "a283e64f-9ed1-44b2-ac83-3d22591223d8",
   "metadata": {
    "jp-MarkdownHeadingCollapsed": true
   },
   "source": [
    "#### Leave one-out validation\n",
    "\n",
    "Leave one out validation is where you train on every single observation except for one, which is your test set. This is extremely useful when paired with K nearest neighbors. "
   ]
  },
  {
   "cell_type": "markdown",
   "id": "79b8d7a3-b2f3-4611-849b-2148159c0e57",
   "metadata": {},
   "source": [
    "#### Grid search\n",
    "\n",
    "Here are the essential components to grid search: \n",
    "\n",
    "- **estimator** : the model to run grid search on\n",
    "- **param grid** : the dictionary of hyperparameters to try and optimize\n",
    "- **cv** : the KFold validation and number of folds to use\n",
    "- **scoring**: how the Grid model shoudl evaluate performance to select the best estimator.\n",
    "\n",
    "**Grid search kwargs**\n",
    "\n",
    "- `cv=` : the custom cross validation to use, like a custom KFold instance. By default it's 5 folds KFold validation.\n",
    "- `scoring=` : string, how the Grid model should evaluate performance to select the best estimator.\n",
    "  - `\"accuracy\"` : uses accuracy as the score. Useful for classification\n",
    "  - `\"neg_mean_squared_error\"` : uses negative mean squared error as score. Useful for regression\n",
    "  - `\"recall\"`: uses recall as the score\n",
    "\n",
    "**Grid search model attributes**"
   ]
  },
  {
   "cell_type": "code",
   "execution_count": 1,
   "id": "af5d3727-8835-4d0a-a5b8-58ecfa8a1f33",
   "metadata": {},
   "outputs": [],
   "source": [
    "from sklearn.model_selection import KFold, GridSearchCV\n",
    "from sklearn.ensemble import RandomForestClassifier as RFC\n",
    "\n",
    "# 1. create parameter grid\n",
    "param_grid = {\n",
    "    'n_estimators' : [64, 100, 128],\n",
    "    'max_depth' : [2,3,4,5],\n",
    "    'min_samples_split' : [2,3,4,5]\n",
    "}\n",
    "\n",
    "# 2. create custom cv validation\n",
    "cv = KFold(n_splits=10, random_state=146, shuffle=True)\n",
    "\n",
    "# 3. create estimator\n",
    "estimator = RFC()\n",
    "\n",
    "# 4. create grid search\n",
    "grid = GridSearchCV(estimator, param_grid, cv=cv, scoring='accuracy')\n",
    "\n",
    "# 5. train grid\n",
    "grid.fit(Xtrain, ytrain)"
   ]
  },
  {
   "cell_type": "code",
   "execution_count": null,
   "id": "e2f09679-6e13-4e85-8c49-6f6fc1d63d00",
   "metadata": {},
   "outputs": [],
   "source": []
  }
 ],
 "metadata": {
  "kernelspec": {
   "display_name": "Python 3 (ipykernel)",
   "language": "python",
   "name": "python3"
  },
  "language_info": {
   "codemirror_mode": {
    "name": "ipython",
    "version": 3
   },
   "file_extension": ".py",
   "mimetype": "text/x-python",
   "name": "python",
   "nbconvert_exporter": "python",
   "pygments_lexer": "ipython3",
   "version": "3.11.6"
  }
 },
 "nbformat": 4,
 "nbformat_minor": 5
}
