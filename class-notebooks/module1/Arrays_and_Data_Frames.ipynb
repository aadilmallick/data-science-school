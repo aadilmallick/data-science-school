{
 "cells": [
  {
   "cell_type": "code",
   "execution_count": 1,
   "metadata": {},
   "outputs": [],
   "source": [
    "import pandas as pd\n",
    "import numpy as np"
   ]
  },
  {
   "cell_type": "markdown",
   "metadata": {},
   "source": [
    "## Arrays of randomly generated data"
   ]
  },
  {
   "cell_type": "code",
   "execution_count": 2,
   "metadata": {},
   "outputs": [
    {
     "name": "stdout",
     "output_type": "stream",
     "text": [
      "[[0.49810944 0.61890697 0.29982061]\n",
      " [0.26070284 0.33385462 0.90236071]\n",
      " [0.36283182 0.00634385 0.94479603]\n",
      " [0.760953   0.60299465 0.27470333]\n",
      " [0.98892395 0.42572124 0.74183254]]\n"
     ]
    }
   ],
   "source": [
    "np.random.seed(146)\n",
    "arr = np.random.random([5,3])\n",
    "print(arr)"
   ]
  },
  {
   "cell_type": "code",
   "execution_count": 3,
   "metadata": {},
   "outputs": [
    {
     "data": {
      "text/plain": [
       "0.0063438478821165045"
      ]
     },
     "execution_count": 3,
     "metadata": {},
     "output_type": "execute_result"
    }
   ],
   "source": [
    "#Find the element in 3rd row 2nd column\n",
    "arr[2, 1]"
   ]
  },
  {
   "cell_type": "code",
   "execution_count": 4,
   "metadata": {},
   "outputs": [
    {
     "data": {
      "text/plain": [
       "array([0.36283182, 0.00634385, 0.94479603])"
      ]
     },
     "execution_count": 4,
     "metadata": {},
     "output_type": "execute_result"
    }
   ],
   "source": [
    "#Get the second row\n",
    "arr[2, :]"
   ]
  },
  {
   "cell_type": "code",
   "execution_count": 5,
   "metadata": {},
   "outputs": [
    {
     "data": {
      "text/plain": [
       "array([0.61890697, 0.33385462, 0.00634385, 0.60299465, 0.42572124])"
      ]
     },
     "execution_count": 5,
     "metadata": {},
     "output_type": "execute_result"
    }
   ],
   "source": [
    "#Get the second column\n",
    "arr[:, 1]"
   ]
  },
  {
   "cell_type": "code",
   "execution_count": 6,
   "metadata": {},
   "outputs": [
    {
     "name": "stdout",
     "output_type": "stream",
     "text": [
      "[[0.49810944 0.61890697 0.29982061]\n",
      " [0.26070284 0.33385462 0.90236071]\n",
      " [0.36283182 0.00634385 0.94479603]\n",
      " [0.760953   0.60299465 0.27470333]\n",
      " [0.98892395 0.42572124 1.        ]]\n"
     ]
    }
   ],
   "source": [
    "#Change the last entry to 1\n",
    "arr[-1, -1] = 1\n",
    "print(arr)"
   ]
  },
  {
   "cell_type": "code",
   "execution_count": 7,
   "metadata": {},
   "outputs": [
    {
     "ename": "ValueError",
     "evalue": "could not convert string to float: 'turtle'",
     "output_type": "error",
     "traceback": [
      "\u001b[0;31m---------------------------------------------------------------------------\u001b[0m",
      "\u001b[0;31mValueError\u001b[0m                                Traceback (most recent call last)",
      "Cell \u001b[0;32mIn[7], line 4\u001b[0m\n\u001b[1;32m      1\u001b[0m \u001b[38;5;66;03m#Change the last entry to 'turtle'\u001b[39;00m\n\u001b[1;32m      2\u001b[0m \u001b[38;5;66;03m#What do you notice?\u001b[39;00m\n\u001b[0;32m----> 4\u001b[0m \u001b[43marr\u001b[49m\u001b[43m[\u001b[49m\u001b[38;5;241;43m-\u001b[39;49m\u001b[38;5;241;43m1\u001b[39;49m\u001b[43m,\u001b[49m\u001b[43m \u001b[49m\u001b[38;5;241;43m-\u001b[39;49m\u001b[38;5;241;43m1\u001b[39;49m\u001b[43m]\u001b[49m \u001b[38;5;241m=\u001b[39m \u001b[38;5;124m\"\u001b[39m\u001b[38;5;124mturtle\u001b[39m\u001b[38;5;124m\"\u001b[39m\n\u001b[1;32m      5\u001b[0m \u001b[38;5;28mprint\u001b[39m(arr)\n",
      "\u001b[0;31mValueError\u001b[0m: could not convert string to float: 'turtle'"
     ]
    }
   ],
   "source": [
    "#Change the last entry to 'turtle'\n",
    "#What do you notice?\n",
    "\n",
    "arr[-1, -1] = \"turtle\"\n",
    "print(arr)"
   ]
  },
  {
   "cell_type": "code",
   "execution_count": 8,
   "metadata": {},
   "outputs": [
    {
     "name": "stdout",
     "output_type": "stream",
     "text": [
      "[[0.49810944 0.61890697 0.29982061 0.26070284 0.33385462]\n",
      " [0.90236071 0.36283182 0.00634385 0.94479603 0.760953  ]\n",
      " [0.60299465 0.27470333 0.98892395 0.42572124 1.        ]]\n"
     ]
    }
   ],
   "source": [
    "#Swap the dimensions to 3 rows, 5 columns\n",
    "new_arr = arr.reshape((3, 5))\n",
    "print(new_arr)"
   ]
  },
  {
   "cell_type": "code",
   "execution_count": 9,
   "metadata": {},
   "outputs": [
    {
     "name": "stdout",
     "output_type": "stream",
     "text": [
      "[0.49810944 0.61890697 0.29982061 0.26070284 0.33385462 0.90236071\n",
      " 0.36283182 0.00634385 0.94479603 0.760953   0.60299465 0.27470333\n",
      " 0.98892395 0.42572124 1.        ]\n"
     ]
    }
   ],
   "source": [
    "#Put everything into a 1D array\n",
    "#We prefer flatten to ravel \n",
    "flat = arr.flatten()\n",
    "print(flat)\n"
   ]
  },
  {
   "cell_type": "code",
   "execution_count": 12,
   "metadata": {},
   "outputs": [
    {
     "name": "stdout",
     "output_type": "stream",
     "text": [
      "0.5520682036776914\n",
      "[0.57430421 0.39756427 0.68433614]\n",
      "[0.472279   0.49897272 0.43799056 0.546217   0.80488173]\n"
     ]
    }
   ],
   "source": [
    "#Find the mean in the original array\n",
    "\n",
    "print(np.mean(arr))  # sums all elements\n",
    "print(np.mean(arr, axis=0)) # mean of each column (summing down by rows)\n",
    "print(np.mean(arr, axis=1)) # mean of each row (summing right by columns)\n"
   ]
  },
  {
   "cell_type": "markdown",
   "metadata": {},
   "source": [
    "## Simulating dice rolls: from arrays to data frames"
   ]
  },
  {
   "cell_type": "code",
   "execution_count": 2,
   "metadata": {},
   "outputs": [],
   "source": [
    "# How many sides do the dice have?\n",
    "n_sides = 6\n",
    "# How many dice?\n",
    "n_dice = 5\n",
    "# How many times do we want to roll them?\n",
    "n_rolls = 1000"
   ]
  },
  {
   "cell_type": "code",
   "execution_count": 3,
   "metadata": {},
   "outputs": [],
   "source": [
    "np.random.seed(182)\n",
    "rolls = np.random.randint(low = 1, high = n_sides+1, size = (n_rolls, n_dice))"
   ]
  },
  {
   "cell_type": "code",
   "execution_count": 9,
   "metadata": {},
   "outputs": [
    {
     "data": {
      "text/plain": [
       "(1000, 5)"
      ]
     },
     "execution_count": 9,
     "metadata": {},
     "output_type": "execute_result"
    }
   ],
   "source": [
    "rolls.shape"
   ]
  },
  {
   "cell_type": "code",
   "execution_count": 14,
   "metadata": {},
   "outputs": [
    {
     "data": {
      "text/plain": [
       "array([15, 14, 15, 12, 18, 22, 13, 21, 21, 15, 20, 12, 18,  9, 20, 11, 16,\n",
       "       26, 19, 24, 13, 19, 23, 21, 10, 20, 19, 13, 20, 22, 21, 13, 22, 18,\n",
       "       14, 10, 10, 16, 16, 21, 23, 19, 19, 16, 15, 14, 18, 17, 15, 14, 20,\n",
       "       16, 15, 23, 16, 19, 20, 17, 21, 19, 13, 16, 19, 22, 22, 19, 24, 19,\n",
       "       18, 15, 13, 17, 19, 16, 14, 18, 24, 18, 15, 15, 15, 19, 23, 10, 18,\n",
       "       18, 19, 16, 19, 20, 18, 20, 17, 17, 12, 20, 21, 15, 14, 13, 14, 16,\n",
       "       18, 22, 22, 12, 20, 19, 18, 22, 20, 13, 23, 17, 15, 12, 22, 16, 21,\n",
       "       12, 12, 19, 25, 14, 23, 16, 26, 17, 14, 15, 19, 18, 13, 18, 22, 17,\n",
       "       17, 21, 16, 21, 15, 14, 21, 20, 19, 25, 17, 14, 17, 21, 19, 18,  7,\n",
       "       18, 17, 12, 18, 17, 23, 19, 15, 16, 17, 18, 19, 14, 18, 15, 20, 11,\n",
       "       16, 19, 14, 21, 17, 13, 18, 17, 18, 13, 20, 18, 14, 19, 17, 16, 17,\n",
       "       23, 21, 20, 17, 16, 19, 16, 18, 20, 15, 21, 12, 14, 12, 21, 16, 19,\n",
       "       18, 19, 23, 13, 12, 20, 24,  9, 11, 22, 14, 17, 21, 20, 14, 19, 18,\n",
       "       16, 19, 19, 19, 16, 24, 20,  8,  9, 25, 18, 21, 14, 25, 22, 22, 18,\n",
       "       14, 15, 16, 17, 13, 20, 11, 19, 18, 18, 15, 23, 16, 15, 17, 19, 14,\n",
       "       20, 14, 19, 19, 23, 20, 19, 16, 14,  5, 21, 24, 16, 17, 15, 27, 22,\n",
       "       17, 25, 22, 24, 15, 23, 13, 19, 14, 23, 18, 14, 10, 16, 17, 20, 24,\n",
       "       21, 13, 13, 18, 18, 12, 25, 11, 11, 18, 15, 19, 14, 22, 21, 14, 21,\n",
       "       20, 15, 20, 17, 16, 17, 22, 19, 17, 20, 17, 18, 23, 22, 15, 25, 17,\n",
       "       22,  8, 15, 21, 15, 17, 21, 24, 15, 18, 15, 18, 23, 16, 20, 17, 25,\n",
       "       20, 10, 15, 14, 24, 26, 19, 21, 16, 11, 18, 26, 23, 22, 19, 11, 11,\n",
       "       10, 15, 20, 20,  9, 13, 25, 14, 21, 10, 14, 16, 11, 22, 15, 19, 16,\n",
       "       16, 17, 13, 15, 18, 16, 13, 16, 13, 16, 21, 19, 16, 13, 15, 20, 14,\n",
       "       21, 18, 21, 15, 16, 21,  9, 18, 23, 14, 18, 23, 21, 15, 14, 15, 15,\n",
       "       18, 19, 14,  8, 19, 19, 16, 18, 20, 19, 15, 24,  8, 15, 17, 18, 19,\n",
       "       15, 20, 21, 15, 15, 16, 17, 15, 19, 20, 19, 18, 25, 17, 17, 19, 13,\n",
       "       14, 19, 20, 14, 17, 15, 19, 19, 19, 18, 14, 20, 13, 12, 21, 20, 22,\n",
       "       23, 18, 16, 16, 19, 16, 17, 15, 15, 17, 15, 13, 18, 14, 18, 12, 20,\n",
       "       20, 15, 18, 19, 18, 15, 12, 15, 20, 11, 21, 13, 16, 19, 21, 16, 16,\n",
       "       11, 16, 18, 18, 21, 19, 15, 16, 16, 17, 17, 19, 11, 11, 16, 17, 21,\n",
       "       21, 15, 17, 10, 18, 14, 24, 22, 19, 16, 19, 17, 14, 20, 14, 11, 18,\n",
       "       14, 18, 22, 11, 12, 16, 23, 16, 16, 15, 16, 20, 13, 22, 12, 23, 16,\n",
       "       17, 22, 13, 17, 19, 20, 18, 21, 14, 16, 24, 16, 16, 14, 13, 21, 19,\n",
       "       15, 19, 12, 20, 18, 16, 19, 15, 19, 16, 23, 16, 16, 24, 18, 17, 19,\n",
       "       22, 15, 16, 20, 17, 13, 20, 13, 17, 13, 14, 15, 15, 21, 11, 21, 15,\n",
       "       20, 19, 12, 22, 16, 16, 15, 22, 18, 22, 11, 21, 25, 21, 15, 18, 16,\n",
       "       21, 25, 24, 15, 18, 16, 18, 16, 21, 22, 14, 12, 16, 17, 23, 16, 20,\n",
       "       18, 19, 16, 22, 17, 19, 14, 14, 12, 12, 15, 19, 16, 18, 15, 12, 20,\n",
       "       14, 14, 16, 13, 11, 11, 24, 16, 18, 14, 19, 17, 13, 22, 23, 19, 21,\n",
       "       16, 19, 25, 20, 15, 17, 21, 16, 15, 18, 19, 20, 17, 15, 16, 23, 12,\n",
       "       21, 23, 17, 20, 21, 18, 18, 17, 19, 23, 14, 16, 19, 14, 13, 21, 19,\n",
       "       20, 16, 15, 17, 17, 20, 19, 12,  8, 13, 18, 16, 23, 22, 20, 16, 22,\n",
       "       19, 18, 17, 14, 13, 21, 13, 11, 14, 13, 17, 19, 18, 16, 14, 23, 14,\n",
       "       18, 25, 20, 19, 16, 14, 16, 17, 19, 21, 14, 16, 16, 21, 18, 14, 19,\n",
       "       13, 23, 16, 16, 17, 20, 24, 23, 17, 12, 20, 18, 15, 14, 16, 17, 19,\n",
       "       20, 17, 18, 14, 18, 20, 17, 23, 26, 21, 16, 22, 18, 13, 21, 13, 19,\n",
       "       20, 16, 19, 18, 15, 23, 18, 16, 17, 13, 16, 15, 18, 15, 19, 18, 20,\n",
       "       14, 21, 20, 19, 10, 16, 17, 16, 19, 21, 20, 20, 15, 19, 25, 11, 25,\n",
       "       20, 19, 15, 19, 19, 15, 17, 23, 14, 27, 19,  9, 17, 18, 23, 21, 20,\n",
       "       22, 17, 13, 22, 13, 18, 11, 13, 21, 10, 19, 10, 22, 20, 11, 21, 26,\n",
       "       24, 23, 16, 15, 15, 17, 27, 16, 15, 22, 14, 20, 18, 27, 24, 22, 21,\n",
       "       18, 14, 21, 20, 13, 22, 14, 22, 17, 26, 23, 20, 14,  8, 20, 19, 17,\n",
       "       10, 21, 23, 26, 22, 16, 13, 22, 13, 14, 11, 13, 19, 15, 14, 18, 22,\n",
       "       18, 22, 15, 19, 19, 15, 22, 19, 13, 16, 18, 18, 19, 16, 17, 23, 24,\n",
       "       18, 23, 17, 17, 21, 13, 17, 14, 14, 20, 18, 15, 19, 13, 13, 17, 20,\n",
       "       16, 11, 18, 11, 18, 11, 20, 19, 15, 19, 17, 12, 22, 19, 17, 17, 16,\n",
       "       20, 19, 12, 14, 17, 18, 10, 13, 22, 19, 17, 18, 18, 17, 17, 12, 24,\n",
       "       11, 16, 13, 25, 18, 15, 21, 21, 13, 17, 22, 23, 20,  8, 20, 18, 22,\n",
       "       22, 21, 21, 25, 22, 13, 25, 17, 19, 20, 25, 20, 20, 16])"
      ]
     },
     "execution_count": 14,
     "metadata": {},
     "output_type": "execute_result"
    }
   ],
   "source": [
    "np.sum(rolls, axis=1)"
   ]
  },
  {
   "cell_type": "code",
   "execution_count": 13,
   "metadata": {},
   "outputs": [
    {
     "data": {
      "text/plain": [
       "968"
      ]
     },
     "execution_count": 13,
     "metadata": {},
     "output_type": "execute_result"
    }
   ],
   "source": [
    "np.sum(np.sum(rolls, axis=1) < 25)"
   ]
  },
  {
   "cell_type": "code",
   "execution_count": 18,
   "metadata": {},
   "outputs": [
    {
     "data": {
      "text/plain": [
       "(968, 5)"
      ]
     },
     "execution_count": 18,
     "metadata": {},
     "output_type": "execute_result"
    }
   ],
   "source": [
    "rolls[np.sum(rolls, axis=1) < 25].shape"
   ]
  },
  {
   "cell_type": "code",
   "execution_count": 15,
   "metadata": {},
   "outputs": [
    {
     "data": {
      "text/plain": [
       "array([4, 3, 2, 5, 1])"
      ]
     },
     "execution_count": 15,
     "metadata": {},
     "output_type": "execute_result"
    }
   ],
   "source": [
    "#look at first row\n",
    "rolls[0]"
   ]
  },
  {
   "cell_type": "code",
   "execution_count": 16,
   "metadata": {},
   "outputs": [
    {
     "data": {
      "text/plain": [
       "array([[4, 3, 2, 5, 1],\n",
       "       [2, 2, 2, 5, 6],\n",
       "       [6, 3, 5, 2, 3],\n",
       "       [4, 2, 4, 4, 2],\n",
       "       [4, 5, 2, 1, 4],\n",
       "       [5, 4, 3, 6, 5],\n",
       "       [1, 4, 4, 3, 3],\n",
       "       [6, 6, 1, 2, 1],\n",
       "       [4, 1, 1, 6, 5],\n",
       "       [1, 1, 1, 1, 6]])"
      ]
     },
     "execution_count": 16,
     "metadata": {},
     "output_type": "execute_result"
    }
   ],
   "source": [
    "#look at first 10 rows\n",
    "rolls[0:10]"
   ]
  },
  {
   "cell_type": "code",
   "execution_count": 17,
   "metadata": {},
   "outputs": [],
   "source": [
    "#turn this into a data frame\n",
    "my_rolls = pd.DataFrame(data=rolls, columns = ['d1','d2','d3','d4','d5'])"
   ]
  },
  {
   "cell_type": "code",
   "execution_count": 18,
   "metadata": {},
   "outputs": [
    {
     "data": {
      "text/html": [
       "<div>\n",
       "<style scoped>\n",
       "    .dataframe tbody tr th:only-of-type {\n",
       "        vertical-align: middle;\n",
       "    }\n",
       "\n",
       "    .dataframe tbody tr th {\n",
       "        vertical-align: top;\n",
       "    }\n",
       "\n",
       "    .dataframe thead th {\n",
       "        text-align: right;\n",
       "    }\n",
       "</style>\n",
       "<table border=\"1\" class=\"dataframe\">\n",
       "  <thead>\n",
       "    <tr style=\"text-align: right;\">\n",
       "      <th></th>\n",
       "      <th>d1</th>\n",
       "      <th>d2</th>\n",
       "      <th>d3</th>\n",
       "      <th>d4</th>\n",
       "      <th>d5</th>\n",
       "    </tr>\n",
       "  </thead>\n",
       "  <tbody>\n",
       "    <tr>\n",
       "      <th>0</th>\n",
       "      <td>4</td>\n",
       "      <td>3</td>\n",
       "      <td>2</td>\n",
       "      <td>5</td>\n",
       "      <td>1</td>\n",
       "    </tr>\n",
       "    <tr>\n",
       "      <th>1</th>\n",
       "      <td>2</td>\n",
       "      <td>2</td>\n",
       "      <td>2</td>\n",
       "      <td>5</td>\n",
       "      <td>6</td>\n",
       "    </tr>\n",
       "    <tr>\n",
       "      <th>2</th>\n",
       "      <td>6</td>\n",
       "      <td>3</td>\n",
       "      <td>5</td>\n",
       "      <td>2</td>\n",
       "      <td>3</td>\n",
       "    </tr>\n",
       "    <tr>\n",
       "      <th>3</th>\n",
       "      <td>4</td>\n",
       "      <td>2</td>\n",
       "      <td>4</td>\n",
       "      <td>4</td>\n",
       "      <td>2</td>\n",
       "    </tr>\n",
       "    <tr>\n",
       "      <th>4</th>\n",
       "      <td>4</td>\n",
       "      <td>5</td>\n",
       "      <td>2</td>\n",
       "      <td>1</td>\n",
       "      <td>4</td>\n",
       "    </tr>\n",
       "  </tbody>\n",
       "</table>\n",
       "</div>"
      ],
      "text/plain": [
       "   d1  d2  d3  d4  d5\n",
       "0   4   3   2   5   1\n",
       "1   2   2   2   5   6\n",
       "2   6   3   5   2   3\n",
       "3   4   2   4   4   2\n",
       "4   4   5   2   1   4"
      ]
     },
     "execution_count": 18,
     "metadata": {},
     "output_type": "execute_result"
    }
   ],
   "source": [
    "my_rolls.head()"
   ]
  },
  {
   "cell_type": "code",
   "execution_count": null,
   "metadata": {},
   "outputs": [],
   "source": [
    "#Let's get the 10th set of rolls\n",
    "my_rolls[9]"
   ]
  },
  {
   "cell_type": "code",
   "execution_count": null,
   "metadata": {},
   "outputs": [],
   "source": []
  },
  {
   "cell_type": "code",
   "execution_count": null,
   "metadata": {},
   "outputs": [],
   "source": []
  },
  {
   "cell_type": "code",
   "execution_count": null,
   "metadata": {},
   "outputs": [],
   "source": [
    "#get all of the rolls from the data frame where the first roll was a 1 and the last roll\n",
    "#was not a 6\n"
   ]
  },
  {
   "cell_type": "code",
   "execution_count": null,
   "metadata": {},
   "outputs": [],
   "source": [
    "#get the 10th roll from this subset\n"
   ]
  },
  {
   "cell_type": "code",
   "execution_count": null,
   "metadata": {},
   "outputs": [],
   "source": [
    "#Why didn't this work?"
   ]
  },
  {
   "cell_type": "code",
   "execution_count": null,
   "metadata": {},
   "outputs": [],
   "source": [
    "#find the mean for each roll\n",
    "#nonsensical but to illustrate something\n",
    "my_rolls.mean()"
   ]
  },
  {
   "cell_type": "markdown",
   "metadata": {},
   "source": [
    "## From Data Frames to Arrays"
   ]
  },
  {
   "cell_type": "markdown",
   "metadata": {},
   "source": [
    "One of the most common things we will do when building models is separate out features (explanatory variables) from our response (dependent variable) and any other metadata (information about the observations). Commonly we will have the data in a data frame and will need to convert it into two arrays for analysis.  \n",
    "\n",
    "Many of the errors you will have when you create models will be related to improper formatting of the input data. That's why we will talk about it now!"
   ]
  },
  {
   "cell_type": "code",
   "execution_count": null,
   "metadata": {},
   "outputs": [],
   "source": [
    "data = pd.read_csv('./data/gapminder.tsv', sep = '\\t')"
   ]
  },
  {
   "cell_type": "code",
   "execution_count": null,
   "metadata": {},
   "outputs": [],
   "source": [
    "data.head()"
   ]
  },
  {
   "cell_type": "code",
   "execution_count": null,
   "metadata": {},
   "outputs": [],
   "source": [
    "#We will look only at 2002 and Americas to create a smallish data set- you tell me!\n"
   ]
  },
  {
   "cell_type": "code",
   "execution_count": null,
   "metadata": {},
   "outputs": [],
   "source": [
    "data_2002.head()"
   ]
  },
  {
   "cell_type": "code",
   "execution_count": null,
   "metadata": {},
   "outputs": [],
   "source": [
    "#we want to separate out population and gdpPercap as features\n",
    "#and make them an array\n"
   ]
  },
  {
   "cell_type": "code",
   "execution_count": null,
   "metadata": {},
   "outputs": [],
   "source": []
  },
  {
   "cell_type": "code",
   "execution_count": null,
   "metadata": {},
   "outputs": [],
   "source": [
    "#Suppose that we are trying to predict life expectancy\n",
    "#We want to separate that out and put it in its own array\n"
   ]
  },
  {
   "cell_type": "code",
   "execution_count": null,
   "metadata": {},
   "outputs": [],
   "source": []
  },
  {
   "cell_type": "code",
   "execution_count": null,
   "metadata": {},
   "outputs": [],
   "source": []
  },
  {
   "cell_type": "markdown",
   "metadata": {},
   "source": [
    "Notice that because we only had one column of data, this array is one-dimensional - everything is listed in one big \"list\". When you do analysis, it will want this organized in the same rows and columns as the features, i.e., each row with its own array. "
   ]
  },
  {
   "cell_type": "code",
   "execution_count": null,
   "metadata": {},
   "outputs": [],
   "source": [
    "\n"
   ]
  },
  {
   "cell_type": "code",
   "execution_count": null,
   "metadata": {},
   "outputs": [],
   "source": []
  }
 ],
 "metadata": {
  "kernelspec": {
   "display_name": "Python 3 (ipykernel)",
   "language": "python",
   "name": "python3"
  },
  "language_info": {
   "codemirror_mode": {
    "name": "ipython",
    "version": 3
   },
   "file_extension": ".py",
   "mimetype": "text/x-python",
   "name": "python",
   "nbconvert_exporter": "python",
   "pygments_lexer": "ipython3",
   "version": "3.11.6"
  }
 },
 "nbformat": 4,
 "nbformat_minor": 4
}
