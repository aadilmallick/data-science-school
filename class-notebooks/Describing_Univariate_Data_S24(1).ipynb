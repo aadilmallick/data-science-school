{
 "cells": [
  {
   "cell_type": "markdown",
   "metadata": {},
   "source": [
    "## Describing Univariate Data with Statistics and Plots"
   ]
  },
  {
   "cell_type": "markdown",
   "metadata": {},
   "source": [
    "Before building a model or doing any analysis, it's important to understand the data you are working with.  This includes things such as understanding what was measured, how the data was collected, being able to produce useful summaries of the data, and determine if there are any potential problems/mistakes in the data.\n",
    "\n",
    "Additionally, these things are also useful when you are trying to interpret the results of someone else's analysis.  \n",
    "\n",
    "You should ALWAYS, ALWAYS look at your data. Don't assume that any method you are trying to use automatically works for the type of data you have.  "
   ]
  },
  {
   "cell_type": "code",
   "execution_count": null,
   "metadata": {},
   "outputs": [],
   "source": [
    "#data source: Times Higher Education/Wall Street Journal via Kaggle: \n",
    "#https://www.kaggle.com/datasets/mylesoneill/world-university-rankings\n",
    "#methodology"
   ]
  },
  {
   "cell_type": "code",
   "execution_count": 1,
   "metadata": {},
   "outputs": [],
   "source": [
    "import pandas as pd"
   ]
  },
  {
   "cell_type": "code",
   "execution_count": 2,
   "metadata": {},
   "outputs": [],
   "source": [
    "college = pd.read_csv('../data/timesData.csv')"
   ]
  },
  {
   "cell_type": "code",
   "execution_count": 3,
   "metadata": {},
   "outputs": [
    {
     "data": {
      "text/html": [
       "<div>\n",
       "<style scoped>\n",
       "    .dataframe tbody tr th:only-of-type {\n",
       "        vertical-align: middle;\n",
       "    }\n",
       "\n",
       "    .dataframe tbody tr th {\n",
       "        vertical-align: top;\n",
       "    }\n",
       "\n",
       "    .dataframe thead th {\n",
       "        text-align: right;\n",
       "    }\n",
       "</style>\n",
       "<table border=\"1\" class=\"dataframe\">\n",
       "  <thead>\n",
       "    <tr style=\"text-align: right;\">\n",
       "      <th></th>\n",
       "      <th>world_rank</th>\n",
       "      <th>university_name</th>\n",
       "      <th>country</th>\n",
       "      <th>teaching</th>\n",
       "      <th>international</th>\n",
       "      <th>research</th>\n",
       "      <th>citations</th>\n",
       "      <th>income</th>\n",
       "      <th>total_score</th>\n",
       "      <th>num_students</th>\n",
       "      <th>student_staff_ratio</th>\n",
       "      <th>international_students</th>\n",
       "      <th>female_male_ratio</th>\n",
       "      <th>year</th>\n",
       "    </tr>\n",
       "  </thead>\n",
       "  <tbody>\n",
       "    <tr>\n",
       "      <th>0</th>\n",
       "      <td>1</td>\n",
       "      <td>Harvard University</td>\n",
       "      <td>United States of America</td>\n",
       "      <td>99.7</td>\n",
       "      <td>72.4</td>\n",
       "      <td>98.7</td>\n",
       "      <td>98.8</td>\n",
       "      <td>34.5</td>\n",
       "      <td>96.1</td>\n",
       "      <td>20,152</td>\n",
       "      <td>8.9</td>\n",
       "      <td>25%</td>\n",
       "      <td>NaN</td>\n",
       "      <td>2011</td>\n",
       "    </tr>\n",
       "    <tr>\n",
       "      <th>1</th>\n",
       "      <td>2</td>\n",
       "      <td>California Institute of Technology</td>\n",
       "      <td>United States of America</td>\n",
       "      <td>97.7</td>\n",
       "      <td>54.6</td>\n",
       "      <td>98.0</td>\n",
       "      <td>99.9</td>\n",
       "      <td>83.7</td>\n",
       "      <td>96.0</td>\n",
       "      <td>2,243</td>\n",
       "      <td>6.9</td>\n",
       "      <td>27%</td>\n",
       "      <td>33 : 67</td>\n",
       "      <td>2011</td>\n",
       "    </tr>\n",
       "    <tr>\n",
       "      <th>2</th>\n",
       "      <td>3</td>\n",
       "      <td>Massachusetts Institute of Technology</td>\n",
       "      <td>United States of America</td>\n",
       "      <td>97.8</td>\n",
       "      <td>82.3</td>\n",
       "      <td>91.4</td>\n",
       "      <td>99.9</td>\n",
       "      <td>87.5</td>\n",
       "      <td>95.6</td>\n",
       "      <td>11,074</td>\n",
       "      <td>9.0</td>\n",
       "      <td>33%</td>\n",
       "      <td>37 : 63</td>\n",
       "      <td>2011</td>\n",
       "    </tr>\n",
       "    <tr>\n",
       "      <th>3</th>\n",
       "      <td>4</td>\n",
       "      <td>Stanford University</td>\n",
       "      <td>United States of America</td>\n",
       "      <td>98.3</td>\n",
       "      <td>29.5</td>\n",
       "      <td>98.1</td>\n",
       "      <td>99.2</td>\n",
       "      <td>64.3</td>\n",
       "      <td>94.3</td>\n",
       "      <td>15,596</td>\n",
       "      <td>7.8</td>\n",
       "      <td>22%</td>\n",
       "      <td>42 : 58</td>\n",
       "      <td>2011</td>\n",
       "    </tr>\n",
       "    <tr>\n",
       "      <th>4</th>\n",
       "      <td>5</td>\n",
       "      <td>Princeton University</td>\n",
       "      <td>United States of America</td>\n",
       "      <td>90.9</td>\n",
       "      <td>70.3</td>\n",
       "      <td>95.4</td>\n",
       "      <td>99.9</td>\n",
       "      <td>-</td>\n",
       "      <td>94.2</td>\n",
       "      <td>7,929</td>\n",
       "      <td>8.4</td>\n",
       "      <td>27%</td>\n",
       "      <td>45 : 55</td>\n",
       "      <td>2011</td>\n",
       "    </tr>\n",
       "  </tbody>\n",
       "</table>\n",
       "</div>"
      ],
      "text/plain": [
       "  world_rank                        university_name                   country  \\\n",
       "0          1                     Harvard University  United States of America   \n",
       "1          2     California Institute of Technology  United States of America   \n",
       "2          3  Massachusetts Institute of Technology  United States of America   \n",
       "3          4                    Stanford University  United States of America   \n",
       "4          5                   Princeton University  United States of America   \n",
       "\n",
       "   teaching international  research  citations income total_score  \\\n",
       "0      99.7          72.4      98.7       98.8   34.5        96.1   \n",
       "1      97.7          54.6      98.0       99.9   83.7        96.0   \n",
       "2      97.8          82.3      91.4       99.9   87.5        95.6   \n",
       "3      98.3          29.5      98.1       99.2   64.3        94.3   \n",
       "4      90.9          70.3      95.4       99.9      -        94.2   \n",
       "\n",
       "  num_students  student_staff_ratio international_students female_male_ratio  \\\n",
       "0       20,152                  8.9                    25%               NaN   \n",
       "1        2,243                  6.9                    27%           33 : 67   \n",
       "2       11,074                  9.0                    33%           37 : 63   \n",
       "3       15,596                  7.8                    22%           42 : 58   \n",
       "4        7,929                  8.4                    27%           45 : 55   \n",
       "\n",
       "   year  \n",
       "0  2011  \n",
       "1  2011  \n",
       "2  2011  \n",
       "3  2011  \n",
       "4  2011  "
      ]
     },
     "execution_count": 3,
     "metadata": {},
     "output_type": "execute_result"
    }
   ],
   "source": [
    "college.head()"
   ]
  },
  {
   "cell_type": "code",
   "execution_count": 5,
   "metadata": {},
   "outputs": [],
   "source": [
    "college.set_index('university_name', inplace = True)"
   ]
  },
  {
   "cell_type": "code",
   "execution_count": 6,
   "metadata": {},
   "outputs": [
    {
     "data": {
      "text/plain": [
       "country\n",
       "United States of America     659\n",
       "United Kingdom               300\n",
       "Germany                      152\n",
       "Australia                    117\n",
       "Canada                       108\n",
       "                            ... \n",
       "Unted Kingdom                  1\n",
       "Cyprus                         1\n",
       "Unisted States of America      1\n",
       "Luxembourg                     1\n",
       "Lithuania                      1\n",
       "Name: count, Length: 72, dtype: int64"
      ]
     },
     "execution_count": 6,
     "metadata": {},
     "output_type": "execute_result"
    }
   ],
   "source": [
    "college['country'].value_counts()"
   ]
  },
  {
   "cell_type": "code",
   "execution_count": 7,
   "metadata": {},
   "outputs": [
    {
     "data": {
      "text/html": [
       "<div>\n",
       "<style scoped>\n",
       "    .dataframe tbody tr th:only-of-type {\n",
       "        vertical-align: middle;\n",
       "    }\n",
       "\n",
       "    .dataframe tbody tr th {\n",
       "        vertical-align: top;\n",
       "    }\n",
       "\n",
       "    .dataframe thead th {\n",
       "        text-align: right;\n",
       "    }\n",
       "</style>\n",
       "<table border=\"1\" class=\"dataframe\">\n",
       "  <thead>\n",
       "    <tr style=\"text-align: right;\">\n",
       "      <th></th>\n",
       "      <th>world_rank</th>\n",
       "      <th>country</th>\n",
       "      <th>teaching</th>\n",
       "      <th>international</th>\n",
       "      <th>research</th>\n",
       "      <th>citations</th>\n",
       "      <th>income</th>\n",
       "      <th>total_score</th>\n",
       "      <th>num_students</th>\n",
       "      <th>student_staff_ratio</th>\n",
       "      <th>international_students</th>\n",
       "      <th>female_male_ratio</th>\n",
       "      <th>year</th>\n",
       "    </tr>\n",
       "    <tr>\n",
       "      <th>university_name</th>\n",
       "      <th></th>\n",
       "      <th></th>\n",
       "      <th></th>\n",
       "      <th></th>\n",
       "      <th></th>\n",
       "      <th></th>\n",
       "      <th></th>\n",
       "      <th></th>\n",
       "      <th></th>\n",
       "      <th></th>\n",
       "      <th></th>\n",
       "      <th></th>\n",
       "      <th></th>\n",
       "    </tr>\n",
       "  </thead>\n",
       "  <tbody>\n",
       "    <tr>\n",
       "      <th>William &amp; Mary</th>\n",
       "      <td>75</td>\n",
       "      <td>United States of America</td>\n",
       "      <td>53.1</td>\n",
       "      <td>20.9</td>\n",
       "      <td>36.1</td>\n",
       "      <td>95.6</td>\n",
       "      <td>-</td>\n",
       "      <td>60.4</td>\n",
       "      <td>7,867</td>\n",
       "      <td>11.8</td>\n",
       "      <td>7%</td>\n",
       "      <td>54 : 46</td>\n",
       "      <td>2011</td>\n",
       "    </tr>\n",
       "    <tr>\n",
       "      <th>William &amp; Mary</th>\n",
       "      <td>146</td>\n",
       "      <td>United States of America</td>\n",
       "      <td>40.0</td>\n",
       "      <td>19.7</td>\n",
       "      <td>18.9</td>\n",
       "      <td>90.7</td>\n",
       "      <td>27.0</td>\n",
       "      <td>47.0</td>\n",
       "      <td>7,867</td>\n",
       "      <td>11.8</td>\n",
       "      <td>7%</td>\n",
       "      <td>54 : 46</td>\n",
       "      <td>2012</td>\n",
       "    </tr>\n",
       "    <tr>\n",
       "      <th>William &amp; Mary</th>\n",
       "      <td>184</td>\n",
       "      <td>United States of America</td>\n",
       "      <td>41.3</td>\n",
       "      <td>25.8</td>\n",
       "      <td>22.6</td>\n",
       "      <td>87.1</td>\n",
       "      <td>29.9</td>\n",
       "      <td>48.0</td>\n",
       "      <td>7,867</td>\n",
       "      <td>11.8</td>\n",
       "      <td>7%</td>\n",
       "      <td>54 : 46</td>\n",
       "      <td>2013</td>\n",
       "    </tr>\n",
       "    <tr>\n",
       "      <th>William &amp; Mary</th>\n",
       "      <td>201-225</td>\n",
       "      <td>United States of America</td>\n",
       "      <td>37.2</td>\n",
       "      <td>26.0</td>\n",
       "      <td>18.5</td>\n",
       "      <td>73.6</td>\n",
       "      <td>31.9</td>\n",
       "      <td>-</td>\n",
       "      <td>7,867</td>\n",
       "      <td>11.8</td>\n",
       "      <td>7%</td>\n",
       "      <td>54 : 46</td>\n",
       "      <td>2014</td>\n",
       "    </tr>\n",
       "    <tr>\n",
       "      <th>William &amp; Mary</th>\n",
       "      <td>201-225</td>\n",
       "      <td>United States of America</td>\n",
       "      <td>36.8</td>\n",
       "      <td>26.5</td>\n",
       "      <td>19.9</td>\n",
       "      <td>78.7</td>\n",
       "      <td>30.0</td>\n",
       "      <td>-</td>\n",
       "      <td>7,867</td>\n",
       "      <td>11.8</td>\n",
       "      <td>7%</td>\n",
       "      <td>54 : 46</td>\n",
       "      <td>2015</td>\n",
       "    </tr>\n",
       "    <tr>\n",
       "      <th>William &amp; Mary</th>\n",
       "      <td>201-250</td>\n",
       "      <td>United States of America</td>\n",
       "      <td>38.5</td>\n",
       "      <td>26.6</td>\n",
       "      <td>17.5</td>\n",
       "      <td>85.0</td>\n",
       "      <td>29.1</td>\n",
       "      <td>-</td>\n",
       "      <td>7,867</td>\n",
       "      <td>11.8</td>\n",
       "      <td>7%</td>\n",
       "      <td>54 : 46</td>\n",
       "      <td>2016</td>\n",
       "    </tr>\n",
       "  </tbody>\n",
       "</table>\n",
       "</div>"
      ],
      "text/plain": [
       "                world_rank                   country  teaching international  \\\n",
       "university_name                                                                \n",
       "William & Mary          75  United States of America      53.1          20.9   \n",
       "William & Mary         146  United States of America      40.0          19.7   \n",
       "William & Mary         184  United States of America      41.3          25.8   \n",
       "William & Mary     201-225  United States of America      37.2          26.0   \n",
       "William & Mary     201-225  United States of America      36.8          26.5   \n",
       "William & Mary     201-250  United States of America      38.5          26.6   \n",
       "\n",
       "                 research  citations income total_score num_students  \\\n",
       "university_name                                                        \n",
       "William & Mary       36.1       95.6      -        60.4        7,867   \n",
       "William & Mary       18.9       90.7   27.0        47.0        7,867   \n",
       "William & Mary       22.6       87.1   29.9        48.0        7,867   \n",
       "William & Mary       18.5       73.6   31.9           -        7,867   \n",
       "William & Mary       19.9       78.7   30.0           -        7,867   \n",
       "William & Mary       17.5       85.0   29.1           -        7,867   \n",
       "\n",
       "                 student_staff_ratio international_students female_male_ratio  \\\n",
       "university_name                                                                 \n",
       "William & Mary                  11.8                     7%           54 : 46   \n",
       "William & Mary                  11.8                     7%           54 : 46   \n",
       "William & Mary                  11.8                     7%           54 : 46   \n",
       "William & Mary                  11.8                     7%           54 : 46   \n",
       "William & Mary                  11.8                     7%           54 : 46   \n",
       "William & Mary                  11.8                     7%           54 : 46   \n",
       "\n",
       "                 year  \n",
       "university_name        \n",
       "William & Mary   2011  \n",
       "William & Mary   2012  \n",
       "William & Mary   2013  \n",
       "William & Mary   2014  \n",
       "William & Mary   2015  \n",
       "William & Mary   2016  "
      ]
     },
     "execution_count": 7,
     "metadata": {},
     "output_type": "execute_result"
    }
   ],
   "source": [
    "#Find WM\n",
    "wm = college.index.str.contains('William')\n",
    "college.loc['William & Mary']"
   ]
  },
  {
   "cell_type": "code",
   "execution_count": null,
   "metadata": {},
   "outputs": [],
   "source": []
  },
  {
   "cell_type": "markdown",
   "metadata": {},
   "source": [
    "## Summary statistics"
   ]
  },
  {
   "cell_type": "markdown",
   "metadata": {},
   "source": [
    "The most commonly used summary statistics tend to come in two broad categories:\n",
    "\n",
    "1. Measures of central tendency: what is a \"typical\" observation? (mean, median, mode)\n",
    " \n",
    "2. Measures of variability: how spread out is the data around the center? (stdev, IQR)\n"
   ]
  },
  {
   "cell_type": "code",
   "execution_count": 8,
   "metadata": {},
   "outputs": [],
   "source": [
    "import numpy as np\n",
    "import matplotlib.pyplot as plt"
   ]
  },
  {
   "cell_type": "markdown",
   "metadata": {},
   "source": [
    "### Measures of central tendency and histograms"
   ]
  },
  {
   "cell_type": "code",
   "execution_count": 9,
   "metadata": {},
   "outputs": [],
   "source": [
    "# How many data points do I want?\n",
    "n = 1000\n",
    "\n",
    "# Set the random seed to make sure we get the same answers\n",
    "np.random.seed(146)\n",
    "x1 = np.random.random(size=n)"
   ]
  },
  {
   "cell_type": "code",
   "execution_count": null,
   "metadata": {},
   "outputs": [],
   "source": []
  },
  {
   "cell_type": "code",
   "execution_count": null,
   "metadata": {},
   "outputs": [],
   "source": []
  },
  {
   "cell_type": "code",
   "execution_count": 10,
   "metadata": {},
   "outputs": [],
   "source": [
    "#Let's generate more fake data\n",
    "a = 0.1\n",
    "b = 0.1\n",
    "n = 1000\n",
    "np.random.seed(100)\n",
    "x2 = np.random.beta(a,b,size=n)"
   ]
  },
  {
   "cell_type": "code",
   "execution_count": null,
   "metadata": {},
   "outputs": [],
   "source": []
  },
  {
   "cell_type": "code",
   "execution_count": null,
   "metadata": {},
   "outputs": [],
   "source": []
  },
  {
   "cell_type": "markdown",
   "metadata": {},
   "source": [
    "A **histogram** is a good way to explore the distribution of our data. What do we mean by a distribution?"
   ]
  },
  {
   "cell_type": "code",
   "execution_count": 11,
   "metadata": {},
   "outputs": [
    {
     "data": {
      "image/png": "[encoded data removed]",
      "text/plain": [
       "<Figure size 640x480 with 1 Axes>"
      ]
     },
     "metadata": {},
     "output_type": "display_data"
    }
   ],
   "source": [
    "plt.hist(x1, rwidth = 0.95)\n",
    "ax = plt.gca()\n",
    "[ax.spines[i].set_visible(False) for i in ax.spines]\n",
    "plt.tick_params(labelsize = 12, size = 0)\n",
    "plt.ylabel('Frequency', fontsize = 14)\n",
    "plt.xlabel('$x_1$', fontsize = 14)\n",
    "plt.show()"
   ]
  },
  {
   "cell_type": "code",
   "execution_count": 12,
   "metadata": {},
   "outputs": [
    {
     "data": {
      "image/png": "[encoded data removed]",
      "text/plain": [
       "<Figure size 640x480 with 1 Axes>"
      ]
     },
     "metadata": {},
     "output_type": "display_data"
    }
   ],
   "source": [
    "plt.hist(x2, rwidth = 0.95)\n",
    "ax = plt.gca()\n",
    "[ax.spines[i].set_visible(False) for i in ax.spines]\n",
    "plt.tick_params(labelsize = 12, size = 0)\n",
    "plt.ylabel('Frequency', fontsize = 14)\n",
    "plt.xlabel('$x_2$', fontsize = 14)\n",
    "plt.show()"
   ]
  },
  {
   "cell_type": "markdown",
   "metadata": {},
   "source": [
    "Now let's look at the mean and median for the number of students in the college data for 2016."
   ]
  },
  {
   "cell_type": "code",
   "execution_count": null,
   "metadata": {},
   "outputs": [],
   "source": []
  },
  {
   "cell_type": "code",
   "execution_count": null,
   "metadata": {},
   "outputs": [],
   "source": []
  },
  {
   "cell_type": "code",
   "execution_count": null,
   "metadata": {},
   "outputs": [],
   "source": [
    "#What is this for?\n",
    "students = college['num_students'].str.replace(',','').astype('float')"
   ]
  },
  {
   "cell_type": "code",
   "execution_count": null,
   "metadata": {},
   "outputs": [],
   "source": [
    "college['num_students'] = students"
   ]
  },
  {
   "cell_type": "code",
   "execution_count": null,
   "metadata": {},
   "outputs": [],
   "source": [
    "#Subset again"
   ]
  },
  {
   "cell_type": "code",
   "execution_count": null,
   "metadata": {},
   "outputs": [],
   "source": []
  },
  {
   "cell_type": "code",
   "execution_count": null,
   "metadata": {},
   "outputs": [],
   "source": []
  },
  {
   "cell_type": "code",
   "execution_count": 3,
   "metadata": {},
   "outputs": [],
   "source": [
    "import numpy as np"
   ]
  },
  {
   "cell_type": "markdown",
   "metadata": {},
   "source": [
    "Based on the values of the mean and the median, do we expect the histogram to be symmetric? Skewed left? Skewed right?"
   ]
  },
  {
   "cell_type": "code",
   "execution_count": 5,
   "metadata": {},
   "outputs": [
    {
     "ename": "NameError",
     "evalue": "name 'college_2016' is not defined",
     "output_type": "error",
     "traceback": [
      "\u001b[0;31m---------------------------------------------------------------------------\u001b[0m",
      "\u001b[0;31mNameError\u001b[0m                                 Traceback (most recent call last)",
      "Cell \u001b[0;32mIn[5], line 1\u001b[0m\n\u001b[0;32m----> 1\u001b[0m \u001b[43mcollege_2016\u001b[49m[\u001b[38;5;124m'\u001b[39m\u001b[38;5;124mnum_students\u001b[39m\u001b[38;5;124m'\u001b[39m]\u001b[38;5;241m.\u001b[39misnull()\u001b[38;5;241m.\u001b[39msum()\n",
      "\u001b[0;31mNameError\u001b[0m: name 'college_2016' is not defined"
     ]
    }
   ],
   "source": [
    "college_2016['num_students'].isnull().sum()"
   ]
  },
  {
   "cell_type": "code",
   "execution_count": 4,
   "metadata": {},
   "outputs": [
    {
     "ename": "NameError",
     "evalue": "name 'college_2016' is not defined",
     "output_type": "error",
     "traceback": [
      "\u001b[0;31m---------------------------------------------------------------------------\u001b[0m",
      "\u001b[0;31mNameError\u001b[0m                                 Traceback (most recent call last)",
      "Cell \u001b[0;32mIn[4], line 3\u001b[0m\n\u001b[1;32m      1\u001b[0m \u001b[38;5;66;03m#We might want to mod the bin size here\u001b[39;00m\n\u001b[1;32m      2\u001b[0m n_bins \u001b[38;5;241m=\u001b[39m \u001b[38;5;241m15\u001b[39m\n\u001b[0;32m----> 3\u001b[0m min_val \u001b[38;5;241m=\u001b[39m \u001b[43mcollege_2016\u001b[49m[\u001b[38;5;124m'\u001b[39m\u001b[38;5;124mnum_students\u001b[39m\u001b[38;5;124m'\u001b[39m]\u001b[38;5;241m.\u001b[39mmin()\n\u001b[1;32m      4\u001b[0m max_val \u001b[38;5;241m=\u001b[39m college_2016[\u001b[38;5;124m'\u001b[39m\u001b[38;5;124mnum_students\u001b[39m\u001b[38;5;124m'\u001b[39m]\u001b[38;5;241m.\u001b[39mmax()\n\u001b[1;32m      5\u001b[0m bins \u001b[38;5;241m=\u001b[39m np\u001b[38;5;241m.\u001b[39mlinspace(min_val, max_val, n_bins\u001b[38;5;241m+\u001b[39m\u001b[38;5;241m1\u001b[39m)\n",
      "\u001b[0;31mNameError\u001b[0m: name 'college_2016' is not defined"
     ]
    }
   ],
   "source": [
    "#We might want to mod the bin size here\n",
    "n_bins = 15\n",
    "min_val = college_2016['num_students'].min()\n",
    "max_val = college_2016['num_students'].max()\n",
    "bins = np.linspace(min_val, max_val, n_bins+1)\n",
    "#notice we are making the plot differently here\n",
    "#using a Series method\n",
    "ax = college_2016['num_students'].hist(rwidth = 0.95, bins = bins)\n",
    "[ax.spines[i].set_visible(False) for i in ax.spines]\n",
    "plt.ylabel('Frequency', fontsize = 14)\n",
    "plt.xlabel('Number of Students', fontsize = 14)\n",
    "plt.grid(None)\n",
    "plt.show()"
   ]
  },
  {
   "cell_type": "markdown",
   "metadata": {},
   "source": [
    "Whenever you see something like this, where there are a few really large values, and the rest are much smaller, using a **logarithmic** transformation can be useful.  When looking at the log of a number, you are essentially shifting your focus from the actual value of the number to how many digits it has.\n",
    "\n",
    "For example:\n",
    "$$ 123,456,789 \\approx 1.2 \\times 10^8 $$\n",
    "\n",
    "where we're going to be more focused on the exponent (the 8) rather than the exact value of the number.  Let's make the same plot, but this time using $\\log_{10}(\\text{num_students})$ rather than the raw number. "
   ]
  },
  {
   "cell_type": "code",
   "execution_count": null,
   "metadata": {},
   "outputs": [],
   "source": [
    "n_bins = 10\n",
    "min_val = np.log10(college_2016['num_students']).min()\n",
    "max_val = np.log10(college_2016['num_students']).max()\n",
    "bins = np.linspace(1, max_val, n_bins+1)\n",
    "#notice we are making the plot differently here\n",
    "#using a Series method\n",
    "ax = np.log10(college_2016['num_students']).hist(rwidth = 0.95, bins = bins)\n",
    "[ax.spines[i].set_visible(False) for i in ax.spines]\n",
    "plt.ylabel('Frequency', fontsize = 14)\n",
    "plt.xlabel('$log_{10}$'+' Number of Students', fontsize = 14)\n",
    "plt.grid(None)\n",
    "plt.show()"
   ]
  },
  {
   "cell_type": "markdown",
   "metadata": {},
   "source": [
    "### Measures of variation (spread)"
   ]
  },
  {
   "cell_type": "markdown",
   "metadata": {},
   "source": [
    "Next, we'll look at some **measures of variation**.  While the goal of means and medians is to give a sense of the \"middle\" of the data, measures of variation tell us how far away from the middle the data tends to be.\n",
    "\n",
    "The most common measure is the variance, which is the average of the squared differences between each data point and the mean.  Mathematically, if $X=\\{x_1,x_2,...,x_N\\}$ is a set of $N$ observations, then:\n",
    "\n",
    "$$Var[X] =  \\frac{1}{N}\\sum_{i=1}^N (x_i-\\mu)^2$$\n",
    "\n",
    "where $\\mu$ is the mean.  You will also often see the symbol $\\sigma^2$ used to denote the variance."
   ]
  },
  {
   "cell_type": "code",
   "execution_count": 7,
   "metadata": {},
   "outputs": [
    {
     "data": {
      "text/plain": [
       "1.5430334996209192"
      ]
     },
     "execution_count": 7,
     "metadata": {},
     "output_type": "execute_result"
    }
   ],
   "source": [
    "np.std(np.linspace(0, 5, 15))"
   ]
  },
  {
   "cell_type": "markdown",
   "metadata": {},
   "source": [
    "It is common for people to look at the **standard deviation**, which is just the square root of the variance (and is often denoted as $\\sigma$).  The benefit of this is that the standard deviation and the mean have the same physical units, so they are more directly comparable. Note that the variance and standard deviation \"pair with\" the mean - they are the appropriate measures of variation to report when you report the mean."
   ]
  },
  {
   "cell_type": "code",
   "execution_count": null,
   "metadata": {},
   "outputs": [],
   "source": []
  },
  {
   "cell_type": "markdown",
   "metadata": {},
   "source": [
    "Taking the ratio of standard deviation / mean is called the **coefficient of variation**."
   ]
  },
  {
   "cell_type": "code",
   "execution_count": null,
   "metadata": {},
   "outputs": [],
   "source": []
  },
  {
   "cell_type": "markdown",
   "metadata": {},
   "source": [
    "### Quartiles and Box Plots"
   ]
  },
  {
   "cell_type": "markdown",
   "metadata": {},
   "source": [
    "Quartiles are computed by sorting the data and splitting it into 4 equally sized groups (hence \"quart-\", meaning 4).  The numbers reported are the values which split each of these groups (see this [wikipedia page](https://en.wikipedia.org/wiki/Quantile) for some example computations).  In other words, the quartiles of a data set are the 25th, 50th, and 75th percentiles, since those three values divide the data into 4 equally sized groups.\n",
    "\n",
    "Let's compute the quartiles of the number of students in 2016:"
   ]
  },
  {
   "cell_type": "code",
   "execution_count": null,
   "metadata": {},
   "outputs": [],
   "source": [
    "q = np.quantile(college_2016['num_students'].values, [0.25, 0.5, 0.75])"
   ]
  },
  {
   "cell_type": "code",
   "execution_count": null,
   "metadata": {},
   "outputs": [],
   "source": [
    "print(q)"
   ]
  },
  {
   "cell_type": "code",
   "execution_count": null,
   "metadata": {},
   "outputs": [],
   "source": [
    "#Hmmm, let's try this a different way"
   ]
  },
  {
   "cell_type": "code",
   "execution_count": null,
   "metadata": {},
   "outputs": [],
   "source": [
    "#What is going on????"
   ]
  },
  {
   "cell_type": "code",
   "execution_count": null,
   "metadata": {},
   "outputs": [],
   "source": [
    "students = #fill in"
   ]
  },
  {
   "cell_type": "code",
   "execution_count": null,
   "metadata": {},
   "outputs": [],
   "source": [
    "q = np.quantile(students, [0.25, 0.5, 0.75])"
   ]
  },
  {
   "cell_type": "code",
   "execution_count": null,
   "metadata": {},
   "outputs": [],
   "source": [
    "print(q)"
   ]
  },
  {
   "cell_type": "markdown",
   "metadata": {},
   "source": [
    "Let's look at the number of citations:"
   ]
  },
  {
   "cell_type": "code",
   "execution_count": null,
   "metadata": {},
   "outputs": [],
   "source": [
    "q = np.quantile(college_2016['citations'].dropna(), [0.25, 0.5, 0.75])"
   ]
  },
  {
   "cell_type": "code",
   "execution_count": null,
   "metadata": {},
   "outputs": [],
   "source": [
    "q"
   ]
  },
  {
   "cell_type": "markdown",
   "metadata": {},
   "source": [
    "Let's make boxplots of both variables:"
   ]
  },
  {
   "cell_type": "markdown",
   "metadata": {},
   "source": [
    "What does this box plot tell you about the data?"
   ]
  },
  {
   "cell_type": "code",
   "execution_count": null,
   "metadata": {},
   "outputs": [],
   "source": [
    "plt.figure(figsize=(8,8))\n",
    "plt.boxplot(college_2016['citations'].dropna())\n",
    "ax = plt.gca()\n",
    "[ax.spines[i].set_visible(False) for i in ax.spines]\n",
    "plt.xticks([])\n",
    "plt.yticks(fontsize = 14)\n",
    "plt.grid(linestyle = '--', alpha = 0.5)\n",
    "plt.title('Citations in 2016', fontsize=14)\n",
    "plt.show()"
   ]
  },
  {
   "cell_type": "markdown",
   "metadata": {},
   "source": [
    "How about this one?"
   ]
  },
  {
   "cell_type": "code",
   "execution_count": null,
   "metadata": {},
   "outputs": [],
   "source": [
    "plt.figure(figsize=(8,8))\n",
    "plt.boxplot(college_2016['num_students'].dropna())\n",
    "ax = plt.gca()\n",
    "[ax.spines[i].set_visible(False) for i in ax.spines]\n",
    "plt.xticks([])\n",
    "plt.yticks(fontsize = 14)\n",
    "plt.grid(linestyle = '--', alpha = 0.5)\n",
    "plt.title('Number of students in 2016', fontsize=14)\n",
    "plt.show()"
   ]
  },
  {
   "cell_type": "markdown",
   "metadata": {},
   "source": [
    "## Looking at distributions over the value of another variable"
   ]
  },
  {
   "cell_type": "code",
   "execution_count": null,
   "metadata": {},
   "outputs": [],
   "source": [
    "#Subset data to just Canada"
   ]
  },
  {
   "cell_type": "code",
   "execution_count": null,
   "metadata": {},
   "outputs": [],
   "source": [
    "import seaborn as sns\n",
    "plt.figure(figsize=(12,6))\n",
    "sns.boxplot(x='year', y='num_students', data = college_ca, palette = 'BuPu')\n",
    "plt.ylabel('Number of students', fontsize=14)\n",
    "plt.xlabel('')\n",
    "plt.show()"
   ]
  },
  {
   "cell_type": "markdown",
   "metadata": {},
   "source": [
    "Here is a stripchart of the same data:"
   ]
  },
  {
   "cell_type": "code",
   "execution_count": null,
   "metadata": {},
   "outputs": [],
   "source": [
    "plt.figure(figsize = [12,6])\n",
    "ax = plt.gca()\n",
    "[ax.spines[i].set_visible(False) for i in ax.spines]\n",
    "sns.stripplot(x = 'year', y = 'num_students', data = college_ca, size = 10, alpha = 0.5,\n",
    "             jitter = True)\n",
    "plt.ylabel('Number of Students', labelpad = 20, fontsize = 14)\n",
    "plt.xlabel('Year', labelpad = 20, fontsize = 14)\n",
    "plt.tick_params(labelsize = 12)\n",
    "plt.grid(axis = 'y', linestyle = '--', alpha = 0.5)\n",
    "plt.show()"
   ]
  },
  {
   "cell_type": "markdown",
   "metadata": {},
   "source": [
    "How does this change the conclusions we might draw from the boxplot?"
   ]
  },
  {
   "cell_type": "code",
   "execution_count": null,
   "metadata": {},
   "outputs": [],
   "source": []
  }
 ],
 "metadata": {
  "kernelspec": {
   "display_name": "Python 3 (ipykernel)",
   "language": "python",
   "name": "python3"
  },
  "language_info": {
   "codemirror_mode": {
    "name": "ipython",
    "version": 3
   },
   "file_extension": ".py",
   "mimetype": "text/x-python",
   "name": "python",
   "nbconvert_exporter": "python",
   "pygments_lexer": "ipython3",
   "version": "3.11.6"
  }
 },
 "nbformat": 4,
 "nbformat_minor": 4
}
