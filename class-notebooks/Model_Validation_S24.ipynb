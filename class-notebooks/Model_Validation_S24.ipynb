{
 "cells": [
  {
   "cell_type": "markdown",
   "metadata": {},
   "source": [
    "# Model Validation"
   ]
  },
  {
   "cell_type": "markdown",
   "metadata": {},
   "source": [
    "How do we know a model we created would be any good if we applied it to new data - that is - data other than the data that the model was trained on?  \n",
    "\n",
    "We are going to create some fake data, and use 80% of the data to build a model, and the other 20% to test it."
   ]
  },
  {
   "cell_type": "code",
   "execution_count": 1,
   "metadata": {},
   "outputs": [
    {
     "data": {
      "image/png": "[encoded data removed]",
      "text/plain": [
       "<Figure size 640x480 with 1 Axes>"
      ]
     },
     "metadata": {},
     "output_type": "display_data"
    }
   ],
   "source": [
    "import numpy as np\n",
    "import pandas as pd\n",
    "import matplotlib.pyplot as plt\n",
    "\n",
    "n_total = 10 #number of data points\n",
    "n_for_testing = 2 #number of data points we will use from here as a test set\n",
    "\n",
    "x_min = -10\n",
    "x_max = 10\n",
    "x = np.linspace(-10,10,n_total)\n",
    "\n",
    "np.random.seed(146)\n",
    "y = np.random.normal(size=n_total)\n",
    "plt.scatter(x,y)\n",
    "plt.show()"
   ]
  },
  {
   "cell_type": "code",
   "execution_count": 2,
   "metadata": {},
   "outputs": [],
   "source": [
    "data = pd.DataFrame(columns=['x','y'])\n",
    "data['x'] = x\n",
    "data['y'] = y\n",
    "\n",
    "#np.random.seed(48)\n",
    "idx_test = np.random.choice(n_total, n_for_testing)"
   ]
  },
  {
   "cell_type": "code",
   "execution_count": 3,
   "metadata": {},
   "outputs": [
    {
     "data": {
      "text/html": [
       "<div>\n",
       "<style scoped>\n",
       "    .dataframe tbody tr th:only-of-type {\n",
       "        vertical-align: middle;\n",
       "    }\n",
       "\n",
       "    .dataframe tbody tr th {\n",
       "        vertical-align: top;\n",
       "    }\n",
       "\n",
       "    .dataframe thead th {\n",
       "        text-align: right;\n",
       "    }\n",
       "</style>\n",
       "<table border=\"1\" class=\"dataframe\">\n",
       "  <thead>\n",
       "    <tr style=\"text-align: right;\">\n",
       "      <th></th>\n",
       "      <th>x</th>\n",
       "      <th>y</th>\n",
       "    </tr>\n",
       "  </thead>\n",
       "  <tbody>\n",
       "    <tr>\n",
       "      <th>0</th>\n",
       "      <td>-10.000000</td>\n",
       "      <td>2.396479</td>\n",
       "    </tr>\n",
       "    <tr>\n",
       "      <th>3</th>\n",
       "      <td>-3.333333</td>\n",
       "      <td>-0.881304</td>\n",
       "    </tr>\n",
       "  </tbody>\n",
       "</table>\n",
       "</div>"
      ],
      "text/plain": [
       "           x         y\n",
       "0 -10.000000  2.396479\n",
       "3  -3.333333 -0.881304"
      ]
     },
     "execution_count": 3,
     "metadata": {},
     "output_type": "execute_result"
    }
   ],
   "source": [
    "data_test = data.iloc[idx_test]\n",
    "data_test"
   ]
  },
  {
   "cell_type": "code",
   "execution_count": 4,
   "metadata": {},
   "outputs": [
    {
     "data": {
      "text/html": [
       "<div>\n",
       "<style scoped>\n",
       "    .dataframe tbody tr th:only-of-type {\n",
       "        vertical-align: middle;\n",
       "    }\n",
       "\n",
       "    .dataframe tbody tr th {\n",
       "        vertical-align: top;\n",
       "    }\n",
       "\n",
       "    .dataframe thead th {\n",
       "        text-align: right;\n",
       "    }\n",
       "</style>\n",
       "<table border=\"1\" class=\"dataframe\">\n",
       "  <thead>\n",
       "    <tr style=\"text-align: right;\">\n",
       "      <th></th>\n",
       "      <th>x</th>\n",
       "      <th>y</th>\n",
       "    </tr>\n",
       "  </thead>\n",
       "  <tbody>\n",
       "    <tr>\n",
       "      <th>1</th>\n",
       "      <td>-7.777778</td>\n",
       "      <td>-0.038103</td>\n",
       "    </tr>\n",
       "    <tr>\n",
       "      <th>2</th>\n",
       "      <td>-5.555556</td>\n",
       "      <td>-1.053523</td>\n",
       "    </tr>\n",
       "    <tr>\n",
       "      <th>4</th>\n",
       "      <td>-1.111111</td>\n",
       "      <td>0.688067</td>\n",
       "    </tr>\n",
       "    <tr>\n",
       "      <th>5</th>\n",
       "      <td>1.111111</td>\n",
       "      <td>-0.284121</td>\n",
       "    </tr>\n",
       "    <tr>\n",
       "      <th>6</th>\n",
       "      <td>3.333333</td>\n",
       "      <td>-1.524334</td>\n",
       "    </tr>\n",
       "    <tr>\n",
       "      <th>7</th>\n",
       "      <td>5.555556</td>\n",
       "      <td>0.696851</td>\n",
       "    </tr>\n",
       "    <tr>\n",
       "      <th>8</th>\n",
       "      <td>7.777778</td>\n",
       "      <td>-0.031495</td>\n",
       "    </tr>\n",
       "    <tr>\n",
       "      <th>9</th>\n",
       "      <td>10.000000</td>\n",
       "      <td>0.207307</td>\n",
       "    </tr>\n",
       "  </tbody>\n",
       "</table>\n",
       "</div>"
      ],
      "text/plain": [
       "           x         y\n",
       "1  -7.777778 -0.038103\n",
       "2  -5.555556 -1.053523\n",
       "4  -1.111111  0.688067\n",
       "5   1.111111 -0.284121\n",
       "6   3.333333 -1.524334\n",
       "7   5.555556  0.696851\n",
       "8   7.777778 -0.031495\n",
       "9  10.000000  0.207307"
      ]
     },
     "execution_count": 4,
     "metadata": {},
     "output_type": "execute_result"
    }
   ],
   "source": [
    "data = data.drop(index=idx_test)\n",
    "data"
   ]
  },
  {
   "cell_type": "markdown",
   "metadata": {},
   "source": [
    "Next, I'll do a something called a polynomial regression (another type of linear regression).  The equation we're fitting here looks like:\n",
    "\n",
    "$$y = \\beta_0 + \\beta_1 x + \\beta_2 x^2 + \\beta_3 x^3 + \\cdots + \\beta_p x^p$$\n",
    "\n",
    "So, even though there's a single variable, we're essentially creating more variables by considering higher powers of $x$."
   ]
  },
  {
   "cell_type": "code",
   "execution_count": 5,
   "metadata": {},
   "outputs": [
    {
     "data": {
      "text/plain": [
       "array([ 1.00000000e+00, -7.77777778e+00,  6.04938272e+01, -4.70507545e+02,\n",
       "        3.65950312e+03, -2.84628021e+04,  2.21377350e+05, -1.72182383e+06])"
      ]
     },
     "execution_count": 5,
     "metadata": {},
     "output_type": "execute_result"
    }
   ],
   "source": [
    "from sklearn.preprocessing import PolynomialFeatures as PF\n",
    "p = PF(degree=7)\n",
    "\n",
    "X_poly = p.fit_transform(data['x'].values.reshape(-1,1))\n",
    "X_poly[0]"
   ]
  },
  {
   "cell_type": "code",
   "execution_count": 6,
   "metadata": {},
   "outputs": [
    {
     "data": {
      "text/plain": [
       "1.0"
      ]
     },
     "execution_count": 6,
     "metadata": {},
     "output_type": "execute_result"
    }
   ],
   "source": [
    "from sklearn.linear_model import LinearRegression as LR\n",
    "lin_reg = LR()\n",
    "lin_reg.fit(X_poly, data['y'])\n",
    "lin_reg.score(X_poly, data['y'])"
   ]
  },
  {
   "cell_type": "code",
   "execution_count": 7,
   "metadata": {},
   "outputs": [
    {
     "data": {
      "image/png": "[encoded data removed]",
      "text/plain": [
       "<Figure size 640x480 with 1 Axes>"
      ]
     },
     "metadata": {},
     "output_type": "display_data"
    }
   ],
   "source": [
    "# In order to plot the curve, compute it\n",
    "\n",
    "# The range of x values I want to plot\n",
    "x_range = np.linspace(x_min*1.1, x_max*1.1, 100)\n",
    "# Compute the powers of x, to plug into the model\n",
    "x_range_poly = p.fit_transform(x_range.reshape(-1,1))\n",
    "# Compute the y values, for the x values above\n",
    "y_pred = lin_reg.predict(x_range_poly)\n",
    "\n",
    "\n",
    "plt.scatter(data['x'], data['y'], label='Training Data', color='k')\n",
    "plt.scatter(data_test['x'], data_test['y'], label='Testing Data', color='blue')\n",
    "plt.plot(x_range, y_pred, color='r', label='Model')\n",
    "plt.legend(bbox_to_anchor=[1,0.5], loc='center left')\n",
    "plt.ylim([-5,5])\n",
    "plt.show()"
   ]
  },
  {
   "cell_type": "code",
   "execution_count": null,
   "metadata": {},
   "outputs": [],
   "source": [
    "X_test_poly = p.fit_transform(data_test['x'].values.reshape(-1,1))\n",
    "y_test_pred = lin_reg.predict(X_test_poly)\n",
    "y_test_pred"
   ]
  },
  {
   "cell_type": "code",
   "execution_count": null,
   "metadata": {},
   "outputs": [],
   "source": [
    "lin_reg.score(X_test_poly, data_test['y'])"
   ]
  },
  {
   "cell_type": "markdown",
   "metadata": {},
   "source": [
    "Is that even possible???"
   ]
  },
  {
   "cell_type": "markdown",
   "metadata": {},
   "source": [
    "## Test train split"
   ]
  },
  {
   "cell_type": "code",
   "execution_count": null,
   "metadata": {},
   "outputs": [],
   "source": [
    "#Let's make a new set of fake data\n",
    "n = 10\n",
    "np.random.seed(210)\n",
    "x = np.random.normal(size=(n,1))\n",
    "noise_strength = 0.2\n",
    "noise = np.random.normal(scale=noise_strength, size=(n,1))*100\n",
    "y = 100 + 200*x + noise\n",
    "plt.scatter(x,y, label='Original data', color='k')\n",
    "plt.xlabel('x')\n",
    "plt.ylabel('y')\n",
    "plt.show()"
   ]
  },
  {
   "cell_type": "code",
   "execution_count": 11,
   "metadata": {},
   "outputs": [
    {
     "data": {
      "text/plain": [
       "array([  7.77777778,  -3.33333333,   5.55555556,   1.11111111,\n",
       "        -1.11111111,  -7.77777778,  10.        , -10.        ])"
      ]
     },
     "execution_count": 11,
     "metadata": {},
     "output_type": "execute_result"
    }
   ],
   "source": [
    "from sklearn.model_selection import train_test_split as tts\n",
    "#use random state 201\n",
    "\n",
    "features_train, target_train, features_test, target_test = tts(x, y, test_size=0.2, shuffle=True, random_state=201)\n",
    "features_train"
   ]
  },
  {
   "cell_type": "code",
   "execution_count": 12,
   "metadata": {},
   "outputs": [
    {
     "name": "stderr",
     "output_type": "stream",
     "text": [
      "/opt/conda/lib/python3.11/site-packages/sklearn/metrics/_regression.py:1187: UndefinedMetricWarning: R^2 score is not well-defined with less than two samples.\n",
      "  warnings.warn(msg, UndefinedMetricWarning)\n"
     ]
    },
    {
     "data": {
      "text/plain": [
       "nan"
      ]
     },
     "execution_count": 12,
     "metadata": {},
     "output_type": "execute_result"
    }
   ],
   "source": [
    "#fit model, score on train\n",
    "from sklearn.linear_model import LinearRegression as LR\n",
    "lr = LR()\n",
    "\n",
    "lr.fit(features_train.reshape(1, -1), target_train.reshape(1, -1))\n",
    "lr.score(features_train.reshape(1, -1), target_train.reshape(1, -1))"
   ]
  },
  {
   "cell_type": "code",
   "execution_count": null,
   "metadata": {},
   "outputs": [],
   "source": [
    "#score on test"
   ]
  },
  {
   "cell_type": "code",
   "execution_count": null,
   "metadata": {},
   "outputs": [],
   "source": [
    "x_range = [min(x), max(x)]\n",
    "y_pred = lin_reg.predict(x_range)\n",
    "plt.scatter(Xtrain, ytrain, label='Training Data', color='k')\n",
    "plt.scatter(Xtest, ytest, label='Testing Data', color='blue')\n",
    "plt.plot(x_range, y_pred, color='r', label='Model')\n",
    "plt.legend(bbox_to_anchor=[1,0.5], loc='center left')\n",
    "plt.show()"
   ]
  },
  {
   "cell_type": "code",
   "execution_count": null,
   "metadata": {},
   "outputs": [],
   "source": [
    "#do it again with random state 146\n"
   ]
  },
  {
   "cell_type": "code",
   "execution_count": null,
   "metadata": {},
   "outputs": [],
   "source": []
  },
  {
   "cell_type": "code",
   "execution_count": null,
   "metadata": {},
   "outputs": [],
   "source": []
  },
  {
   "cell_type": "code",
   "execution_count": null,
   "metadata": {},
   "outputs": [],
   "source": [
    "x_range = [min(x), max(x)]\n",
    "y_pred = lin_reg.predict(x_range)\n",
    "plt.scatter(Xtrain, ytrain, label='Training Data', color='k')\n",
    "plt.scatter(Xtest, ytest, label='Testing Data', color='blue')\n",
    "plt.plot(x_range, y_pred, color='r', label='Model')\n",
    "plt.legend(bbox_to_anchor=[1,0.5], loc='center left')\n",
    "plt.show()"
   ]
  },
  {
   "cell_type": "markdown",
   "metadata": {},
   "source": [
    "# k fold validation"
   ]
  },
  {
   "cell_type": "markdown",
   "metadata": {},
   "source": [
    "Let's implement K-fold validation. As usual, there is a library that will make the coding a little easier for us. Let's look at a small fake data set so you can get an idea of what is going on. Then we will apply this to the concrete data."
   ]
  },
  {
   "cell_type": "code",
   "execution_count": 2,
   "metadata": {},
   "outputs": [
    {
     "data": {
      "image/png": "[encoded data removed]",
      "text/plain": [
       "<Figure size 640x480 with 1 Axes>"
      ]
     },
     "metadata": {},
     "output_type": "display_data"
    }
   ],
   "source": [
    "#Let's make a new set of fake data\n",
    "n = 20\n",
    "np.random.seed(210)\n",
    "x= np.random.normal(size=(n,1))\n",
    "noise_strength = 0.2\n",
    "noise = np.random.normal(scale=noise_strength, size=(n,1))*100\n",
    "y = 100 + 200*x + noise\n",
    "plt.scatter(x,y, label='Original data', color='k')\n",
    "plt.xlabel('x')\n",
    "plt.ylabel('y')\n",
    "plt.show()"
   ]
  },
  {
   "cell_type": "code",
   "execution_count": 3,
   "metadata": {},
   "outputs": [],
   "source": [
    "from sklearn.model_selection import KFold"
   ]
  },
  {
   "cell_type": "code",
   "execution_count": 4,
   "metadata": {},
   "outputs": [
    {
     "name": "stdout",
     "output_type": "stream",
     "text": [
      "<generator object _BaseKFold.split at 0x7fa0b1329120>\n"
     ]
    }
   ],
   "source": [
    "kf = KFold(n_splits = 10, random_state=146, shuffle=True)\n",
    "print(kf.split(x)) # returns generator"
   ]
  },
  {
   "cell_type": "code",
   "execution_count": 7,
   "metadata": {},
   "outputs": [
    {
     "name": "stdout",
     "output_type": "stream",
     "text": [
      "train score: 0.9869419497779562\t test score: 0.9851864739022598\n",
      "train score: 0.9917304895685571\t test score: 0.9664594978599711\n",
      "train score: 0.9911731711614887\t test score: 0.9783348389599285\n",
      "train score: 0.9905855482957518\t test score: 0.7784956709988456\n",
      "train score: 0.9935989974431435\t test score: 0.5015827287533763\n",
      "train score: 0.9906891628196538\t test score: 0.9984395745681859\n",
      "train score: 0.9900048089485345\t test score: 0.9904587086891804\n",
      "train score: 0.9906736924458613\t test score: 0.9918437602836133\n",
      "train score: 0.9907269881560179\t test score: 0.9790892279945117\n",
      "train score: 0.9924960267431597\t test score: 0.8123516383840855\n"
     ]
    }
   ],
   "source": [
    "#Write the full code step by step\n",
    "from sklearn.model_selection import KFold\n",
    "from sklearn.linear_model import LinearRegression as LR\n",
    "lr = LR()\n",
    "\n",
    "kf = KFold(n_splits = 10, random_state=146, shuffle=True)\n",
    "scores = []\n",
    "\n",
    "for idxTrain, idxTest in kf.split(x):\n",
    "    Xtrain = x[idxTrain]\n",
    "    Xtest = x[idxTest]\n",
    "    ytrain = y[idxTrain]\n",
    "    ytest = y[idxTest]\n",
    "\n",
    "    # build the model\n",
    "    lr.fit(Xtrain, ytrain)\n",
    "    test_score = lr.score(Xtest, ytest)\n",
    "    train_score = lr.score(Xtrain, ytrain)\n",
    "    print(f\"train score: {train_score}\\t test score: {test_score}\")"
   ]
  },
  {
   "cell_type": "code",
   "execution_count": null,
   "metadata": {},
   "outputs": [],
   "source": [
    "min_r2 = min(min(test_scores), min(train_scores))\n",
    "max_r2 = 1\n",
    "\n",
    "n_bins = 15\n",
    "my_bins = np.linspace(min_r2, max_r2, n_bins+1)\n",
    "\n",
    "plt.hist(train_scores, label='Training Scores', color='blue', bins=my_bins, alpha=0.5, rwidth=0.95)\n",
    "plt.hist(test_scores, label='Testing Scores', color='red', bins=my_bins, alpha=0.5, rwidth=0.95)\n",
    "plt.legend()\n",
    "plt.show()\n",
    "print(f'Average for train: {np.mean(train_scores):.2f}')\n",
    "print(f'Average for test: {np.mean (test_scores):.2f}')"
   ]
  },
  {
   "cell_type": "code",
   "execution_count": null,
   "metadata": {},
   "outputs": [],
   "source": [
    "plt.figure(figsize=(8,8))\n",
    "plt.scatter(train_scores, test_scores, alpha=0.5, ec='k', s = 80)\n",
    "plt.xlabel('Training Score', fontsize=14)\n",
    "plt.ylabel('Testing Score', fontsize=14)\n",
    "plt.xlim([0,1])\n",
    "#plt.ylim([min(test_scores), 1])\n",
    "plt.show()"
   ]
  },
  {
   "cell_type": "markdown",
   "metadata": {},
   "source": [
    "## What if we want/need to scale the data?"
   ]
  },
  {
   "cell_type": "markdown",
   "metadata": {},
   "source": [
    "For the sake of this example, we will consider a small fake data set. It only two predictors. Reasons for scaling data for regression (even though not required for OLS) will be discussed in the next section of this module. \n",
    "\n",
    "Suppose we started out with 10 observations and they are already partitioned into training and test sets (this is hard-coded artifically here)."
   ]
  },
  {
   "cell_type": "code",
   "execution_count": null,
   "metadata": {},
   "outputs": [],
   "source": [
    "ex_Xtrain = np.array([[56,5], [53,3], [94,4], [78,8],[15,5], [34,4], [53,5], [44,4]])\n",
    "ex_Ytrain = np.array([51, 51, 95, 82, 16, 29, 55, 49])\n",
    "ex_Xtest = np.array([[98, 6], [53,4]])\n",
    "ex_Ytest = np.array([81,38])"
   ]
  },
  {
   "cell_type": "code",
   "execution_count": null,
   "metadata": {},
   "outputs": [],
   "source": [
    "lin_reg = LR()\n",
    "lin_reg.fit(ex_Xtrain, ex_Ytrain)\n",
    "lin_reg.score(ex_Xtrain, ex_Ytrain)"
   ]
  },
  {
   "cell_type": "code",
   "execution_count": null,
   "metadata": {},
   "outputs": [],
   "source": [
    "lin_reg.score(ex_Xtest, ex_Ytest)"
   ]
  },
  {
   "cell_type": "code",
   "execution_count": null,
   "metadata": {},
   "outputs": [],
   "source": [
    "lin_reg.predict([[25,2]])"
   ]
  },
  {
   "cell_type": "code",
   "execution_count": null,
   "metadata": {},
   "outputs": [],
   "source": [
    "lin_reg.predict(ex_Xtest)"
   ]
  },
  {
   "cell_type": "code",
   "execution_count": null,
   "metadata": {},
   "outputs": [],
   "source": [
    "from sklearn.preprocessing import StandardScaler as SS\n",
    "#this will be weird and we will need to figure out what we did wrong and fix it\n",
    "\n",
    "ss = SS()\n",
    "ex_Xtrain_s = ss.fit_transform(ex_Xtrain)\n",
    "ex_Xtest_s = ss.fit_transform(ex_Xtest)\n",
    "lin_reg.fit(ex_Xtrain_s, ex_Ytrain)\n",
    "lin_reg.score(ex_Xtrain_s, ex_Ytrain) "
   ]
  },
  {
   "cell_type": "code",
   "execution_count": null,
   "metadata": {},
   "outputs": [],
   "source": [
    "ss.fit(ex_Xtrain)\n",
    "lin_reg.predict(ss.transform([[25,2]])) ####WHAT?????"
   ]
  },
  {
   "cell_type": "code",
   "execution_count": null,
   "metadata": {},
   "outputs": [],
   "source": [
    "lin_reg.score(ex_Xtest_s, ex_Ytest) #Huh?"
   ]
  },
  {
   "cell_type": "code",
   "execution_count": null,
   "metadata": {},
   "outputs": [],
   "source": [
    "#Let's try scaling again"
   ]
  },
  {
   "cell_type": "code",
   "execution_count": null,
   "metadata": {},
   "outputs": [],
   "source": []
  }
 ],
 "metadata": {
  "kernelspec": {
   "display_name": "Python 3 (ipykernel)",
   "language": "python",
   "name": "python3"
  },
  "language_info": {
   "codemirror_mode": {
    "name": "ipython",
    "version": 3
   },
   "file_extension": ".py",
   "mimetype": "text/x-python",
   "name": "python",
   "nbconvert_exporter": "python",
   "pygments_lexer": "ipython3",
   "version": "3.11.6"
  }
 },
 "nbformat": 4,
 "nbformat_minor": 4
}
