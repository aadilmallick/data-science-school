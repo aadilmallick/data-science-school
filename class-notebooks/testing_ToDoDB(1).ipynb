{
 "cells": [
  {
   "cell_type": "code",
   "execution_count": 1,
   "id": "24c3d37d-4ce0-43f9-860f-2350240809e8",
   "metadata": {},
   "outputs": [
    {
     "ename": "ModuleNotFoundError",
     "evalue": "No module named 'todo'",
     "output_type": "error",
     "traceback": [
      "\u001b[0;31m---------------------------------------------------------------------------\u001b[0m",
      "\u001b[0;31mModuleNotFoundError\u001b[0m                       Traceback (most recent call last)",
      "Cell \u001b[0;32mIn[1], line 1\u001b[0m\n\u001b[0;32m----> 1\u001b[0m \u001b[38;5;28;01mimport\u001b[39;00m \u001b[38;5;21;01mtodo\u001b[39;00m\n\u001b[1;32m      2\u001b[0m \u001b[38;5;28;01mfrom\u001b[39;00m \u001b[38;5;21;01mimportlib\u001b[39;00m \u001b[38;5;28;01mimport\u001b[39;00m reload\n\u001b[1;32m      3\u001b[0m reload(todo);\n",
      "\u001b[0;31mModuleNotFoundError\u001b[0m: No module named 'todo'"
     ]
    }
   ],
   "source": [
    "import todo\n",
    "from importlib import reload\n",
    "reload(todo);"
   ]
  },
  {
   "cell_type": "code",
   "execution_count": 6,
   "id": "6a71c169-5e23-4dd4-8df8-0a85698d7a68",
   "metadata": {},
   "outputs": [],
   "source": [
    "td = todo.ToDoDB()"
   ]
  },
  {
   "cell_type": "code",
   "execution_count": 7,
   "id": "72585cf6-7396-4dfa-adc0-badfaa67d255",
   "metadata": {},
   "outputs": [],
   "source": [
    "#td.run_query(\"SELECT * FROM sqlite_master;\")"
   ]
  },
  {
   "cell_type": "code",
   "execution_count": 8,
   "id": "6c6b2c38-5ff7-4243-9e3e-c28c0e1d12ba",
   "metadata": {},
   "outputs": [],
   "source": [
    "td.add_category('school')\n",
    "td.add_category('work')"
   ]
  },
  {
   "cell_type": "code",
   "execution_count": 9,
   "id": "f0caf11e-c210-4999-9743-1eabdeb1a937",
   "metadata": {},
   "outputs": [
    {
     "data": {
      "text/plain": [
       "4"
      ]
     },
     "execution_count": 9,
     "metadata": {},
     "output_type": "execute_result"
    }
   ],
   "source": [
    "td.add_task('school', 'still studying for databases', '2024-03-29')\n",
    "td.add_task('school', 'take a break', '2024-03-30')\n",
    "td.add_task('work', 'teach databases', '2024-04-01')\n",
    "td.add_task('work', 'give the class a quiz', '2024-04-01')"
   ]
  },
  {
   "cell_type": "code",
   "execution_count": 10,
   "id": "74e82ff0-e09b-4ad7-9469-2f87f3035f56",
   "metadata": {},
   "outputs": [
    {
     "data": {
      "text/html": [
       "<div>\n",
       "<style scoped>\n",
       "    .dataframe tbody tr th:only-of-type {\n",
       "        vertical-align: middle;\n",
       "    }\n",
       "\n",
       "    .dataframe tbody tr th {\n",
       "        vertical-align: top;\n",
       "    }\n",
       "\n",
       "    .dataframe thead th {\n",
       "        text-align: right;\n",
       "    }\n",
       "</style>\n",
       "<table border=\"1\" class=\"dataframe\">\n",
       "  <thead>\n",
       "    <tr style=\"text-align: right;\">\n",
       "      <th></th>\n",
       "      <th>task_id</th>\n",
       "      <th>category</th>\n",
       "      <th>desc</th>\n",
       "      <th>date_due</th>\n",
       "      <th>date_completed</th>\n",
       "    </tr>\n",
       "  </thead>\n",
       "  <tbody>\n",
       "    <tr>\n",
       "      <th>0</th>\n",
       "      <td>1</td>\n",
       "      <td>school</td>\n",
       "      <td>still studying for databases</td>\n",
       "      <td>2024-03-29</td>\n",
       "      <td>None</td>\n",
       "    </tr>\n",
       "    <tr>\n",
       "      <th>1</th>\n",
       "      <td>2</td>\n",
       "      <td>school</td>\n",
       "      <td>take a break</td>\n",
       "      <td>2024-03-30</td>\n",
       "      <td>None</td>\n",
       "    </tr>\n",
       "    <tr>\n",
       "      <th>2</th>\n",
       "      <td>3</td>\n",
       "      <td>work</td>\n",
       "      <td>teach databases</td>\n",
       "      <td>2024-04-01</td>\n",
       "      <td>None</td>\n",
       "    </tr>\n",
       "    <tr>\n",
       "      <th>3</th>\n",
       "      <td>4</td>\n",
       "      <td>work</td>\n",
       "      <td>give the class a quiz</td>\n",
       "      <td>2024-04-01</td>\n",
       "      <td>None</td>\n",
       "    </tr>\n",
       "  </tbody>\n",
       "</table>\n",
       "</div>"
      ],
      "text/plain": [
       "   task_id category                          desc    date_due date_completed\n",
       "0        1   school  still studying for databases  2024-03-29           None\n",
       "1        2   school                  take a break  2024-03-30           None\n",
       "2        3     work               teach databases  2024-04-01           None\n",
       "3        4     work         give the class a quiz  2024-04-01           None"
      ]
     },
     "execution_count": 10,
     "metadata": {},
     "output_type": "execute_result"
    }
   ],
   "source": [
    "td.get_tasks()"
   ]
  },
  {
   "cell_type": "code",
   "execution_count": 11,
   "id": "51ff1847-4508-4206-ab45-0b296550e70d",
   "metadata": {},
   "outputs": [],
   "source": [
    "td.mark_complete(1)"
   ]
  },
  {
   "cell_type": "code",
   "execution_count": 12,
   "id": "fa7a75c1-e380-4d89-bfd2-d087b4f67012",
   "metadata": {},
   "outputs": [
    {
     "data": {
      "text/html": [
       "<div>\n",
       "<style scoped>\n",
       "    .dataframe tbody tr th:only-of-type {\n",
       "        vertical-align: middle;\n",
       "    }\n",
       "\n",
       "    .dataframe tbody tr th {\n",
       "        vertical-align: top;\n",
       "    }\n",
       "\n",
       "    .dataframe thead th {\n",
       "        text-align: right;\n",
       "    }\n",
       "</style>\n",
       "<table border=\"1\" class=\"dataframe\">\n",
       "  <thead>\n",
       "    <tr style=\"text-align: right;\">\n",
       "      <th></th>\n",
       "      <th>task_id</th>\n",
       "      <th>category</th>\n",
       "      <th>desc</th>\n",
       "      <th>date_due</th>\n",
       "      <th>date_completed</th>\n",
       "    </tr>\n",
       "  </thead>\n",
       "  <tbody>\n",
       "    <tr>\n",
       "      <th>0</th>\n",
       "      <td>2</td>\n",
       "      <td>school</td>\n",
       "      <td>take a break</td>\n",
       "      <td>2024-03-30</td>\n",
       "      <td>None</td>\n",
       "    </tr>\n",
       "    <tr>\n",
       "      <th>1</th>\n",
       "      <td>3</td>\n",
       "      <td>work</td>\n",
       "      <td>teach databases</td>\n",
       "      <td>2024-04-01</td>\n",
       "      <td>None</td>\n",
       "    </tr>\n",
       "    <tr>\n",
       "      <th>2</th>\n",
       "      <td>4</td>\n",
       "      <td>work</td>\n",
       "      <td>give the class a quiz</td>\n",
       "      <td>2024-04-01</td>\n",
       "      <td>None</td>\n",
       "    </tr>\n",
       "  </tbody>\n",
       "</table>\n",
       "</div>"
      ],
      "text/plain": [
       "   task_id category                   desc    date_due date_completed\n",
       "0        2   school           take a break  2024-03-30           None\n",
       "1        3     work        teach databases  2024-04-01           None\n",
       "2        4     work  give the class a quiz  2024-04-01           None"
      ]
     },
     "execution_count": 12,
     "metadata": {},
     "output_type": "execute_result"
    }
   ],
   "source": [
    "td.get_tasks()"
   ]
  },
  {
   "cell_type": "code",
   "execution_count": 13,
   "id": "861e1210-191d-45d4-838d-cc7b8e4e4058",
   "metadata": {},
   "outputs": [
    {
     "data": {
      "text/html": [
       "<div>\n",
       "<style scoped>\n",
       "    .dataframe tbody tr th:only-of-type {\n",
       "        vertical-align: middle;\n",
       "    }\n",
       "\n",
       "    .dataframe tbody tr th {\n",
       "        vertical-align: top;\n",
       "    }\n",
       "\n",
       "    .dataframe thead th {\n",
       "        text-align: right;\n",
       "    }\n",
       "</style>\n",
       "<table border=\"1\" class=\"dataframe\">\n",
       "  <thead>\n",
       "    <tr style=\"text-align: right;\">\n",
       "      <th></th>\n",
       "      <th>task_id</th>\n",
       "      <th>category</th>\n",
       "      <th>desc</th>\n",
       "      <th>date_due</th>\n",
       "      <th>date_completed</th>\n",
       "    </tr>\n",
       "  </thead>\n",
       "  <tbody>\n",
       "    <tr>\n",
       "      <th>0</th>\n",
       "      <td>1</td>\n",
       "      <td>school</td>\n",
       "      <td>still studying for databases</td>\n",
       "      <td>2024-03-29</td>\n",
       "      <td>2024-03-29</td>\n",
       "    </tr>\n",
       "  </tbody>\n",
       "</table>\n",
       "</div>"
      ],
      "text/plain": [
       "   task_id category                          desc    date_due date_completed\n",
       "0        1   school  still studying for databases  2024-03-29     2024-03-29"
      ]
     },
     "execution_count": 13,
     "metadata": {},
     "output_type": "execute_result"
    }
   ],
   "source": [
    "td.get_tasks(completed=True)"
   ]
  },
  {
   "cell_type": "code",
   "execution_count": 14,
   "id": "8706ebbc-c12e-4c2b-96c3-ad7dcee781c3",
   "metadata": {},
   "outputs": [
    {
     "data": {
      "text/html": [
       "<div>\n",
       "<style scoped>\n",
       "    .dataframe tbody tr th:only-of-type {\n",
       "        vertical-align: middle;\n",
       "    }\n",
       "\n",
       "    .dataframe tbody tr th {\n",
       "        vertical-align: top;\n",
       "    }\n",
       "\n",
       "    .dataframe thead th {\n",
       "        text-align: right;\n",
       "    }\n",
       "</style>\n",
       "<table border=\"1\" class=\"dataframe\">\n",
       "  <thead>\n",
       "    <tr style=\"text-align: right;\">\n",
       "      <th></th>\n",
       "      <th>task_id</th>\n",
       "      <th>category</th>\n",
       "      <th>desc</th>\n",
       "      <th>date_due</th>\n",
       "      <th>date_completed</th>\n",
       "    </tr>\n",
       "  </thead>\n",
       "  <tbody>\n",
       "    <tr>\n",
       "      <th>0</th>\n",
       "      <td>3</td>\n",
       "      <td>work</td>\n",
       "      <td>teach databases</td>\n",
       "      <td>2024-04-01</td>\n",
       "      <td>None</td>\n",
       "    </tr>\n",
       "    <tr>\n",
       "      <th>1</th>\n",
       "      <td>4</td>\n",
       "      <td>work</td>\n",
       "      <td>give the class a quiz</td>\n",
       "      <td>2024-04-01</td>\n",
       "      <td>None</td>\n",
       "    </tr>\n",
       "  </tbody>\n",
       "</table>\n",
       "</div>"
      ],
      "text/plain": [
       "   task_id category                   desc    date_due date_completed\n",
       "0        3     work        teach databases  2024-04-01           None\n",
       "1        4     work  give the class a quiz  2024-04-01           None"
      ]
     },
     "execution_count": 14,
     "metadata": {},
     "output_type": "execute_result"
    }
   ],
   "source": [
    "td.get_tasks(category='work')"
   ]
  },
  {
   "cell_type": "code",
   "execution_count": null,
   "id": "7ddff446-ee82-44f1-b2d4-fc6a14d522b4",
   "metadata": {},
   "outputs": [],
   "source": []
  }
 ],
 "metadata": {
  "kernelspec": {
   "display_name": "Python 3 (ipykernel)",
   "language": "python",
   "name": "python3"
  },
  "language_info": {
   "codemirror_mode": {
    "name": "ipython",
    "version": 3
   },
   "file_extension": ".py",
   "mimetype": "text/x-python",
   "name": "python",
   "nbconvert_exporter": "python",
   "pygments_lexer": "ipython3",
   "version": "3.11.6"
  }
 },
 "nbformat": 4,
 "nbformat_minor": 5
}
