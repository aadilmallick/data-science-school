{
 "cells": [
  {
   "cell_type": "code",
   "execution_count": 2,
   "metadata": {},
   "outputs": [],
   "source": [
    "import pandas as pd\n",
    "import numpy as np\n",
    "import matplotlib.pyplot as plt\n",
    "import seaborn as sns"
   ]
  },
  {
   "cell_type": "markdown",
   "metadata": {},
   "source": [
    "## Fake tiny data"
   ]
  },
  {
   "cell_type": "markdown",
   "metadata": {},
   "source": [
    "To get a sense for the idea of dimensionality reduction, let's first use a small data set that contains 3 variables. We can actually view things in 3D even if it a bit inconvenient. "
   ]
  },
  {
   "cell_type": "code",
   "execution_count": null,
   "metadata": {},
   "outputs": [],
   "source": [
    "tiny = pd.read_csv('./data/tiny_data.csv')"
   ]
  },
  {
   "cell_type": "code",
   "execution_count": null,
   "metadata": {},
   "outputs": [],
   "source": [
    "tiny.head()"
   ]
  },
  {
   "cell_type": "code",
   "execution_count": null,
   "metadata": {},
   "outputs": [],
   "source": [
    "fig = plt.figure(figsize = (6,6))\n",
    "ax = plt.axes(projection ='3d')\n",
    "ax.scatter(tiny['a'], tiny['b'], tiny['c'])\n",
    "plt.xlabel('a')\n",
    "plt.ylabel('b')"
   ]
  },
  {
   "cell_type": "markdown",
   "metadata": {},
   "source": [
    "Our first goal is to find a direction in 1D that shows us the most variation. We could try looking at each individual axis:"
   ]
  },
  {
   "cell_type": "code",
   "execution_count": null,
   "metadata": {},
   "outputs": [],
   "source": [
    "sns.stripplot(data = tiny, jitter = False, orient = 'h', alpha = 0.5, s = 15)\n",
    "ax = plt.gca()\n",
    "[ax.spines[i].set_visible(False) for i in ax.spines]\n",
    "plt.tick_params(labelsize = 14, size = 0)\n",
    "plt.grid(axis = 'y', linestyle = '--')\n",
    "plt.show()"
   ]
  },
  {
   "cell_type": "markdown",
   "metadata": {},
   "source": [
    "What features of the original 3D data does this capture? How well does it show how the data varies?"
   ]
  },
  {
   "cell_type": "markdown",
   "metadata": {},
   "source": [
    "## Principal Component Analysis"
   ]
  },
  {
   "cell_type": "markdown",
   "metadata": {},
   "source": [
    "This is the idea of Principal Component Analysis: to preserve as much of the spread of the data by creating new variables that are linear combinations of the old variables. These new variables are called principal components (PCs). What is a linear combination? (We've actually already done this!)  \n",
    "\n",
    "For example, with our 3 variables, the equation for the first principal component would look like:\n",
    "\n",
    "$$PC_1 = c_1a + c_2b + c_3c$$\n",
    "\n",
    "The coefficients are calculated via the magic of linear algebra.  "
   ]
  },
  {
   "cell_type": "markdown",
   "metadata": {},
   "source": [
    "Code-wise, doing the PCA is very straightforward:"
   ]
  },
  {
   "cell_type": "code",
   "execution_count": null,
   "metadata": {},
   "outputs": [],
   "source": [
    "from sklearn.decomposition import PCA"
   ]
  },
  {
   "cell_type": "code",
   "execution_count": null,
   "metadata": {},
   "outputs": [],
   "source": []
  },
  {
   "cell_type": "markdown",
   "metadata": {},
   "source": [
    "**tiny_pca** contains the computed values for the new variables:"
   ]
  },
  {
   "cell_type": "code",
   "execution_count": null,
   "metadata": {},
   "outputs": [],
   "source": []
  },
  {
   "cell_type": "code",
   "execution_count": null,
   "metadata": {},
   "outputs": [],
   "source": [
    "tiny_2 = pd.DataFrame(columns = ['PC1','PC2','PC3'])\n",
    "tiny_2['PC1'] = tiny_pca[:,0]\n",
    "tiny_2['PC2'] = tiny_pca[:,1]\n",
    "tiny_2['PC3'] = tiny_pca[:,2]"
   ]
  },
  {
   "cell_type": "code",
   "execution_count": 1,
   "metadata": {},
   "outputs": [
    {
     "ename": "NameError",
     "evalue": "name 'tiny_2' is not defined",
     "output_type": "error",
     "traceback": [
      "\u001b[0;31m---------------------------------------------------------------------------\u001b[0m",
      "\u001b[0;31mNameError\u001b[0m                                 Traceback (most recent call last)",
      "Input \u001b[0;32mIn [1]\u001b[0m, in \u001b[0;36m<cell line: 1>\u001b[0;34m()\u001b[0m\n\u001b[0;32m----> 1\u001b[0m \u001b[43mtiny_2\u001b[49m\u001b[38;5;241m.\u001b[39mhead()\n",
      "\u001b[0;31mNameError\u001b[0m: name 'tiny_2' is not defined"
     ]
    }
   ],
   "source": [
    "tiny_2.head()"
   ]
  },
  {
   "cell_type": "code",
   "execution_count": null,
   "metadata": {},
   "outputs": [],
   "source": [
    "plt.scatter(tiny_2['PC1'], tiny_2['PC2'])\n",
    "plt.xlabel('PC1')\n",
    "plt.ylabel('PC2')"
   ]
  },
  {
   "cell_type": "code",
   "execution_count": null,
   "metadata": {},
   "outputs": [],
   "source": [
    "sns.stripplot(data = tiny_2, jitter = False, orient = 'h', alpha = 0.5, s = 15)\n",
    "ax = plt.gca()\n",
    "[ax.spines[i].set_visible(False) for i in ax.spines]\n",
    "plt.tick_params(labelsize = 14, size = 0)\n",
    "plt.grid(axis = 'y', linestyle = '--')\n",
    "plt.show()"
   ]
  },
  {
   "cell_type": "markdown",
   "metadata": {},
   "source": [
    "We can get an idea of how much each original variable contributes to each PC by looking at the components_ attribute."
   ]
  },
  {
   "cell_type": "code",
   "execution_count": null,
   "metadata": {},
   "outputs": [],
   "source": [
    "#view all components"
   ]
  },
  {
   "cell_type": "code",
   "execution_count": null,
   "metadata": {},
   "outputs": [],
   "source": [
    "first_pca_component = pd.Series(\n",
    "    pca.components_[0]\n",
    ")\n",
    "print(pca.components_[0])\n",
    "first_pca_component.plot.bar(rot = 0, fontsize = 12)\n",
    "plt.xticks([0,1,2],['a','b','c'])\n",
    "plt.ylabel('Weights in PC1')"
   ]
  },
  {
   "cell_type": "code",
   "execution_count": null,
   "metadata": {},
   "outputs": [],
   "source": [
    "second_pca_component = pd.Series(\n",
    "    pca.components_[1]\n",
    ")\n",
    "second_pca_component.plot.bar(rot = 0, fontsize = 12)\n",
    "print(pca.components_[1])\n",
    "plt.xticks([0,1,2],['a','b','c'])\n",
    "plt.ylabel('Weights in PC2')"
   ]
  },
  {
   "cell_type": "markdown",
   "metadata": {},
   "source": [
    "Remember that the goal was to capture the original variation in fewer variables. Here's the variance explained by our 3 original variables:"
   ]
  },
  {
   "cell_type": "code",
   "execution_count": null,
   "metadata": {},
   "outputs": [],
   "source": [
    "tiny.var()"
   ]
  },
  {
   "cell_type": "code",
   "execution_count": null,
   "metadata": {},
   "outputs": [],
   "source": [
    "sum(tiny.var())"
   ]
  },
  {
   "cell_type": "markdown",
   "metadata": {},
   "source": [
    "Variance explained by our PCs:"
   ]
  },
  {
   "cell_type": "code",
   "execution_count": null,
   "metadata": {},
   "outputs": [],
   "source": [
    "pca.explained_variance_"
   ]
  },
  {
   "cell_type": "code",
   "execution_count": null,
   "metadata": {},
   "outputs": [],
   "source": [
    "sum(pca.explained_variance_)"
   ]
  },
  {
   "cell_type": "markdown",
   "metadata": {},
   "source": [
    "The total variance is the same, but it is divided up between the variables differently."
   ]
  },
  {
   "cell_type": "code",
   "execution_count": null,
   "metadata": {},
   "outputs": [],
   "source": [
    "tiny_evr = #fill in\n",
    "print(tiny_evr)"
   ]
  },
  {
   "cell_type": "code",
   "execution_count": null,
   "metadata": {},
   "outputs": [],
   "source": [
    "plt.bar(range(1, len(tiny_evr)+1), tiny_evr*100, fill = False)\n",
    "plt.ylabel('Percentage of total \\nvariance explained', fontsize=14)\n",
    "plt.xticks([1,2,3], ['PC1','PC2','PC3'])\n",
    "plt.tick_params(labelsize = 12)\n",
    "plt.grid(axis = 'y', linestyle = '--')\n",
    "ax = plt.gca()\n",
    "[ax.spines[i].set_visible(False) for i in ['top','left','right']]\n",
    "plt.show()"
   ]
  },
  {
   "cell_type": "markdown",
   "metadata": {},
   "source": [
    "We don't lose much information by only taking the first two PCs. "
   ]
  },
  {
   "cell_type": "markdown",
   "metadata": {},
   "source": [
    "## Slightly larger fake data"
   ]
  },
  {
   "cell_type": "markdown",
   "metadata": {},
   "source": [
    "We previously explored this data.....so perhaps we already know something about it."
   ]
  },
  {
   "cell_type": "code",
   "execution_count": 3,
   "metadata": {},
   "outputs": [],
   "source": [
    "work = pd.read_csv('../../data/work_retention.csv')"
   ]
  },
  {
   "cell_type": "code",
   "execution_count": 4,
   "metadata": {},
   "outputs": [
    {
     "data": {
      "text/html": [
       "<div>\n",
       "<style scoped>\n",
       "    .dataframe tbody tr th:only-of-type {\n",
       "        vertical-align: middle;\n",
       "    }\n",
       "\n",
       "    .dataframe tbody tr th {\n",
       "        vertical-align: top;\n",
       "    }\n",
       "\n",
       "    .dataframe thead th {\n",
       "        text-align: right;\n",
       "    }\n",
       "</style>\n",
       "<table border=\"1\" class=\"dataframe\">\n",
       "  <thead>\n",
       "    <tr style=\"text-align: right;\">\n",
       "      <th></th>\n",
       "      <th>age</th>\n",
       "      <th>children</th>\n",
       "      <th>commute</th>\n",
       "      <th>salary</th>\n",
       "      <th>years worked</th>\n",
       "      <th>retain</th>\n",
       "    </tr>\n",
       "  </thead>\n",
       "  <tbody>\n",
       "    <tr>\n",
       "      <th>0</th>\n",
       "      <td>63</td>\n",
       "      <td>0</td>\n",
       "      <td>0.095167</td>\n",
       "      <td>54233</td>\n",
       "      <td>2.18</td>\n",
       "      <td>1</td>\n",
       "    </tr>\n",
       "    <tr>\n",
       "      <th>1</th>\n",
       "      <td>64</td>\n",
       "      <td>0</td>\n",
       "      <td>0.044500</td>\n",
       "      <td>64739</td>\n",
       "      <td>4.53</td>\n",
       "      <td>1</td>\n",
       "    </tr>\n",
       "    <tr>\n",
       "      <th>2</th>\n",
       "      <td>40</td>\n",
       "      <td>1</td>\n",
       "      <td>0.159167</td>\n",
       "      <td>95953</td>\n",
       "      <td>4.57</td>\n",
       "      <td>1</td>\n",
       "    </tr>\n",
       "    <tr>\n",
       "      <th>3</th>\n",
       "      <td>58</td>\n",
       "      <td>5</td>\n",
       "      <td>0.091167</td>\n",
       "      <td>59038</td>\n",
       "      <td>2.99</td>\n",
       "      <td>1</td>\n",
       "    </tr>\n",
       "    <tr>\n",
       "      <th>4</th>\n",
       "      <td>63</td>\n",
       "      <td>0</td>\n",
       "      <td>0.016000</td>\n",
       "      <td>7958</td>\n",
       "      <td>4.36</td>\n",
       "      <td>1</td>\n",
       "    </tr>\n",
       "  </tbody>\n",
       "</table>\n",
       "</div>"
      ],
      "text/plain": [
       "   age  children   commute  salary  years worked  retain\n",
       "0   63         0  0.095167   54233          2.18       1\n",
       "1   64         0  0.044500   64739          4.53       1\n",
       "2   40         1  0.159167   95953          4.57       1\n",
       "3   58         5  0.091167   59038          2.99       1\n",
       "4   63         0  0.016000    7958          4.36       1"
      ]
     },
     "execution_count": 4,
     "metadata": {},
     "output_type": "execute_result"
    }
   ],
   "source": [
    "work.head()"
   ]
  },
  {
   "cell_type": "code",
   "execution_count": 13,
   "metadata": {},
   "outputs": [],
   "source": [
    "#split out numeric variables\n",
    "work_numeric = work[['age', 'children', 'commute', 'salary', 'years worked']]\n",
    "y = work['retain']"
   ]
  },
  {
   "cell_type": "code",
   "execution_count": 14,
   "metadata": {},
   "outputs": [
    {
     "data": {
      "image/png": "[encoded data removed]",
      "text/plain": [
       "<Figure size 640x480 with 1 Axes>"
      ]
     },
     "metadata": {},
     "output_type": "display_data"
    }
   ],
   "source": [
    "sns.scatterplot(data = work_numeric, x = 'commute', y = 'years worked', hue = y, \n",
    "              palette = ['slategrey', 'royalblue'], alpha = 0.8, s = 35)\n",
    "plt.legend(labels = ['Quit','Stay'])\n",
    "plt.show()"
   ]
  },
  {
   "cell_type": "markdown",
   "metadata": {},
   "source": [
    "Last time, we got stuck on how to visualize all 5 variables together. Now we know how to do that using PCA. Aside from helping to visualize our data, Principal Components can also be used as the features of a model (rather than the original variables) and there are some cases when you might even get more accurate results by doing PCA (or some form of dimensionality reduction) before fitting your model.\n",
    "\n",
    "**THE CURSE OF DIMENSIONALITY** \n",
    "\n",
    "The more variables and hence more dimensions and inputs you have, the more compute power you may need. In addition, you can come up with wonky (overfit - we'll talk about this later) models if you have many input variables, and also run the risk of all of the different variables making all of your data look distinct, i.e. no patterns that we can use for predictive models."
   ]
  },
  {
   "cell_type": "code",
   "execution_count": 15,
   "metadata": {},
   "outputs": [],
   "source": [
    "#do the pca\n",
    "from sklearn.decomposition import PCA\n",
    "\n",
    "pca = PCA()\n",
    "pca_work = pca.fit_transform(work_numeric)"
   ]
  },
  {
   "cell_type": "code",
   "execution_count": 16,
   "metadata": {},
   "outputs": [
    {
     "data": {
      "image/png": "[encoded data removed]",
      "text/plain": [
       "<Figure size 640x480 with 1 Axes>"
      ]
     },
     "metadata": {},
     "output_type": "display_data"
    }
   ],
   "source": [
    "plt.scatter(pca_work[:,0], pca_work[:,1],alpha = 0.4)\n",
    "plt.xlabel('$PC_1$', fontsize = 14)\n",
    "plt.ylabel('$PC_2$', fontsize = 14)\n",
    "plt.show()"
   ]
  },
  {
   "cell_type": "markdown",
   "metadata": {},
   "source": [
    "Like we did before, we really want to know if there are any differences in the data that relate to whether someone stays or goes. We already know how to write plotting code that will shade in the points by our groups. Let's start with the code we already had and modify it:"
   ]
  },
  {
   "cell_type": "code",
   "execution_count": null,
   "metadata": {},
   "outputs": [],
   "source": [
    "#Updated version\n",
    "#We could just use work, but let's do this the hard way first\n",
    "X_df = work.drop(columns = ['retain'])\n",
    "y = work['retain']\n",
    "sns.scatterplot(data = X_df, x = 'years worked', y = 'commute', hue = work['retain'],\n",
    "                palette = ['cornflowerblue','grey'])\n",
    "plt.legend(labels = ['Quit','Stay'])\n",
    "plt.show()\n"
   ]
  },
  {
   "cell_type": "code",
   "execution_count": null,
   "metadata": {},
   "outputs": [],
   "source": [
    "#Updated version\n",
    "#We could just use work, but let's do this the hard way first\n"
   ]
  },
  {
   "cell_type": "markdown",
   "metadata": {},
   "source": [
    "Hmmm, what's going on here? When we only looked at two variables, we DID see a pattern. Why is that pattern masked when we use ALL of the variables? "
   ]
  },
  {
   "cell_type": "markdown",
   "metadata": {},
   "source": [
    "We forgot something in our analysis. We should have looked at the univariate distributions, i.e., each individual variable. Let's make a stripchart:"
   ]
  },
  {
   "cell_type": "code",
   "execution_count": null,
   "metadata": {},
   "outputs": [],
   "source": []
  },
  {
   "cell_type": "markdown",
   "metadata": {},
   "source": [
    "Let's look at a few things:"
   ]
  },
  {
   "cell_type": "code",
   "execution_count": null,
   "metadata": {},
   "outputs": [],
   "source": [
    "#each variance/total"
   ]
  },
  {
   "cell_type": "code",
   "execution_count": null,
   "metadata": {},
   "outputs": [],
   "source": [
    "evr = pca.explained_variance_ratio_\n",
    "#this is called a scree plot\n",
    "plt.figure(figsize=(8,6))\n",
    "plt.bar(range(1, len(evr)+1), evr, fill = False)\n",
    "plt.grid(axis = 'y', linestyle = '--')\n",
    "plt.xlabel('Principal Components', fontsize=14)\n",
    "plt.ylabel('Fraction of total variance explained', fontsize=14)\n",
    "plt.show()"
   ]
  },
  {
   "cell_type": "code",
   "execution_count": null,
   "metadata": {},
   "outputs": [],
   "source": [
    "first_pca_component = pd.Series(\n",
    "    pca.components_[0]\n",
    ")\n",
    "first_pca_component.plot.bar(rot = 0, fontsize = 12)\n",
    "plt.xticks([0,1,2,3,4],work_numeric.columns)\n",
    "plt.ylabel('Weights in PC1')\n",
    "plt.show()"
   ]
  },
  {
   "cell_type": "code",
   "execution_count": null,
   "metadata": {},
   "outputs": [],
   "source": [
    "for col in work_numeric.columns:\n",
    "    print(col, work_numeric[col].var())\n",
    "print('Total variance:', sum(work_numeric.var()))"
   ]
  },
  {
   "cell_type": "markdown",
   "metadata": {},
   "source": [
    "What's going on?"
   ]
  },
  {
   "cell_type": "code",
   "execution_count": null,
   "metadata": {},
   "outputs": [],
   "source": []
  },
  {
   "cell_type": "code",
   "execution_count": null,
   "metadata": {},
   "outputs": [],
   "source": []
  },
  {
   "cell_type": "code",
   "execution_count": null,
   "metadata": {},
   "outputs": [],
   "source": []
  },
  {
   "cell_type": "code",
   "execution_count": null,
   "metadata": {},
   "outputs": [],
   "source": []
  },
  {
   "cell_type": "markdown",
   "metadata": {},
   "source": [
    "Aha!! We would have come to a incorrect conclusion based on the first plot. Please note that PCA is NOT a clustering algorithm. It is for dimensionality reduction and can show natural clusters in the data, but it does not actively try to assign labels or cluster the data, i.e. it is unsupervised."
   ]
  },
  {
   "cell_type": "code",
   "execution_count": null,
   "metadata": {},
   "outputs": [],
   "source": [
    "evr = pca.explained_variance_ratio_\n",
    "\n",
    "plt.figure(figsize=(8,6))\n",
    "plt.bar(range(1, len(evr)+1), evr, fill = False)\n",
    "plt.grid(axis = 'y', linestyle = '--')\n",
    "plt.xlabel('Principal Components', fontsize=14)\n",
    "plt.ylabel('Fraction of total variance explained', fontsize=14)\n",
    "plt.show()"
   ]
  },
  {
   "cell_type": "code",
   "execution_count": null,
   "metadata": {},
   "outputs": [],
   "source": [
    "first_pca_component = pd.Series(\n",
    "    pca.components_[0]\n",
    ")\n",
    "first_pca_component.plot.bar(rot = 0, fontsize = 12)\n",
    "plt.xticks([0,1,2,3,4],work_numeric.columns)\n",
    "plt.ylabel('Weights in PC1')\n",
    "plt.show()"
   ]
  },
  {
   "cell_type": "code",
   "execution_count": null,
   "metadata": {},
   "outputs": [],
   "source": [
    "pca.components_[0]"
   ]
  },
  {
   "cell_type": "markdown",
   "metadata": {},
   "source": [
    "It looks like, to get to 90% of total variance explained, we're going to need 4 dimensions, which isn't so much of a reduction. What's important to note here is that our original result simply wasn't correct. That is an example of what can happen if you fail to thoroughly inspect your data before diving into some type of modeling."
   ]
  }
 ],
 "metadata": {
  "kernelspec": {
   "display_name": "Python 3 (ipykernel)",
   "language": "python",
   "name": "python3"
  },
  "language_info": {
   "codemirror_mode": {
    "name": "ipython",
    "version": 3
   },
   "file_extension": ".py",
   "mimetype": "text/x-python",
   "name": "python",
   "nbconvert_exporter": "python",
   "pygments_lexer": "ipython3",
   "version": "3.11.6"
  }
 },
 "nbformat": 4,
 "nbformat_minor": 4
}
