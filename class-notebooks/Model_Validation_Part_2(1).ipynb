{
 "cells": [
  {
   "cell_type": "markdown",
   "metadata": {},
   "source": [
    "# Model Validation"
   ]
  },
  {
   "cell_type": "code",
   "execution_count": null,
   "metadata": {},
   "outputs": [],
   "source": [
    "import numpy as np\n",
    "import pandas as pd\n",
    "import matplotlib.pyplot as plt\n",
    "from sklearn.linear_model import LinearRegression as LR"
   ]
  },
  {
   "cell_type": "markdown",
   "metadata": {},
   "source": [
    "We will use the function below for the remainder of the semester to perform K-fold cross-validation:"
   ]
  },
  {
   "cell_type": "code",
   "execution_count": null,
   "metadata": {},
   "outputs": [],
   "source": [
    "def do_Kfold(model,X,y,k,scaler = None, random_state = 146):\n",
    "    from sklearn.model_selection import KFold\n",
    "    \n",
    "    kf = KFold(n_splits=k, random_state = random_state, shuffle=True)\n",
    "\n",
    "    train_scores = []\n",
    "    test_scores = []\n",
    "\n",
    "    for idxTrain, idxTest in kf.split(X):\n",
    "        Xtrain = X[idxTrain, :]\n",
    "        Xtest = X[idxTest, :]\n",
    "        ytrain = y[idxTrain]\n",
    "        ytest = y[idxTest]\n",
    "        if scaler != None:\n",
    "            Xtrain = scaler.fit_transform(Xtrain)\n",
    "            Xtest = scaler.transform(Xtest)\n",
    "\n",
    "        model.fit(Xtrain,ytrain)\n",
    "\n",
    "        train_scores.append(model.score(Xtrain,ytrain))\n",
    "        test_scores.append(model.score(Xtest,ytest))\n",
    "        \n",
    "    return train_scores, test_scores"
   ]
  },
  {
   "cell_type": "markdown",
   "metadata": {},
   "source": [
    "## Concrete data"
   ]
  },
  {
   "cell_type": "code",
   "execution_count": null,
   "metadata": {},
   "outputs": [],
   "source": [
    "concrete = pd.read_excel('./data/Concrete_Data.xls')\n",
    "concrete.head()"
   ]
  },
  {
   "cell_type": "code",
   "execution_count": null,
   "metadata": {},
   "outputs": [],
   "source": [
    "concrete.columns = [item.split('(')[0].rstrip().replace(' ','_') for item in concrete.columns]"
   ]
  },
  {
   "cell_type": "code",
   "execution_count": null,
   "metadata": {},
   "outputs": [],
   "source": [
    "concrete.head()"
   ]
  },
  {
   "cell_type": "code",
   "execution_count": null,
   "metadata": {},
   "outputs": [],
   "source": [
    "X =concrete.drop(columns = 'Concrete_compressive_strength')\n",
    "y = concrete['Concrete_compressive_strength']"
   ]
  },
  {
   "cell_type": "code",
   "execution_count": null,
   "metadata": {},
   "outputs": [],
   "source": [
    "from sklearn.model_selection import train_test_split as tts\n",
    "\n",
    "Xtrain,Xtest,ytrain,ytest = tts(X,y,test_size=0.4, shuffle=True, random_state = 146)\n",
    "lin_reg = LR()\n",
    "lin_reg.fit(Xtrain,ytrain)\n",
    "\n",
    "print(f'Internal validity (R^2) : {lin_reg.score(Xtrain,ytrain):.2f}')\n",
    "print(f'External validity (R^2) : {lin_reg.score(Xtest,ytest):.2f}')"
   ]
  },
  {
   "cell_type": "code",
   "execution_count": null,
   "metadata": {},
   "outputs": [],
   "source": [
    "Xtrain,Xtest,ytrain,ytest = tts(X,y,test_size=0.4, shuffle=True, random_state = 12)\n",
    "lin_reg.fit(Xtrain,ytrain)\n",
    "\n",
    "print(f'Internal validity (R^2) : {lin_reg.score(Xtrain,ytrain):.2f}')\n",
    "print(f'External validity (R^2) : {lin_reg.score(Xtest,ytest):.2f}')"
   ]
  },
  {
   "cell_type": "code",
   "execution_count": null,
   "metadata": {},
   "outputs": [],
   "source": [
    "#Use fxn to do kfold validation\n",
    "lin_reg = LR()\n"
   ]
  },
  {
   "cell_type": "code",
   "execution_count": null,
   "metadata": {},
   "outputs": [],
   "source": [
    "min_r2 = min(min(test_scores), min(train_scores))\n",
    "max_r2 = 1\n",
    "\n",
    "n_bins = 15\n",
    "my_bins = np.linspace(min_r2, max_r2, n_bins+1)\n",
    "\n",
    "plt.hist(train_scores, label='Training Scores', color='blue', bins=my_bins, alpha=0.5, rwidth=0.95)\n",
    "plt.hist(test_scores, label='Testing Scores', color='red', bins=my_bins, alpha=0.5, rwidth=0.95)\n",
    "plt.legend()\n",
    "plt.show()\n",
    "print('Average for train:', format(np.mean(train_scores),'.2f'))\n",
    "print('Average for test:', format(np.mean (test_scores), '.2f'))"
   ]
  },
  {
   "cell_type": "code",
   "execution_count": null,
   "metadata": {},
   "outputs": [],
   "source": [
    "plt.figure(figsize=(8,8))\n",
    "plt.scatter(train_scores, test_scores, alpha=0.5, ec='k', s = 60)\n",
    "plt.xlabel('Training Score', fontsize=14)\n",
    "plt.ylabel('Testing Score', fontsize=14)\n",
    "plt.xlim([0,1])\n",
    "#plt.ylim([min(test_scores), 1])\n",
    "plt.show()"
   ]
  },
  {
   "cell_type": "code",
   "execution_count": null,
   "metadata": {},
   "outputs": [],
   "source": [
    "import seaborn as sns"
   ]
  },
  {
   "cell_type": "code",
   "execution_count": null,
   "metadata": {},
   "outputs": [],
   "source": [
    "plt.figure(figsize = [8,4])\n",
    "scores = pd.DataFrame(columns = ['Train','Test'])\n",
    "scores['Train'] = train_scores\n",
    "scores['Test'] = test_scores\n",
    "ax = sns.stripplot(data = scores, orient = 'h', s = 10, alpha = 0.7, ec = 'k', \n",
    "                   palette=['slategrey','cornflowerblue'])\n",
    "[ax.spines[i].set_visible(False) for i in ax.spines]\n",
    "plt.grid(axis = 'x', linestyle = '--', color = 'lightgrey')\n",
    "plt.tick_params(labelsize = 14)\n",
    "plt.xlabel('$R^2$', fontsize = 16, labelpad = 20)\n",
    "plt.show()"
   ]
  },
  {
   "cell_type": "code",
   "execution_count": null,
   "metadata": {},
   "outputs": [],
   "source": []
  }
 ],
 "metadata": {
  "kernelspec": {
   "display_name": "Python 3 (ipykernel)",
   "language": "python",
   "name": "python3"
  },
  "language_info": {
   "codemirror_mode": {
    "name": "ipython",
    "version": 3
   },
   "file_extension": ".py",
   "mimetype": "text/x-python",
   "name": "python",
   "nbconvert_exporter": "python",
   "pygments_lexer": "ipython3",
   "version": "3.11.6"
  }
 },
 "nbformat": 4,
 "nbformat_minor": 4
}
