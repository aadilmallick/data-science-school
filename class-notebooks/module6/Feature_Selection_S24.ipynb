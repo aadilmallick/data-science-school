{
 "cells": [
  {
   "cell_type": "code",
   "execution_count": 14,
   "id": "a23782d6",
   "metadata": {},
   "outputs": [],
   "source": [
    "from sklearn.datasets import load_wine\n",
    "from sklearn.ensemble import RandomForestClassifier as RFC\n",
    "from sklearn.feature_selection import RFECV\n",
    "from sklearn.model_selection import train_test_split as tts"
   ]
  },
  {
   "cell_type": "code",
   "execution_count": 15,
   "id": "4f2b01bb",
   "metadata": {},
   "outputs": [],
   "source": [
    "import numpy as np\n",
    "import pandas as pd\n",
    "import matplotlib.pyplot as plt\n",
    "import seaborn as sns"
   ]
  },
  {
   "cell_type": "code",
   "execution_count": 16,
   "id": "1503cf11",
   "metadata": {},
   "outputs": [],
   "source": [
    "from sklearn.model_selection import StratifiedShuffleSplit, KFold\n",
    "from sklearn.model_selection import GridSearchCV\n",
    "from sklearn.preprocessing import StandardScaler as SS"
   ]
  },
  {
   "cell_type": "code",
   "execution_count": 12,
   "id": "9e0ed05c",
   "metadata": {},
   "outputs": [],
   "source": [
    "#adapted from https://scikit-learn.org/stable/auto_examples/inspection/plot_permutation_importance.html"
   ]
  },
  {
   "cell_type": "code",
   "execution_count": 13,
   "id": "881a087b",
   "metadata": {},
   "outputs": [
    {
     "data": {
      "text/html": [
       "<div>\n",
       "<style scoped>\n",
       "    .dataframe tbody tr th:only-of-type {\n",
       "        vertical-align: middle;\n",
       "    }\n",
       "\n",
       "    .dataframe tbody tr th {\n",
       "        vertical-align: top;\n",
       "    }\n",
       "\n",
       "    .dataframe thead th {\n",
       "        text-align: right;\n",
       "    }\n",
       "</style>\n",
       "<table border=\"1\" class=\"dataframe\">\n",
       "  <thead>\n",
       "    <tr style=\"text-align: right;\">\n",
       "      <th></th>\n",
       "      <th>pclass</th>\n",
       "      <th>sex</th>\n",
       "      <th>embarked</th>\n",
       "      <th>age</th>\n",
       "      <th>sibsp</th>\n",
       "      <th>parch</th>\n",
       "      <th>fare</th>\n",
       "      <th>survived</th>\n",
       "    </tr>\n",
       "  </thead>\n",
       "  <tbody>\n",
       "    <tr>\n",
       "      <th>0</th>\n",
       "      <td>0.0</td>\n",
       "      <td>0.0</td>\n",
       "      <td>2.0</td>\n",
       "      <td>29.0000</td>\n",
       "      <td>0.0</td>\n",
       "      <td>0.0</td>\n",
       "      <td>211.3375</td>\n",
       "      <td>Yes</td>\n",
       "    </tr>\n",
       "    <tr>\n",
       "      <th>1</th>\n",
       "      <td>0.0</td>\n",
       "      <td>1.0</td>\n",
       "      <td>2.0</td>\n",
       "      <td>0.9167</td>\n",
       "      <td>1.0</td>\n",
       "      <td>2.0</td>\n",
       "      <td>151.5500</td>\n",
       "      <td>Yes</td>\n",
       "    </tr>\n",
       "    <tr>\n",
       "      <th>2</th>\n",
       "      <td>0.0</td>\n",
       "      <td>0.0</td>\n",
       "      <td>2.0</td>\n",
       "      <td>2.0000</td>\n",
       "      <td>1.0</td>\n",
       "      <td>2.0</td>\n",
       "      <td>151.5500</td>\n",
       "      <td>No</td>\n",
       "    </tr>\n",
       "    <tr>\n",
       "      <th>3</th>\n",
       "      <td>0.0</td>\n",
       "      <td>1.0</td>\n",
       "      <td>2.0</td>\n",
       "      <td>30.0000</td>\n",
       "      <td>1.0</td>\n",
       "      <td>2.0</td>\n",
       "      <td>151.5500</td>\n",
       "      <td>No</td>\n",
       "    </tr>\n",
       "    <tr>\n",
       "      <th>4</th>\n",
       "      <td>0.0</td>\n",
       "      <td>0.0</td>\n",
       "      <td>2.0</td>\n",
       "      <td>25.0000</td>\n",
       "      <td>1.0</td>\n",
       "      <td>2.0</td>\n",
       "      <td>151.5500</td>\n",
       "      <td>No</td>\n",
       "    </tr>\n",
       "  </tbody>\n",
       "</table>\n",
       "</div>"
      ],
      "text/plain": [
       "   pclass  sex  embarked      age  sibsp  parch      fare survived\n",
       "0     0.0  0.0       2.0  29.0000    0.0    0.0  211.3375      Yes\n",
       "1     0.0  1.0       2.0   0.9167    1.0    2.0  151.5500      Yes\n",
       "2     0.0  0.0       2.0   2.0000    1.0    2.0  151.5500       No\n",
       "3     0.0  1.0       2.0  30.0000    1.0    2.0  151.5500       No\n",
       "4     0.0  0.0       2.0  25.0000    1.0    2.0  151.5500       No"
      ]
     },
     "execution_count": 13,
     "metadata": {},
     "output_type": "execute_result"
    }
   ],
   "source": [
    "#start here\n",
    "titanic = pd.read_csv('titanic_mod.csv')\n",
    "titanic.head()"
   ]
  },
  {
   "cell_type": "code",
   "execution_count": 6,
   "id": "6352aa55",
   "metadata": {},
   "outputs": [],
   "source": [
    "X_df = titanic.drop(columns = ['survived'])\n",
    "X = np.array(X_df)\n",
    "X_names = X_df.columns\n",
    "y = titanic['survived'].values"
   ]
  },
  {
   "cell_type": "code",
   "execution_count": 7,
   "id": "2d2cb750",
   "metadata": {},
   "outputs": [
    {
     "data": {
      "text/html": [
       "<div>\n",
       "<style scoped>\n",
       "    .dataframe tbody tr th:only-of-type {\n",
       "        vertical-align: middle;\n",
       "    }\n",
       "\n",
       "    .dataframe tbody tr th {\n",
       "        vertical-align: top;\n",
       "    }\n",
       "\n",
       "    .dataframe thead th {\n",
       "        text-align: right;\n",
       "    }\n",
       "</style>\n",
       "<table border=\"1\" class=\"dataframe\">\n",
       "  <thead>\n",
       "    <tr style=\"text-align: right;\">\n",
       "      <th></th>\n",
       "      <th>pclass</th>\n",
       "      <th>sex</th>\n",
       "      <th>embarked</th>\n",
       "      <th>age</th>\n",
       "      <th>sibsp</th>\n",
       "      <th>parch</th>\n",
       "      <th>fare</th>\n",
       "    </tr>\n",
       "  </thead>\n",
       "  <tbody>\n",
       "    <tr>\n",
       "      <th>0</th>\n",
       "      <td>0.0</td>\n",
       "      <td>0.0</td>\n",
       "      <td>2.0</td>\n",
       "      <td>29.0000</td>\n",
       "      <td>0.0</td>\n",
       "      <td>0.0</td>\n",
       "      <td>211.3375</td>\n",
       "    </tr>\n",
       "    <tr>\n",
       "      <th>1</th>\n",
       "      <td>0.0</td>\n",
       "      <td>1.0</td>\n",
       "      <td>2.0</td>\n",
       "      <td>0.9167</td>\n",
       "      <td>1.0</td>\n",
       "      <td>2.0</td>\n",
       "      <td>151.5500</td>\n",
       "    </tr>\n",
       "    <tr>\n",
       "      <th>2</th>\n",
       "      <td>0.0</td>\n",
       "      <td>0.0</td>\n",
       "      <td>2.0</td>\n",
       "      <td>2.0000</td>\n",
       "      <td>1.0</td>\n",
       "      <td>2.0</td>\n",
       "      <td>151.5500</td>\n",
       "    </tr>\n",
       "    <tr>\n",
       "      <th>3</th>\n",
       "      <td>0.0</td>\n",
       "      <td>1.0</td>\n",
       "      <td>2.0</td>\n",
       "      <td>30.0000</td>\n",
       "      <td>1.0</td>\n",
       "      <td>2.0</td>\n",
       "      <td>151.5500</td>\n",
       "    </tr>\n",
       "    <tr>\n",
       "      <th>4</th>\n",
       "      <td>0.0</td>\n",
       "      <td>0.0</td>\n",
       "      <td>2.0</td>\n",
       "      <td>25.0000</td>\n",
       "      <td>1.0</td>\n",
       "      <td>2.0</td>\n",
       "      <td>151.5500</td>\n",
       "    </tr>\n",
       "  </tbody>\n",
       "</table>\n",
       "</div>"
      ],
      "text/plain": [
       "   pclass  sex  embarked      age  sibsp  parch      fare\n",
       "0     0.0  0.0       2.0  29.0000    0.0    0.0  211.3375\n",
       "1     0.0  1.0       2.0   0.9167    1.0    2.0  151.5500\n",
       "2     0.0  0.0       2.0   2.0000    1.0    2.0  151.5500\n",
       "3     0.0  1.0       2.0  30.0000    1.0    2.0  151.5500\n",
       "4     0.0  0.0       2.0  25.0000    1.0    2.0  151.5500"
      ]
     },
     "execution_count": 7,
     "metadata": {},
     "output_type": "execute_result"
    }
   ],
   "source": [
    "X_df.head()"
   ]
  },
  {
   "cell_type": "code",
   "execution_count": 8,
   "id": "cbcaf996",
   "metadata": {},
   "outputs": [
    {
     "data": {
      "text/plain": [
       "array([0., 1., 2.])"
      ]
     },
     "execution_count": 8,
     "metadata": {},
     "output_type": "execute_result"
    }
   ],
   "source": [
    "X_df['pclass'].unique()"
   ]
  },
  {
   "cell_type": "markdown",
   "id": "5c17fac0",
   "metadata": {},
   "source": [
    " ## Looking at PCA"
   ]
  },
  {
   "cell_type": "code",
   "execution_count": 32,
   "id": "b0262618",
   "metadata": {},
   "outputs": [
    {
     "data": {
      "text/plain": [
       "parch       2.245136\n",
       "sibsp       2.085343\n",
       "fare        1.556897\n",
       "sex         0.741900\n",
       "pclass      0.645112\n",
       "embarked    0.545519\n",
       "age         0.430664\n",
       "dtype: float64"
      ]
     },
     "execution_count": 32,
     "metadata": {},
     "output_type": "execute_result"
    }
   ],
   "source": [
    "pd.Series(X.std(axis = 0)/X.mean(axis = 0), X_df.columns).sort_values(ascending = False)"
   ]
  },
  {
   "cell_type": "code",
   "execution_count": 33,
   "id": "5811f003",
   "metadata": {},
   "outputs": [],
   "source": [
    "#unsup\n",
    "from sklearn.decomposition import PCA\n",
    "from sklearn.preprocessing import StandardScaler as SS\n",
    "pca = PCA(n_components = 2)\n",
    "ss = SS()\n",
    "pca_X = pca.fit_transform(ss.fit_transform(X))"
   ]
  },
  {
   "cell_type": "code",
   "execution_count": 34,
   "id": "7e67b999",
   "metadata": {},
   "outputs": [
    {
     "name": "stdout",
     "output_type": "stream",
     "text": [
      "[0.27359922 0.23369135]\n"
     ]
    }
   ],
   "source": [
    "print(pca.explained_variance_ratio_)"
   ]
  },
  {
   "cell_type": "code",
   "execution_count": 35,
   "id": "7a9c1477",
   "metadata": {},
   "outputs": [
    {
     "data": {
      "text/html": [
       "<div>\n",
       "<style scoped>\n",
       "    .dataframe tbody tr th:only-of-type {\n",
       "        vertical-align: middle;\n",
       "    }\n",
       "\n",
       "    .dataframe tbody tr th {\n",
       "        vertical-align: top;\n",
       "    }\n",
       "\n",
       "    .dataframe thead th {\n",
       "        text-align: right;\n",
       "    }\n",
       "</style>\n",
       "<table border=\"1\" class=\"dataframe\">\n",
       "  <thead>\n",
       "    <tr style=\"text-align: right;\">\n",
       "      <th></th>\n",
       "      <th>0</th>\n",
       "      <th>1</th>\n",
       "    </tr>\n",
       "  </thead>\n",
       "  <tbody>\n",
       "    <tr>\n",
       "      <th>fare</th>\n",
       "      <td>0.602424</td>\n",
       "      <td>0.099979</td>\n",
       "    </tr>\n",
       "    <tr>\n",
       "      <th>pclass</th>\n",
       "      <td>-0.580971</td>\n",
       "      <td>0.201412</td>\n",
       "    </tr>\n",
       "    <tr>\n",
       "      <th>embarked</th>\n",
       "      <td>-0.314992</td>\n",
       "      <td>0.122993</td>\n",
       "    </tr>\n",
       "    <tr>\n",
       "      <th>age</th>\n",
       "      <td>0.309307</td>\n",
       "      <td>-0.421925</td>\n",
       "    </tr>\n",
       "    <tr>\n",
       "      <th>sex</th>\n",
       "      <td>-0.262089</td>\n",
       "      <td>-0.305951</td>\n",
       "    </tr>\n",
       "    <tr>\n",
       "      <th>parch</th>\n",
       "      <td>0.170823</td>\n",
       "      <td>0.576316</td>\n",
       "    </tr>\n",
       "    <tr>\n",
       "      <th>sibsp</th>\n",
       "      <td>0.082440</td>\n",
       "      <td>0.574928</td>\n",
       "    </tr>\n",
       "  </tbody>\n",
       "</table>\n",
       "</div>"
      ],
      "text/plain": [
       "                 0         1\n",
       "fare      0.602424  0.099979\n",
       "pclass   -0.580971  0.201412\n",
       "embarked -0.314992  0.122993\n",
       "age       0.309307 -0.421925\n",
       "sex      -0.262089 -0.305951\n",
       "parch     0.170823  0.576316\n",
       "sibsp     0.082440  0.574928"
      ]
     },
     "execution_count": 35,
     "metadata": {},
     "output_type": "execute_result"
    }
   ],
   "source": [
    "pd.DataFrame(pca.components_.T, index = X_names).sort_values(0,ascending = False, key = abs)"
   ]
  },
  {
   "cell_type": "code",
   "execution_count": 36,
   "id": "522ee5b9",
   "metadata": {},
   "outputs": [
    {
     "data": {
      "text/html": [
       "<div>\n",
       "<style scoped>\n",
       "    .dataframe tbody tr th:only-of-type {\n",
       "        vertical-align: middle;\n",
       "    }\n",
       "\n",
       "    .dataframe tbody tr th {\n",
       "        vertical-align: top;\n",
       "    }\n",
       "\n",
       "    .dataframe thead th {\n",
       "        text-align: right;\n",
       "    }\n",
       "</style>\n",
       "<table border=\"1\" class=\"dataframe\">\n",
       "  <thead>\n",
       "    <tr style=\"text-align: right;\">\n",
       "      <th></th>\n",
       "      <th>0</th>\n",
       "      <th>1</th>\n",
       "    </tr>\n",
       "  </thead>\n",
       "  <tbody>\n",
       "    <tr>\n",
       "      <th>parch</th>\n",
       "      <td>0.170823</td>\n",
       "      <td>0.576316</td>\n",
       "    </tr>\n",
       "    <tr>\n",
       "      <th>sibsp</th>\n",
       "      <td>0.082440</td>\n",
       "      <td>0.574928</td>\n",
       "    </tr>\n",
       "    <tr>\n",
       "      <th>age</th>\n",
       "      <td>0.309307</td>\n",
       "      <td>-0.421925</td>\n",
       "    </tr>\n",
       "    <tr>\n",
       "      <th>sex</th>\n",
       "      <td>-0.262089</td>\n",
       "      <td>-0.305951</td>\n",
       "    </tr>\n",
       "    <tr>\n",
       "      <th>pclass</th>\n",
       "      <td>-0.580971</td>\n",
       "      <td>0.201412</td>\n",
       "    </tr>\n",
       "    <tr>\n",
       "      <th>embarked</th>\n",
       "      <td>-0.314992</td>\n",
       "      <td>0.122993</td>\n",
       "    </tr>\n",
       "    <tr>\n",
       "      <th>fare</th>\n",
       "      <td>0.602424</td>\n",
       "      <td>0.099979</td>\n",
       "    </tr>\n",
       "  </tbody>\n",
       "</table>\n",
       "</div>"
      ],
      "text/plain": [
       "                 0         1\n",
       "parch     0.170823  0.576316\n",
       "sibsp     0.082440  0.574928\n",
       "age       0.309307 -0.421925\n",
       "sex      -0.262089 -0.305951\n",
       "pclass   -0.580971  0.201412\n",
       "embarked -0.314992  0.122993\n",
       "fare      0.602424  0.099979"
      ]
     },
     "execution_count": 36,
     "metadata": {},
     "output_type": "execute_result"
    }
   ],
   "source": [
    "pd.DataFrame(pca.components_.T, index = X_names).sort_values(1,ascending = False, key = abs)"
   ]
  },
  {
   "cell_type": "code",
   "execution_count": 37,
   "id": "80ffd9a3",
   "metadata": {},
   "outputs": [
    {
     "data": {
      "image/png": "[encoded data removed]",
      "text/plain": [
       "<Figure size 432x288 with 1 Axes>"
      ]
     },
     "metadata": {
      "needs_background": "light"
     },
     "output_type": "display_data"
    }
   ],
   "source": [
    "colors = ['violet','slategrey','forestgreen']\n",
    "pca_df = pd.DataFrame(pca_X[:,:2], columns = ['PC1','PC2'])\n",
    "pca_df['survived'] = y\n",
    "ax = sns.scatterplot(data = pca_df, x = 'PC1', y = 'PC2',hue = 'survived', palette = ['cornflowerblue','crimson'])\n",
    "plt.show()"
   ]
  },
  {
   "cell_type": "markdown",
   "id": "b9712a2a",
   "metadata": {},
   "source": [
    "## Feature selection with RF"
   ]
  },
  {
   "cell_type": "code",
   "execution_count": 38,
   "id": "c4858bcb",
   "metadata": {},
   "outputs": [],
   "source": [
    "#And yes, the results will change based on random state and test_size\n",
    "Xtrain,Xtest,ytrain,ytest = tts(X,y,test_size = 0.25, shuffle = True, random_state = 201, stratify = y)"
   ]
  },
  {
   "cell_type": "code",
   "execution_count": 282,
   "id": "7b96faf2",
   "metadata": {},
   "outputs": [],
   "source": [
    "#cross-validation with GridSearch for the RF\n",
    "#first optimize the RF for the data"
   ]
  },
  {
   "cell_type": "code",
   "execution_count": 283,
   "id": "70560bea",
   "metadata": {},
   "outputs": [
    {
     "data": {
      "text/plain": [
       "GridSearchCV(cv=KFold(n_splits=10, random_state=201, shuffle=True),\n",
       "             estimator=RandomForestClassifier(random_state=201),\n",
       "             param_grid={'min_samples_split': [5, 6, 7, 8, 9, 10],\n",
       "                         'n_estimators': [100, 500]},\n",
       "             scoring='accuracy')"
      ]
     },
     "execution_count": 283,
     "metadata": {},
     "output_type": "execute_result"
    }
   ],
   "source": [
    "param_grid = dict(n_estimators=[100,500],\n",
    "                 min_samples_split = [5,6,7,8,9,10]) #params to test\n",
    "#cv = StratifiedShuffleSplit(n_splits=10, test_size=0.2, random_state=42)\n",
    "cv = KFold(n_splits=10, random_state = 201, shuffle = True)\n",
    "grid = GridSearchCV(RFC(random_state = 201), param_grid=param_grid, cv=cv, \n",
    "                    scoring='accuracy')\n",
    "grid.fit(Xtrain, ytrain)"
   ]
  },
  {
   "cell_type": "code",
   "execution_count": 284,
   "id": "bb315c7d",
   "metadata": {},
   "outputs": [
    {
     "name": "stdout",
     "output_type": "stream",
     "text": [
      "The best parameters are {'min_samples_split': 8, 'n_estimators': 100} with a score of 0.81\n"
     ]
    }
   ],
   "source": [
    "print(\n",
    "    f'The best parameters are {grid.best_params_} with a score of {grid.best_score_:.2f}'\n",
    ")"
   ]
  },
  {
   "cell_type": "code",
   "execution_count": 39,
   "id": "f0a990bd",
   "metadata": {},
   "outputs": [
    {
     "ename": "NameError",
     "evalue": "name 'grid' is not defined",
     "output_type": "error",
     "traceback": [
      "\u001b[0;31m---------------------------------------------------------------------------\u001b[0m",
      "\u001b[0;31mNameError\u001b[0m                                 Traceback (most recent call last)",
      "Input \u001b[0;32mIn [39]\u001b[0m, in \u001b[0;36m<cell line: 1>\u001b[0;34m()\u001b[0m\n\u001b[0;32m----> 1\u001b[0m pd\u001b[38;5;241m.\u001b[39mDataFrame(\u001b[43mgrid\u001b[49m\u001b[38;5;241m.\u001b[39mcv_results_)[[\u001b[38;5;124m'\u001b[39m\u001b[38;5;124mparam_n_estimators\u001b[39m\u001b[38;5;124m'\u001b[39m,\n\u001b[1;32m      2\u001b[0m                                 \u001b[38;5;124m'\u001b[39m\u001b[38;5;124mparam_min_samples_split\u001b[39m\u001b[38;5;124m'\u001b[39m,\u001b[38;5;124m'\u001b[39m\u001b[38;5;124mmean_test_score\u001b[39m\u001b[38;5;124m'\u001b[39m,\u001b[38;5;124m'\u001b[39m\u001b[38;5;124mrank_test_score\u001b[39m\u001b[38;5;124m'\u001b[39m]]\n",
      "\u001b[0;31mNameError\u001b[0m: name 'grid' is not defined"
     ]
    }
   ],
   "source": [
    "pd.DataFrame(grid.cv_results_)[['param_n_estimators',\n",
    "                                'param_min_samples_split','mean_test_score','rank_test_score']]"
   ]
  },
  {
   "cell_type": "code",
   "execution_count": 40,
   "id": "816b3a46",
   "metadata": {},
   "outputs": [],
   "source": [
    "rfc = RFC(n_estimators = 100, min_samples_split = 8)"
   ]
  },
  {
   "cell_type": "code",
   "execution_count": 41,
   "id": "7d0f7b11",
   "metadata": {},
   "outputs": [
    {
     "data": {
      "text/plain": [
       "RandomForestClassifier(min_samples_split=8)"
      ]
     },
     "execution_count": 41,
     "metadata": {},
     "output_type": "execute_result"
    }
   ],
   "source": [
    "rfc.fit(Xtrain,ytrain)"
   ]
  },
  {
   "cell_type": "code",
   "execution_count": 42,
   "id": "8b04b0dc",
   "metadata": {},
   "outputs": [
    {
     "data": {
      "text/plain": [
       "0.9122448979591836"
      ]
     },
     "execution_count": 42,
     "metadata": {},
     "output_type": "execute_result"
    }
   ],
   "source": [
    "rfc.score(Xtrain, ytrain)"
   ]
  },
  {
   "cell_type": "code",
   "execution_count": 43,
   "id": "23d35580",
   "metadata": {},
   "outputs": [
    {
     "data": {
      "text/plain": [
       "0.7737003058103975"
      ]
     },
     "execution_count": 43,
     "metadata": {},
     "output_type": "execute_result"
    }
   ],
   "source": [
    "rfc.score(Xtest, ytest)"
   ]
  },
  {
   "cell_type": "code",
   "execution_count": 44,
   "id": "2ac3cd72",
   "metadata": {},
   "outputs": [
    {
     "data": {
      "image/png": "[encoded data removed]",
      "text/plain": [
       "<Figure size 432x288 with 1 Axes>"
      ]
     },
     "metadata": {
      "needs_background": "light"
     },
     "output_type": "display_data"
    }
   ],
   "source": [
    "forest_importances = pd.Series(rfc.feature_importances_,  X_names)\n",
    "filtered = forest_importances[forest_importances > 0].sort_values()[-15:]\n",
    "fig, ax = plt.subplots()\n",
    "filtered.plot.barh(ax=ax, alpha = 0.5)\n",
    "plt.xscale('log')\n",
    "plt.axvline(forest_importances.mean(), c = 'r',linestyle = '--' )\n",
    "ax.set_title('Feature importances')\n",
    "ax.set_xlabel('Mean decrease in impurity')\n",
    "[ax.spines[i].set_visible(False) for i in ax.spines]\n",
    "plt.show()"
   ]
  },
  {
   "cell_type": "code",
   "execution_count": 295,
   "id": "168fff01",
   "metadata": {},
   "outputs": [
    {
     "name": "stdout",
     "output_type": "stream",
     "text": [
      "fare        257\n",
      "age          96\n",
      "parch         8\n",
      "sibsp         7\n",
      "pclass        3\n",
      "embarked      3\n",
      "sex           2\n",
      "dtype: int64\n"
     ]
    },
    {
     "name": "stderr",
     "output_type": "stream",
     "text": [
      "/var/folders/81/htmhjf795n5c2nkctv78dgj00000gp/T/ipykernel_26343/3239188901.py:2: FutureWarning: The default dtype for empty Series will be 'object' instead of 'float64' in a future version. Specify a dtype explicitly to silence this warning.\n",
      "  ser = pd.Series()\n"
     ]
    }
   ],
   "source": [
    "xtrain_df = pd.DataFrame(Xtrain, columns = X_names)\n",
    "ser = pd.Series()\n",
    "for col in xtrain_df.columns:\n",
    "    ser.loc[col] = len(xtrain_df[col].unique())\n",
    "print(ser.sort_values(ascending = False))"
   ]
  },
  {
   "cell_type": "code",
   "execution_count": 45,
   "id": "74a250ca",
   "metadata": {},
   "outputs": [
    {
     "data": {
      "image/png": "[encoded data removed]",
      "text/plain": [
       "<Figure size 432x288 with 1 Axes>"
      ]
     },
     "metadata": {
      "needs_background": "light"
     },
     "output_type": "display_data"
    }
   ],
   "source": [
    "#Permutation\n",
    "#from https://scikit-learn.org/stable/auto_examples/inspection/plot_permutation_importance.html\n",
    "from sklearn.inspection import permutation_importance\n",
    "result = permutation_importance(\n",
    "    rfc, Xtest,ytest, n_repeats=10, random_state=146, n_jobs=2\n",
    ")\n",
    "X_test_df = pd.DataFrame(Xtest, columns = X_names)\n",
    "sorted_importances_idx = result.importances_mean.argsort()\n",
    "importances = pd.DataFrame(\n",
    "    result.importances[sorted_importances_idx].T,\n",
    "    columns=X_test_df.columns[sorted_importances_idx],\n",
    ")\n",
    "ax = importances.plot.box(vert=False, whis=10)\n",
    "ax.set_title(\"Permutation Importances(Test)\")\n",
    "ax.axvline(x=0, color=\"k\", linestyle=\"--\")\n",
    "ax.set_xlabel(\"Decrease in accuracy score\")\n",
    "ax.figure.tight_layout()"
   ]
  },
  {
   "cell_type": "code",
   "execution_count": 298,
   "id": "f409d160",
   "metadata": {},
   "outputs": [
    {
     "data": {
      "image/png": "[encoded data removed]",
      "text/plain": [
       "<Figure size 432x288 with 1 Axes>"
      ]
     },
     "metadata": {
      "needs_background": "light"
     },
     "output_type": "display_data"
    }
   ],
   "source": [
    "#Permutation\n",
    "#from https://scikit-learn.org/stable/auto_examples/inspection/plot_permutation_importance.html\n",
    "from sklearn.inspection import permutation_importance\n",
    "result = permutation_importance(\n",
    "    rfc, Xtrain,ytrain, n_repeats=10, random_state=146, n_jobs=2\n",
    ")\n",
    "X_df = pd.DataFrame(Xtrain, columns = X_names)\n",
    "sorted_importances_idx = result.importances_mean.argsort()\n",
    "importances = pd.DataFrame(\n",
    "    result.importances[sorted_importances_idx].T,\n",
    "    columns=X_df.columns[sorted_importances_idx],\n",
    ")\n",
    "ax = importances.plot.box(vert=False, whis=10)\n",
    "ax.set_title(\"Permutation Importances(Train)\")\n",
    "ax.axvline(x=0, color=\"k\", linestyle=\"--\")\n",
    "ax.set_xlabel(\"Decrease in accuracy score\")\n",
    "ax.figure.tight_layout()"
   ]
  },
  {
   "cell_type": "code",
   "execution_count": null,
   "id": "f9391b94",
   "metadata": {},
   "outputs": [],
   "source": []
  },
  {
   "cell_type": "markdown",
   "id": "e2d6e98b",
   "metadata": {},
   "source": [
    "# Another example with more predictors"
   ]
  },
  {
   "cell_type": "code",
   "execution_count": 301,
   "id": "f880cd61",
   "metadata": {},
   "outputs": [],
   "source": [
    "data = pd.read_csv('data/data_recode.txt', sep = ' ')\n",
    "data = data.fillna(-1)\n",
    "pheno = data['PHENOTYPE']"
   ]
  },
  {
   "cell_type": "code",
   "execution_count": 302,
   "id": "e7740918",
   "metadata": {},
   "outputs": [],
   "source": [
    "data2 = data.drop(columns = ['FID','IID','PAT','MAT','SEX','PHENOTYPE'])"
   ]
  },
  {
   "cell_type": "code",
   "execution_count": 303,
   "id": "88df99e2",
   "metadata": {},
   "outputs": [],
   "source": [
    "y = pheno.values\n",
    "X = data2.values"
   ]
  },
  {
   "cell_type": "code",
   "execution_count": 304,
   "id": "fff86116",
   "metadata": {},
   "outputs": [
    {
     "data": {
      "text/plain": [
       "(197, 166)"
      ]
     },
     "execution_count": 304,
     "metadata": {},
     "output_type": "execute_result"
    }
   ],
   "source": [
    "X.shape"
   ]
  },
  {
   "cell_type": "code",
   "execution_count": 305,
   "id": "81fb4409",
   "metadata": {},
   "outputs": [],
   "source": [
    "Xtrain,Xtest,ytrain,ytest = tts(X,y,test_size = 0.2, shuffle = True, random_state = 42)"
   ]
  },
  {
   "cell_type": "code",
   "execution_count": 306,
   "id": "0cef5f17",
   "metadata": {},
   "outputs": [
    {
     "data": {
      "text/plain": [
       "RandomForestClassifier(random_state=42)"
      ]
     },
     "execution_count": 306,
     "metadata": {},
     "output_type": "execute_result"
    }
   ],
   "source": [
    "rfc = RandomForestClassifier(n_estimators=100, random_state=42) \n",
    "rfc.fit(Xtrain, ytrain)"
   ]
  },
  {
   "cell_type": "code",
   "execution_count": 307,
   "id": "2d998dd0",
   "metadata": {},
   "outputs": [
    {
     "data": {
      "image/png": "[encoded data removed]",
      "text/plain": [
       "<Figure size 432x288 with 1 Axes>"
      ]
     },
     "metadata": {
      "needs_background": "light"
     },
     "output_type": "display_data"
    }
   ],
   "source": [
    "#Plot feature importances for features above the mean decrease in impurity\n",
    "forest_importances = pd.Series(rfc.feature_importances_, data2.columns)\n",
    "filtered = forest_importances[forest_importances > \n",
    "                             forest_importances.mean()].sort_values()[:15]\n",
    "fig, ax = plt.subplots()\n",
    "filtered.plot.barh(ax=ax, alpha = 0.5)\n",
    "plt.xscale('log')\n",
    "plt.axvline(forest_importances.mean(), c = 'r',linestyle = '--' )\n",
    "ax.set_title('Feature importances')\n",
    "ax.set_ylabel('Mean decrease in impurity')\n",
    "[ax.spines[i].set_visible(False) for i in ax.spines]\n",
    "plt.show()"
   ]
  },
  {
   "cell_type": "code",
   "execution_count": 308,
   "id": "cb0b6837",
   "metadata": {},
   "outputs": [],
   "source": [
    "k = 10\n",
    "kf = KFold(n_splits=k,shuffle=True,random_state=42)\n",
    "rfc = RandomForestClassifier(max_features = 0.4, n_estimators=500,\n",
    "                            min_samples_split = 3, random_state=42) \n",
    "feature_sel = []\n",
    "\n",
    "for idxTrain, idxTest in kf.split(Xtrain):\n",
    "    Xtrain2 = X[idxTrain,:]\n",
    "    ytrain2 = y[idxTrain]\n",
    "    rfc.fit(Xtrain2, ytrain2)\n",
    "    forest_importances = pd.Series(rfc.feature_importances_, data2.columns)\n",
    "    filtered = forest_importances[forest_importances > \n",
    "                             forest_importances.mean()].sort_values()[-15:]\n",
    "    feature_sel.extend(list(filtered.index))\n",
    "        "
   ]
  },
  {
   "cell_type": "code",
   "execution_count": 311,
   "id": "6c73b6cb",
   "metadata": {},
   "outputs": [
    {
     "data": {
      "image/png": "[encoded data removed]",
      "text/plain": [
       "<Figure size 432x288 with 1 Axes>"
      ]
     },
     "metadata": {
      "needs_background": "light"
     },
     "output_type": "display_data"
    }
   ],
   "source": [
    "#Make a plot to summarize feature selection over the 10 runs of cv\n",
    "#This means over all 10 runs of cv, how many times did each feature appear\n",
    "#Plot that\n",
    "feature_counts = {item:feature_sel.count(item) for item in feature_sel}\n",
    "forest_importances = pd.Series(feature_counts)\n",
    "forest_importances = forest_importances[forest_importances > 0]\n",
    "fig, ax = plt.subplots()\n",
    "forest_importances.plot.barh(ax=ax, alpha = 0.5)\n",
    "ax.set_title('Feature importances over 10 rounds of cross-validation')\n",
    "ax.set_ylabel('Number of folds\\nfeature was selected in')\n",
    "[ax.spines[i].set_visible(False) for i in ax.spines]\n",
    "plt.show()"
   ]
  },
  {
   "cell_type": "code",
   "execution_count": null,
   "id": "516814ea",
   "metadata": {},
   "outputs": [],
   "source": []
  }
 ],
 "metadata": {
  "kernelspec": {
   "display_name": "Python 3 (ipykernel)",
   "language": "python",
   "name": "python3"
  },
  "language_info": {
   "codemirror_mode": {
    "name": "ipython",
    "version": 3
   },
   "file_extension": ".py",
   "mimetype": "text/x-python",
   "name": "python",
   "nbconvert_exporter": "python",
   "pygments_lexer": "ipython3",
   "version": "3.11.6"
  }
 },
 "nbformat": 4,
 "nbformat_minor": 5
}
