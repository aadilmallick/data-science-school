{
 "cells": [
  {
   "cell_type": "code",
   "execution_count": 15,
   "id": "e8652f34",
   "metadata": {},
   "outputs": [],
   "source": [
    "import pandas as pd\n",
    "import numpy as np\n",
    "import matplotlib.pyplot as plt"
   ]
  },
  {
   "cell_type": "code",
   "execution_count": 28,
   "id": "d720476f",
   "metadata": {},
   "outputs": [],
   "source": [
    "from sklearn.linear_model import LogisticRegression as LR\n",
    "from sklearn.neighbors import KNeighborsClassifier as KNN"
   ]
  },
  {
   "cell_type": "code",
   "execution_count": 17,
   "id": "4e9bd424",
   "metadata": {},
   "outputs": [],
   "source": [
    "def do_Kfold(model,X,y,k,scaler = None, random_state = 146):\n",
    "    from sklearn.model_selection import KFold\n",
    "    \n",
    "    kf = KFold(n_splits=k, random_state = random_state, shuffle=True)\n",
    "\n",
    "    train_scores = []\n",
    "    test_scores = []\n",
    "\n",
    "    for idxTrain, idxTest in kf.split(X):\n",
    "        Xtrain = X[idxTrain, :]\n",
    "        Xtest = X[idxTest, :]\n",
    "        ytrain = y[idxTrain]\n",
    "        ytest = y[idxTest]\n",
    "        if scaler != None:\n",
    "            Xtrain = scaler.fit_transform(Xtrain)\n",
    "            Xtest = scaler.transform(Xtest)\n",
    "\n",
    "        model.fit(Xtrain,ytrain)\n",
    "\n",
    "        train_scores.append(model.score(Xtrain,ytrain))\n",
    "        test_scores.append(model.score(Xtest,ytest))\n",
    "        \n",
    "    return train_scores, test_scores"
   ]
  },
  {
   "cell_type": "code",
   "execution_count": 18,
   "id": "d72df3ca",
   "metadata": {},
   "outputs": [],
   "source": [
    "def compare_classes(actual, predicted, names=None):\n",
    "    '''Function returns a confusion matrix, and overall accuracy given:\n",
    "            Input:  actual - a list of actual classifications\n",
    "                    predicted - a list of predicted classifications\n",
    "                    names (optional) - a list of class names\n",
    "    '''\n",
    "    accuracy = sum(actual==predicted)/actual.shape[0]\n",
    "    \n",
    "    classes = pd.DataFrame(columns = ['Actual', 'Predicted'])\n",
    "    classes['Actual'] = actual\n",
    "    classes['Predicted'] = predicted\n",
    "\n",
    "    conf_mat = pd.crosstab(classes['Actual'], classes['Predicted'])\n",
    "    \n",
    "    if type(names) != type(None):\n",
    "        conf_mat.index = names\n",
    "        conf_mat.index.name = 'Actual'\n",
    "        conf_mat.columns = names\n",
    "        conf_mat.columns.name = 'Predicted'\n",
    "    \n",
    "    print('Accuracy = ' + format(accuracy, '.2f'))\n",
    "    return conf_mat, accuracy"
   ]
  },
  {
   "cell_type": "code",
   "execution_count": 19,
   "id": "448ab72b",
   "metadata": {},
   "outputs": [],
   "source": [
    "def plot_groups(points, groups, colors, \n",
    "               ec='black', ax='None',s=30, alpha=0.5,\n",
    "               figsize=(6,6)):\n",
    "    '''Creates a scatter plot, given:\n",
    "            Input:  points (array)\n",
    "                    groups (an integer label for each point)\n",
    "                    colors (one rgb tuple for each group)\n",
    "                    ec (edgecolor for markers, default is black)\n",
    "                    ax (optional handle to an existing axes object to add the new plot on top of)\n",
    "            Output: handles to the figure (fig) and axes (ax) objects\n",
    "    '''\n",
    "    import matplotlib.pyplot as plt\n",
    "    import numpy as np\n",
    "    \n",
    "    # Create a new plot, unless something was passed for 'ax'\n",
    "    if ax == 'None':\n",
    "        fig,ax = plt.subplots(figsize=figsize)\n",
    "    else:\n",
    "        fig = plt.gcf()\n",
    "    \n",
    "    for i,lbl in enumerate(np.unique(groups)):\n",
    "        idx = (groups==lbl)\n",
    "        ax.scatter(points[idx,0], points[idx,1],color=colors[i],\n",
    "                    ec=ec,alpha=alpha,label = lbl,s=s)\n",
    "    ax.set_xlabel('$x_1$')\n",
    "    ax.set_ylabel('$x_2$')\n",
    "    ax.legend(bbox_to_anchor=[1, 0.5], loc='center left')\n",
    "    return fig, ax"
   ]
  },
  {
   "cell_type": "code",
   "execution_count": 20,
   "id": "1f0706c1",
   "metadata": {},
   "outputs": [],
   "source": [
    "def get_colors(N, map_name='rainbow'):\n",
    "    '''Returns a list of N colors from a matplotlib colormap\n",
    "            Input: N = number of colors, and map_name = name of a matplotlib colormap\n",
    "    \n",
    "            For a list of available colormaps: \n",
    "                https://matplotlib.org/3.1.1/gallery/color/colormap_reference.html\n",
    "    '''\n",
    "    import matplotlib\n",
    "    cmap = matplotlib.cm.get_cmap(name=map_name)\n",
    "    n = np.linspace(0,1,N)\n",
    "    colors = cmap(n)\n",
    "    return colors"
   ]
  },
  {
   "cell_type": "markdown",
   "id": "b0d612f3",
   "metadata": {},
   "source": [
    "## Part 1: Two class problem with one predictor (Wine)"
   ]
  },
  {
   "cell_type": "markdown",
   "id": "68dac580",
   "metadata": {},
   "source": [
    "We will start by looking at a simplification of the wine data - we will consider two classes: Class_2 and Not_Class_2, and a single predictor, flavanoids."
   ]
  },
  {
   "cell_type": "code",
   "execution_count": 21,
   "id": "8d4040f1",
   "metadata": {},
   "outputs": [
    {
     "data": {
      "text/html": [
       "<div>\n",
       "<style scoped>\n",
       "    .dataframe tbody tr th:only-of-type {\n",
       "        vertical-align: middle;\n",
       "    }\n",
       "\n",
       "    .dataframe tbody tr th {\n",
       "        vertical-align: top;\n",
       "    }\n",
       "\n",
       "    .dataframe thead th {\n",
       "        text-align: right;\n",
       "    }\n",
       "</style>\n",
       "<table border=\"1\" class=\"dataframe\">\n",
       "  <thead>\n",
       "    <tr style=\"text-align: right;\">\n",
       "      <th></th>\n",
       "      <th>alcohol</th>\n",
       "      <th>malic_acid</th>\n",
       "      <th>ash</th>\n",
       "      <th>alcalinity_of_ash</th>\n",
       "      <th>magnesium</th>\n",
       "      <th>total_phenols</th>\n",
       "      <th>flavanoids</th>\n",
       "      <th>nonflavanoid_phenols</th>\n",
       "      <th>proanthocyanins</th>\n",
       "      <th>color_intensity</th>\n",
       "      <th>hue</th>\n",
       "      <th>od280/od315_of_diluted_wines</th>\n",
       "      <th>proline</th>\n",
       "      <th>target</th>\n",
       "    </tr>\n",
       "  </thead>\n",
       "  <tbody>\n",
       "    <tr>\n",
       "      <th>0</th>\n",
       "      <td>14.23</td>\n",
       "      <td>1.71</td>\n",
       "      <td>2.43</td>\n",
       "      <td>15.6</td>\n",
       "      <td>127</td>\n",
       "      <td>2.80</td>\n",
       "      <td>3.06</td>\n",
       "      <td>0.28</td>\n",
       "      <td>2.29</td>\n",
       "      <td>5.64</td>\n",
       "      <td>1.04</td>\n",
       "      <td>3.92</td>\n",
       "      <td>1065</td>\n",
       "      <td>Cultivar_1</td>\n",
       "    </tr>\n",
       "    <tr>\n",
       "      <th>1</th>\n",
       "      <td>13.20</td>\n",
       "      <td>1.78</td>\n",
       "      <td>2.14</td>\n",
       "      <td>11.2</td>\n",
       "      <td>100</td>\n",
       "      <td>2.65</td>\n",
       "      <td>2.76</td>\n",
       "      <td>0.26</td>\n",
       "      <td>1.28</td>\n",
       "      <td>4.38</td>\n",
       "      <td>1.05</td>\n",
       "      <td>3.40</td>\n",
       "      <td>1050</td>\n",
       "      <td>Cultivar_1</td>\n",
       "    </tr>\n",
       "    <tr>\n",
       "      <th>2</th>\n",
       "      <td>13.16</td>\n",
       "      <td>2.36</td>\n",
       "      <td>2.67</td>\n",
       "      <td>18.6</td>\n",
       "      <td>101</td>\n",
       "      <td>2.80</td>\n",
       "      <td>3.24</td>\n",
       "      <td>0.30</td>\n",
       "      <td>2.81</td>\n",
       "      <td>5.68</td>\n",
       "      <td>1.03</td>\n",
       "      <td>3.17</td>\n",
       "      <td>1185</td>\n",
       "      <td>Cultivar_1</td>\n",
       "    </tr>\n",
       "    <tr>\n",
       "      <th>3</th>\n",
       "      <td>14.37</td>\n",
       "      <td>1.95</td>\n",
       "      <td>2.50</td>\n",
       "      <td>16.8</td>\n",
       "      <td>113</td>\n",
       "      <td>3.85</td>\n",
       "      <td>3.49</td>\n",
       "      <td>0.24</td>\n",
       "      <td>2.18</td>\n",
       "      <td>7.80</td>\n",
       "      <td>0.86</td>\n",
       "      <td>3.45</td>\n",
       "      <td>1480</td>\n",
       "      <td>Cultivar_1</td>\n",
       "    </tr>\n",
       "    <tr>\n",
       "      <th>4</th>\n",
       "      <td>13.24</td>\n",
       "      <td>2.59</td>\n",
       "      <td>2.87</td>\n",
       "      <td>21.0</td>\n",
       "      <td>118</td>\n",
       "      <td>2.80</td>\n",
       "      <td>2.69</td>\n",
       "      <td>0.39</td>\n",
       "      <td>1.82</td>\n",
       "      <td>4.32</td>\n",
       "      <td>1.04</td>\n",
       "      <td>2.93</td>\n",
       "      <td>735</td>\n",
       "      <td>Cultivar_1</td>\n",
       "    </tr>\n",
       "  </tbody>\n",
       "</table>\n",
       "</div>"
      ],
      "text/plain": [
       "   alcohol  malic_acid   ash  alcalinity_of_ash  magnesium  total_phenols  \\\n",
       "0    14.23        1.71  2.43               15.6        127           2.80   \n",
       "1    13.20        1.78  2.14               11.2        100           2.65   \n",
       "2    13.16        2.36  2.67               18.6        101           2.80   \n",
       "3    14.37        1.95  2.50               16.8        113           3.85   \n",
       "4    13.24        2.59  2.87               21.0        118           2.80   \n",
       "\n",
       "   flavanoids  nonflavanoid_phenols  proanthocyanins  color_intensity   hue  \\\n",
       "0        3.06                  0.28             2.29             5.64  1.04   \n",
       "1        2.76                  0.26             1.28             4.38  1.05   \n",
       "2        3.24                  0.30             2.81             5.68  1.03   \n",
       "3        3.49                  0.24             2.18             7.80  0.86   \n",
       "4        2.69                  0.39             1.82             4.32  1.04   \n",
       "\n",
       "   od280/od315_of_diluted_wines  proline      target  \n",
       "0                          3.92     1065  Cultivar_1  \n",
       "1                          3.40     1050  Cultivar_1  \n",
       "2                          3.17     1185  Cultivar_1  \n",
       "3                          3.45     1480  Cultivar_1  \n",
       "4                          2.93      735  Cultivar_1  "
      ]
     },
     "execution_count": 21,
     "metadata": {},
     "output_type": "execute_result"
    }
   ],
   "source": [
    "data = pd.read_csv('data/wine_data.csv')\n",
    "data.head()"
   ]
  },
  {
   "cell_type": "code",
   "execution_count": 22,
   "id": "92eac626",
   "metadata": {},
   "outputs": [
    {
     "data": {
      "text/plain": [
       "(178, 13)"
      ]
     },
     "execution_count": 22,
     "metadata": {},
     "output_type": "execute_result"
    }
   ],
   "source": [
    "X_df = data.drop(columns = 'target')\n",
    "X_df.shape"
   ]
  },
  {
   "cell_type": "code",
   "execution_count": 23,
   "id": "e2288150",
   "metadata": {},
   "outputs": [],
   "source": [
    "y = data['target'].values #this makes it an array"
   ]
  },
  {
   "cell_type": "code",
   "execution_count": 24,
   "id": "fed6c1b1",
   "metadata": {},
   "outputs": [],
   "source": [
    "#for now, make this a binary problem\n",
    "#and just have one predictor\n",
    "col = 'flavanoids'\n",
    "X_one = X_df[col]\n",
    "y_bin = np.array([value if value == 'Cultivar_3' else 'Not_Cultivar_3' for value in y])"
   ]
  },
  {
   "cell_type": "code",
   "execution_count": 25,
   "id": "8b968821",
   "metadata": {},
   "outputs": [],
   "source": [
    "#Just for the purpose of plotting\n",
    "plot_df = pd.DataFrame(X_one, columns = ['flavanoids'])\n",
    "plot_df['target'] = y_bin"
   ]
  },
  {
   "cell_type": "code",
   "execution_count": 26,
   "id": "debb5563",
   "metadata": {},
   "outputs": [
    {
     "data": {
      "text/plain": [
       "Not_Cultivar_3    130\n",
       "Cultivar_3         48\n",
       "Name: target, dtype: int64"
      ]
     },
     "execution_count": 26,
     "metadata": {},
     "output_type": "execute_result"
    }
   ],
   "source": [
    "plot_df['target'].value_counts()"
   ]
  },
  {
   "cell_type": "code",
   "execution_count": 27,
   "id": "226d5afe",
   "metadata": {},
   "outputs": [
    {
     "data": {
      "image/png": "[encoded data removed]",
      "text/plain": [
       "<Figure size 720x288 with 1 Axes>"
      ]
     },
     "metadata": {
      "needs_background": "light"
     },
     "output_type": "display_data"
    }
   ],
   "source": [
    "import seaborn as sns\n",
    "plt.figure(figsize = [10,4])\n",
    "sns.stripplot(data = plot_df, y = 'target', x = 'flavanoids', \n",
    "              palette=['slategrey', 'cornflowerblue'],\n",
    "             s = 10, alpha = 0.7, ec = 'k', jitter = False)\n",
    "plt.show()"
   ]
  },
  {
   "cell_type": "code",
   "execution_count": 30,
   "id": "fa40282a",
   "metadata": {},
   "outputs": [
    {
     "data": {
      "text/plain": [
       "LogisticRegression()"
      ]
     },
     "execution_count": 30,
     "metadata": {},
     "output_type": "execute_result"
    }
   ],
   "source": [
    "#Create and fit model\n",
    "log_reg = LR()"
   ]
  },
  {
   "cell_type": "code",
   "execution_count": 184,
   "id": "2bb0739f",
   "metadata": {},
   "outputs": [
    {
     "data": {
      "text/plain": [
       "array(['Cultivar_3', 'Not_Cultivar_3', 'Not_Cultivar_3', 'Not_Cultivar_3',\n",
       "       'Not_Cultivar_3'], dtype='<U14')"
      ]
     },
     "execution_count": 184,
     "metadata": {},
     "output_type": "execute_result"
    }
   ],
   "source": [
    "#A few example predictions\n",
    "log_reg.predict(X_one[60:65].values.reshape(-1,1))"
   ]
  },
  {
   "cell_type": "code",
   "execution_count": 185,
   "id": "5a151003",
   "metadata": {},
   "outputs": [
    {
     "data": {
      "text/plain": [
       "array([[0.61440291, 0.38559709],\n",
       "       [0.33244663, 0.66755337],\n",
       "       [0.11123378, 0.88876622],\n",
       "       [0.00106979, 0.99893021],\n",
       "       [0.12643819, 0.87356181]])"
      ]
     },
     "execution_count": 185,
     "metadata": {},
     "output_type": "execute_result"
    }
   ],
   "source": [
    "log_reg.predict_proba(X_one[60:65].values.reshape(-1,1))"
   ]
  },
  {
   "cell_type": "code",
   "execution_count": 186,
   "id": "0e62dc20",
   "metadata": {},
   "outputs": [],
   "source": [
    "#Let's fit model to new data, flavanoids from 0 to 5 (some code from Machine Learning book)\n",
    "#Really we are just using this to construct the curves below\n",
    "X_new = np.linspace(0,5,1000)\n",
    "y_proba = log_reg.predict_proba(X_new.reshape(-1,1))"
   ]
  },
  {
   "cell_type": "code",
   "execution_count": 187,
   "id": "fda80735",
   "metadata": {},
   "outputs": [
    {
     "data": {
      "image/png": "[encoded data removed]",
      "text/plain": [
       "<Figure size 864x288 with 1 Axes>"
      ]
     },
     "metadata": {
      "needs_background": "light"
     },
     "output_type": "display_data"
    }
   ],
   "source": [
    "#this code is just so we have a plot to look at\n",
    "#it's never anything you'd be asked to do  on your own for homeworks\n",
    "plt.figure(figsize = [12,4])\n",
    "plt.scatter(X_one,y_bin, ec = 'k', c = 'grey', label = 'Original data', s = 40, alpha = 0.8)\n",
    "plt.plot(X_new, y_proba[:,1], 'r-', label = 'Not Cultivar 3')\n",
    "plt.plot(X_new, y_proba[:,0], 'b--', label = 'Cultivar 3')\n",
    "plt.yticks([0,1], ['Not Cultivar 3', 'Cultivar 3'],fontsize = 14)\n",
    "plt.xticks(fontsize = 14)\n",
    "colors = ['blue','red']\n",
    "plt.legend()\n",
    "plt.show()"
   ]
  },
  {
   "cell_type": "code",
   "execution_count": 188,
   "id": "13163b4e",
   "metadata": {},
   "outputs": [
    {
     "name": "stdout",
     "output_type": "stream",
     "text": [
      "Accuracy = 0.94\n"
     ]
    },
    {
     "data": {
      "text/plain": [
       "(Predicted       Cultivar_3  Not_Cultivar_3\n",
       " Actual                                    \n",
       " Cultivar_3              41               7\n",
       " Not_Cultivar_3           4             126,\n",
       " 0.9382022471910112)"
      ]
     },
     "execution_count": 188,
     "metadata": {},
     "output_type": "execute_result"
    }
   ],
   "source": [
    "#Yes, this is all of the data\n",
    "#We are just using this for exploratory purposes\n",
    "#Not building a final model\n",
    "compare_classes(y_bin, log_reg.predict(X_one.values.reshape(-1,1)))"
   ]
  },
  {
   "cell_type": "markdown",
   "id": "f3181fa3",
   "metadata": {},
   "source": [
    "## Part 2: Two class problem, all predictors (Wine)"
   ]
  },
  {
   "cell_type": "markdown",
   "id": "e28d57e8",
   "metadata": {},
   "source": [
    "We will look at a single test-train split."
   ]
  },
  {
   "cell_type": "code",
   "execution_count": 189,
   "id": "283d06b4",
   "metadata": {},
   "outputs": [
    {
     "data": {
      "image/png": "[encoded data removed]",
      "text/plain": [
       "<Figure size 864x432 with 1 Axes>"
      ]
     },
     "metadata": {
      "needs_background": "light"
     },
     "output_type": "display_data"
    }
   ],
   "source": [
    "plt.figure(figsize = [12,6])\n",
    "sns.stripplot(data = X_df, orient = 'h')\n",
    "plt.xticks(fontsize = 14)\n",
    "plt.yticks(fontsize = 14)\n",
    "plt.show()"
   ]
  },
  {
   "cell_type": "code",
   "execution_count": 33,
   "id": "eed0008c",
   "metadata": {},
   "outputs": [],
   "source": [
    "X = np.array(X_df)"
   ]
  },
  {
   "cell_type": "code",
   "execution_count": 34,
   "id": "a31235ee",
   "metadata": {},
   "outputs": [],
   "source": [
    "from sklearn.model_selection import train_test_split as tts\n",
    "from sklearn.preprocessing import StandardScaler as SS\n",
    "\n",
    "Xtrain,Xtest,ytrain,ytest = tts(X,y_bin,test_size=0.4, random_state=146)"
   ]
  },
  {
   "cell_type": "code",
   "execution_count": 35,
   "id": "8ecef9d2",
   "metadata": {},
   "outputs": [],
   "source": [
    "# Standardize the data"
   ]
  },
  {
   "cell_type": "code",
   "execution_count": 36,
   "id": "7110a0fe",
   "metadata": {},
   "outputs": [
    {
     "data": {
      "text/plain": [
       "LogisticRegression()"
      ]
     },
     "execution_count": 36,
     "metadata": {},
     "output_type": "execute_result"
    }
   ],
   "source": [
    "# Fit the model"
   ]
  },
  {
   "cell_type": "code",
   "execution_count": 193,
   "id": "b492af07",
   "metadata": {},
   "outputs": [
    {
     "data": {
      "text/plain": [
       "1.0"
      ]
     },
     "execution_count": 193,
     "metadata": {},
     "output_type": "execute_result"
    }
   ],
   "source": [
    "#Score on training data (we will do test data below)"
   ]
  },
  {
   "cell_type": "code",
   "execution_count": 194,
   "id": "6e1828f9",
   "metadata": {},
   "outputs": [
    {
     "name": "stdout",
     "output_type": "stream",
     "text": [
      "Accuracy = 0.99\n"
     ]
    },
    {
     "data": {
      "text/plain": [
       "(Predicted       Cultivar_3  Not_Cultivar_3\n",
       " Actual                                    \n",
       " Cultivar_3              15               1\n",
       " Not_Cultivar_3           0              56,\n",
       " 0.9861111111111112)"
      ]
     },
     "execution_count": 194,
     "metadata": {},
     "output_type": "execute_result"
    }
   ],
   "source": [
    "# Generate our predictions for the test set\n",
    "\n",
    "\n",
    "# Look at the confusion matrix\n",
    "\n"
   ]
  },
  {
   "cell_type": "code",
   "execution_count": 195,
   "id": "7f315988",
   "metadata": {},
   "outputs": [
    {
     "data": {
      "image/png": "[encoded data removed]",
      "text/plain": [
       "<Figure size 432x432 with 1 Axes>"
      ]
     },
     "metadata": {
      "needs_background": "light"
     },
     "output_type": "display_data"
    }
   ],
   "source": [
    "from sklearn.decomposition import PCA\n",
    "c = ['red', 'blue']\n",
    "pca = PCA(n_components = 2)\n",
    "Xtrain_pca = pca.fit_transform(Xtrain_s)\n",
    "Xtest_pca = pca.transform(Xtest_s)\n",
    "#fig,ax = plot_groups(Xtrain_pca, ytrain, c)\n",
    "fig,ax = plot_groups(Xtest_pca, y_pred, c, alpha = 0.9, s = 50)\n",
    "idx_wrong = ytest != y_pred\n",
    "plot_groups(Xtest_pca[idx_wrong], y_pred[idx_wrong], ['slategrey'], alpha = 1, s = 150, ax = ax)\n",
    "plt.xlabel('PC1', fontsize = 14)\n",
    "plt.ylabel('PC2', fontsize = 14)\n",
    "ax.legend(labels = ['Cultivar_3', 'Not_Cultivar_3', 'Misclassified'], bbox_to_anchor = [1.1, 0.5], loc = 'center left')\n",
    "plt.show()"
   ]
  },
  {
   "cell_type": "markdown",
   "id": "5680f0b2",
   "metadata": {},
   "source": [
    "## Part 3: All predictors, multi (3) class problem"
   ]
  },
  {
   "cell_type": "code",
   "execution_count": 196,
   "id": "54b75798",
   "metadata": {},
   "outputs": [],
   "source": [
    "X = np.array(X_df)"
   ]
  },
  {
   "cell_type": "code",
   "execution_count": 207,
   "id": "8b701012",
   "metadata": {},
   "outputs": [],
   "source": [
    "#Let's use k-fold validation first to evaluate overall performance\n"
   ]
  },
  {
   "cell_type": "code",
   "execution_count": 208,
   "id": "c27a7fd6",
   "metadata": {},
   "outputs": [
    {
     "data": {
      "image/png": "[encoded data removed]",
      "text/plain": [
       "<Figure size 432x432 with 1 Axes>"
      ]
     },
     "metadata": {
      "needs_background": "light"
     },
     "output_type": "display_data"
    }
   ],
   "source": [
    "plt.figure(figsize = (6,6))\n",
    "sns.stripplot(data = pd.DataFrame(zip(tr,te), columns = ['Training', 'Testing']), size=10, palette = 'winter',\n",
    "             alpha = 0.5, jitter = True)\n",
    "plt.show()"
   ]
  },
  {
   "cell_type": "markdown",
   "id": "ac7345c5",
   "metadata": {},
   "source": [
    "## Part 4: Compare with kNN"
   ]
  },
  {
   "cell_type": "markdown",
   "id": "9bc72860",
   "metadata": {},
   "source": [
    "We will compare performance with kNN using a single train-test split. Note that we will make some plots of misclassifications...in the homework you should NOT be making plots to assess this - use the confusion matrix."
   ]
  },
  {
   "cell_type": "code",
   "execution_count": 49,
   "id": "69ea598f",
   "metadata": {},
   "outputs": [],
   "source": [
    "Xtrain,Xtest,ytrain,ytest = tts(X,y,test_size=0.4, random_state=146, shuffle = True)\n",
    "\n",
    "# Standardize the data\n",
    "ss = SS()\n",
    "Xtrain_s = ss.fit_transform(Xtrain)"
   ]
  },
  {
   "cell_type": "code",
   "execution_count": 50,
   "id": "17cd247b",
   "metadata": {},
   "outputs": [
    {
     "data": {
      "text/plain": [
       "LogisticRegression()"
      ]
     },
     "execution_count": 50,
     "metadata": {},
     "output_type": "execute_result"
    }
   ],
   "source": [
    "# Fit the model\n",
    "log_reg = LR()\n",
    "log_reg.fit(Xtrain_s, y_train)"
   ]
  },
  {
   "cell_type": "code",
   "execution_count": 51,
   "id": "a74e0be6",
   "metadata": {},
   "outputs": [
    {
     "name": "stdout",
     "output_type": "stream",
     "text": [
      "1.0\n",
      "Accuracy = 1.00\n"
     ]
    },
    {
     "data": {
      "text/plain": [
       "(Predicted   Cultivar_1  Cultivar_2  Cultivar_3\n",
       " Actual                                        \n",
       " Cultivar_1          35           0           0\n",
       " Cultivar_2           0          39           0\n",
       " Cultivar_3           0           0          32,\n",
       " 1.0)"
      ]
     },
     "execution_count": 51,
     "metadata": {},
     "output_type": "execute_result"
    }
   ],
   "source": [
    "#Score on training set\n",
    "#Get confusion matrix for training set\n",
    "print(log_reg.score(Xtrain_s, ytrain))\n",
    "compare_classes(ytrain, log_reg.predict(Xtrain_s))"
   ]
  },
  {
   "cell_type": "code",
   "execution_count": 52,
   "id": "be7c7831",
   "metadata": {},
   "outputs": [
    {
     "name": "stdout",
     "output_type": "stream",
     "text": [
      "0.9861111111111112\n",
      "Accuracy = 0.99\n"
     ]
    },
    {
     "data": {
      "text/plain": [
       "(Predicted   Cultivar_1  Cultivar_2  Cultivar_3\n",
       " Actual                                        \n",
       " Cultivar_1          24           0           0\n",
       " Cultivar_2           0          32           0\n",
       " Cultivar_3           0           1          15,\n",
       " 0.9861111111111112)"
      ]
     },
     "execution_count": 52,
     "metadata": {},
     "output_type": "execute_result"
    }
   ],
   "source": [
    "#Score on test set\n",
    "print(log_reg.score(Xtest_s, ytest))\n",
    "# Generate our predictions for the test set\n",
    "y_pred = log_reg.predict(Xtest_s)\n",
    "\n",
    "# Look at the confusion matrix\n",
    "compare_classes(ytest, y_pred)"
   ]
  },
  {
   "cell_type": "code",
   "execution_count": 53,
   "id": "88f55c59",
   "metadata": {},
   "outputs": [
    {
     "data": {
      "image/png": "[encoded data removed]",
      "text/plain": [
       "<Figure size 432x432 with 1 Axes>"
      ]
     },
     "metadata": {
      "needs_background": "light"
     },
     "output_type": "display_data"
    }
   ],
   "source": [
    "#plot of misclassifications on the test set\n",
    "from sklearn.decomposition import PCA\n",
    "c = ['red', 'blue', 'green']\n",
    "pca = PCA(n_components = 2)\n",
    "Xtrain_pca = pca.fit_transform(Xtrain_s)\n",
    "Xtest_pca = pca.transform(Xtest_s)\n",
    "#fig,ax = plot_groups(Xtrain_pca, ytrain, c)\n",
    "fig,ax = plot_groups(Xtest_pca, y_pred, c, alpha = 0.9, s = 50)\n",
    "idx_wrong = ytest != y_pred\n",
    "plot_groups(Xtest_pca[idx_wrong], y_pred[idx_wrong], ['slategrey'], alpha = 1, s = 150, ax = ax, \n",
    "            )\n",
    "plt.show()"
   ]
  },
  {
   "cell_type": "code",
   "execution_count": 54,
   "id": "34195677",
   "metadata": {},
   "outputs": [],
   "source": [
    "#Step 1 - get best cross-validated kNN model\n",
    "neighbor_range = np.array(range(2,20))\n",
    "\n",
    "train=[]\n",
    "test=[]\n",
    "\n",
    "k = 10\n",
    "\n",
    "for n_neighbors in neighbor_range:\n",
    "    knn = KNN(n_neighbors=n_neighbors, weights = 'distance')\n",
    "    tr,te = do_Kfold(knn,X,y,k, SS())\n",
    "    \n",
    "    train.append(np.mean(tr))\n",
    "    test.append(np.mean(te))"
   ]
  },
  {
   "cell_type": "code",
   "execution_count": 55,
   "id": "40c39f6a",
   "metadata": {},
   "outputs": [
    {
     "data": {
      "image/png": "[encoded data removed]",
      "text/plain": [
       "<Figure size 432x432 with 1 Axes>"
      ]
     },
     "metadata": {
      "needs_background": "light"
     },
     "output_type": "display_data"
    }
   ],
   "source": [
    "plt.figure(figsize=(6,6))\n",
    "plt.plot(neighbor_range, train, ':xk', label='Training')\n",
    "plt.plot(neighbor_range, test, ':xr', label='Testing')\n",
    "plt.ylabel('Mean accuracy', fontsize=14)\n",
    "plt.xlabel('$k$',fontsize=14)\n",
    "plt.xticks(neighbor_range)\n",
    "plt.legend()\n",
    "plt.show()"
   ]
  },
  {
   "cell_type": "code",
   "execution_count": 56,
   "id": "e7e2c387",
   "metadata": {},
   "outputs": [
    {
     "name": "stdout",
     "output_type": "stream",
     "text": [
      "[5]\n",
      "0.9722222222222221\n"
     ]
    }
   ],
   "source": [
    "idx = test == np.max(test)\n",
    "print(neighbor_range[idx])\n",
    "print(np.max(test))"
   ]
  },
  {
   "cell_type": "code",
   "execution_count": 65,
   "id": "f5848323",
   "metadata": {},
   "outputs": [],
   "source": [
    "#Make the KNN classifier\n",
    "knn = KNN(n_neighbors = 5, weights='distance')"
   ]
  },
  {
   "cell_type": "code",
   "execution_count": 66,
   "id": "cd2b3235",
   "metadata": {},
   "outputs": [
    {
     "data": {
      "text/plain": [
       "KNeighborsClassifier()"
      ]
     },
     "execution_count": 66,
     "metadata": {},
     "output_type": "execute_result"
    }
   ],
   "source": [
    "#Use the same training and test data from the same tts\n",
    "knn.fit(Xtrain_s, ytrain)"
   ]
  },
  {
   "cell_type": "code",
   "execution_count": 67,
   "id": "608315c4",
   "metadata": {},
   "outputs": [
    {
     "name": "stdout",
     "output_type": "stream",
     "text": [
      "0.9811320754716981\n",
      "Accuracy = 0.98\n"
     ]
    },
    {
     "data": {
      "text/plain": [
       "(Predicted   Cultivar_1  Cultivar_2  Cultivar_3\n",
       " Actual                                        \n",
       " Cultivar_1          35           0           0\n",
       " Cultivar_2           1          37           1\n",
       " Cultivar_3           0           0          32,\n",
       " 0.9811320754716981)"
      ]
     },
     "execution_count": 67,
     "metadata": {},
     "output_type": "execute_result"
    }
   ],
   "source": [
    "#Score on training set\n",
    "#Get confusion matrix for training set\n",
    "print(knn.score(Xtrain_s, ytrain))\n",
    "compare_classes(ytrain, knn.predict(Xtrain_s))"
   ]
  },
  {
   "cell_type": "code",
   "execution_count": 68,
   "id": "70467420",
   "metadata": {},
   "outputs": [
    {
     "name": "stdout",
     "output_type": "stream",
     "text": [
      "0.9305555555555556\n",
      "Accuracy = 0.93\n"
     ]
    },
    {
     "data": {
      "text/plain": [
       "(Predicted   Cultivar_1  Cultivar_2  Cultivar_3\n",
       " Actual                                        \n",
       " Cultivar_1          24           0           0\n",
       " Cultivar_2           4          27           1\n",
       " Cultivar_3           0           0          16,\n",
       " 0.9305555555555556)"
      ]
     },
     "execution_count": 68,
     "metadata": {},
     "output_type": "execute_result"
    }
   ],
   "source": [
    "#Score on test set\n",
    "print(knn.score(Xtest_s, ytest))\n",
    "# Generate our predictions for the test set\n",
    "y_pred = knn.predict(Xtest_s)\n",
    "\n",
    "# Look at the confusion matrix\n",
    "compare_classes(ytest, y_pred)"
   ]
  },
  {
   "cell_type": "code",
   "execution_count": 69,
   "id": "016dca5a",
   "metadata": {},
   "outputs": [
    {
     "data": {
      "image/png": "[encoded data removed]",
      "text/plain": [
       "<Figure size 432x432 with 1 Axes>"
      ]
     },
     "metadata": {
      "needs_background": "light"
     },
     "output_type": "display_data"
    }
   ],
   "source": [
    "from sklearn.decomposition import PCA\n",
    "c = ['red', 'blue', 'green']\n",
    "pca = PCA(n_components = 2)\n",
    "Xtrain_pca = pca.fit_transform(Xtrain_s)\n",
    "Xtest_pca = pca.transform(Xtest_s)\n",
    "#fig,ax = plot_groups(Xtrain_pca, ytrain, c)\n",
    "fig,ax = plot_groups(Xtest_pca, y_pred, c, alpha = 0.9, s = 50)\n",
    "idx_wrong = ytest != y_pred\n",
    "plot_groups(Xtest_pca[idx_wrong], y_pred[idx_wrong],['slategrey','lightgrey'], alpha = 1, s = 150, ax = ax, \n",
    "            )\n",
    "plt.show()"
   ]
  }
 ],
 "metadata": {
  "kernelspec": {
   "display_name": "Python 3 (ipykernel)",
   "language": "python",
   "name": "python3"
  },
  "language_info": {
   "codemirror_mode": {
    "name": "ipython",
    "version": 3
   },
   "file_extension": ".py",
   "mimetype": "text/x-python",
   "name": "python",
   "nbconvert_exporter": "python",
   "pygments_lexer": "ipython3",
   "version": "3.11.6"
  }
 },
 "nbformat": 4,
 "nbformat_minor": 5
}
