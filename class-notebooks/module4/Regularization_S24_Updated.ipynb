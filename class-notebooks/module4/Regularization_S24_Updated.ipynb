{
 "cells": [
  {
   "cell_type": "markdown",
   "metadata": {},
   "source": [
    "## DATA 201\n",
    "### Regularization Techniques (Ridge and Lasso regression)"
   ]
  },
  {
   "cell_type": "code",
   "execution_count": 2,
   "metadata": {},
   "outputs": [],
   "source": [
    "#Use pockets data\n",
    "from sklearn.linear_model import LinearRegression as LR\n",
    "from sklearn.model_selection import train_test_split as tts\n",
    "import pandas as pd\n",
    "import numpy as np\n",
    "import matplotlib.pyplot as plt\n",
    "import seaborn as sns"
   ]
  },
  {
   "cell_type": "code",
   "execution_count": 3,
   "metadata": {},
   "outputs": [],
   "source": [
    "def do_Kfold(model,X,y,k,scaler = None, random_state = 146):\n",
    "    from sklearn.model_selection import KFold\n",
    "    \n",
    "    kf = KFold(n_splits=k, random_state = random_state, shuffle=True)\n",
    "\n",
    "    train_scores = []\n",
    "    test_scores = []\n",
    "\n",
    "    for idxTrain, idxTest in kf.split(X):\n",
    "        Xtrain = X[idxTrain, :]\n",
    "        Xtest = X[idxTest, :]\n",
    "        ytrain = y[idxTrain]\n",
    "        ytest = y[idxTest]\n",
    "        if scaler != None:\n",
    "            Xtrain = scaler.fit_transform(Xtrain)\n",
    "            Xtest = scaler.transform(Xtest)\n",
    "\n",
    "        model.fit(Xtrain,ytrain)\n",
    "\n",
    "        train_scores.append(model.score(Xtrain,ytrain))\n",
    "        test_scores.append(model.score(Xtest,ytest))\n",
    "        \n",
    "    return train_scores, test_scores"
   ]
  },
  {
   "cell_type": "code",
   "execution_count": null,
   "metadata": {},
   "outputs": [],
   "source": [
    "#https://pudding.cool/2018/08/pockets/ #data source"
   ]
  },
  {
   "cell_type": "code",
   "execution_count": 4,
   "metadata": {},
   "outputs": [],
   "source": [
    "pockets = pd.read_csv('../../data/pockets.csv')"
   ]
  },
  {
   "cell_type": "code",
   "execution_count": null,
   "metadata": {},
   "outputs": [],
   "source": [
    "pockets.head(2)"
   ]
  },
  {
   "cell_type": "code",
   "execution_count": 5,
   "metadata": {},
   "outputs": [],
   "source": [
    "metadata = pockets[['brand','style','menWomen', 'cutout']]\n",
    "X_df = pockets.drop(columns = list(metadata.columns)\n",
    "                          + ['name', 'fabric', 'maxHeightFront'])\n",
    "X = np.array(X_df)\n",
    "y = pockets['maxHeightFront'].values"
   ]
  },
  {
   "cell_type": "code",
   "execution_count": null,
   "metadata": {},
   "outputs": [],
   "source": [
    "#Look at the data\n"
   ]
  },
  {
   "cell_type": "code",
   "execution_count": 3,
   "metadata": {},
   "outputs": [
    {
     "name": "stdout",
     "output_type": "stream",
     "text": [
      "Help on function do_Kfold in module __main__:\n",
      "\n",
      "do_Kfold(model, X, y, k, scaler=None, random_state=146)\n",
      "\n"
     ]
    }
   ],
   "source": [
    "help(do_Kfold)"
   ]
  },
  {
   "cell_type": "code",
   "execution_count": null,
   "metadata": {},
   "outputs": [],
   "source": [
    "lin_reg = LR()"
   ]
  },
  {
   "cell_type": "code",
   "execution_count": null,
   "metadata": {},
   "outputs": [],
   "source": [
    "#run KFold validation"
   ]
  },
  {
   "cell_type": "code",
   "execution_count": null,
   "metadata": {},
   "outputs": [],
   "source": [
    "df = pd.DataFrame(zip(train_res,test_res), columns = ['Train','Test'], \n",
    "                  )\n",
    "sns.stripplot(data = df, size = 10, alpha = 0.8, palette = 'BuPu')\n",
    "plt.axhline(np.mean(test_res), c = 'slategrey', linestyle = '--')\n",
    "plt.show()"
   ]
  },
  {
   "cell_type": "code",
   "execution_count": null,
   "metadata": {},
   "outputs": [],
   "source": [
    "print(np.mean(train_res), np.median(train_res))\n",
    "print(np.mean(test_res), np.mean(test_res))"
   ]
  },
  {
   "cell_type": "markdown",
   "metadata": {},
   "source": [
    "Do you think this model is overfit? Underfit?\n",
    "\n",
    "This brings us to **regularization techniques**.  \n",
    "\n",
    "The first technique we will look at is called **Ridge regression**.  In addition to minimizing the sum of squared errors, Ridge regression also penalizes a model for having more parameters and/or larger parameters.  This is accomplished by modifying the cost function:\n",
    "\n",
    "$$\\sum_{i=1}^N (y_i - \\hat{y}_i)^2 + \\alpha \\sum_{i=1}^p \\beta_i^2 $$\n",
    "\n",
    "The new term in this equation, $\\alpha \\sum_{i=1}^p \\beta_i^2$, is called the **regularization** term.   \n"
   ]
  },
  {
   "cell_type": "code",
   "execution_count": 1,
   "metadata": {},
   "outputs": [],
   "source": [
    "from sklearn.linear_model import Ridge\n",
    "from sklearn.preprocessing import StandardScaler as SS"
   ]
  },
  {
   "cell_type": "code",
   "execution_count": 6,
   "metadata": {},
   "outputs": [],
   "source": [
    "rid_reg = Ridge(alpha = 1)\n",
    "train_res, test_res = do_Kfold(rid_reg, X, y, 10, SS())"
   ]
  },
  {
   "cell_type": "code",
   "execution_count": 7,
   "metadata": {},
   "outputs": [
    {
     "name": "stderr",
     "output_type": "stream",
     "text": [
      "/opt/conda/lib/python3.11/site-packages/seaborn/_base.py:949: FutureWarning: When grouping with a length-1 list-like, you will need to pass a length-1 tuple to get_group in a future version of pandas. Pass `(name,)` instead of `name` to silence this warning.\n",
      "  data_subset = grouped_data.get_group(pd_key)\n"
     ]
    },
    {
     "data": {
      "image/png": "[encoded data removed]",
      "text/plain": [
       "<Figure size 640x480 with 1 Axes>"
      ]
     },
     "metadata": {},
     "output_type": "display_data"
    }
   ],
   "source": [
    "df = pd.DataFrame(zip(train_res,test_res), columns = ['Train','Test'], \n",
    "                  )\n",
    "sns.stripplot(data = df, size = 10, alpha = 0.8, palette = 'BuPu')\n",
    "plt.axhline(np.mean(test_res), c = 'slategrey', linestyle = '--')\n",
    "plt.show()"
   ]
  },
  {
   "cell_type": "code",
   "execution_count": 8,
   "metadata": {},
   "outputs": [
    {
     "name": "stdout",
     "output_type": "stream",
     "text": [
      "0.6479135873667353 0.6378564725380872\n",
      "0.42641898822887503 0.42641898822887503\n"
     ]
    }
   ],
   "source": [
    "print(np.mean(train_res), np.median(train_res))\n",
    "print(np.mean(test_res), np.mean(test_res))"
   ]
  },
  {
   "cell_type": "markdown",
   "metadata": {},
   "source": [
    "The number $\\alpha$ is referred to as a **hyperparameter** - which is a number that is not determined during the fitting/training procedure.  Different values of $\\alpha$ will lead to different results, and we will have to find the optimal value ourselves.\n",
    "\n",
    "\n",
    "What should our approach be? Should we standardize the data?"
   ]
  },
  {
   "cell_type": "markdown",
   "metadata": {},
   "source": [
    "### Performing Ridge Regression with optimal alpha"
   ]
  },
  {
   "cell_type": "markdown",
   "metadata": {},
   "source": [
    "In order to determine what value of $\\alpha$ gives the best performance, we're just going to scan through a range of values.  There is usually going to be some trial and error involved in things like this, and there's no guarantee that we'll start anywhere close to the best answer!\n",
    "\n",
    "Let's pause to think about our next steps a little more:\n",
    "\n",
    "- For each value of $\\alpha$ we're going to do a $K$-fold validation\n",
    "- For each $K$-fold validation, we're going to get a list of training and testing scores\n",
    "- That could potentially be a lot of info to keep track of!\n",
    "- Instead of storing all the scores from each validation run, I'll keep track of the averages\n",
    "\n",
    "We'll make a plot to examine our results use it to guide our next steps throughout this process.  We can plot the $\\alpha$ values on the x-axis, and the average training/testing scores on the y-axis."
   ]
  },
  {
   "cell_type": "code",
   "execution_count": 9,
   "metadata": {},
   "outputs": [
    {
     "name": "stdout",
     "output_type": "stream",
     "text": [
      "\n",
      "Current alpha 10.0\n",
      "Training scores: [0.7339892408038868, 0.5656862208880636]\n",
      "Test scores: [0.42384722312091083, 0.6105733283275985]\n",
      "Current values in avg_tr_score: [0.6498377308459753]\n",
      "Current values in avg_te_score: [0.6498377308459753]\n",
      "\n",
      "Current alpha 12.5\n",
      "Training scores: [0.7276016159374679, 0.5565811681694419]\n",
      "Test scores: [0.4226986094561497, 0.6031729403014698]\n",
      "Current values in avg_tr_score: [0.6498377308459753, 0.6420913920534549]\n",
      "Current values in avg_te_score: [0.6498377308459753, 0.6420913920534549]\n",
      "\n",
      "Current alpha 15.0\n",
      "Training scores: [0.7212112580027685, 0.5476912884568625]\n",
      "Test scores: [0.4210839623708781, 0.5950699464743603]\n",
      "Current values in avg_tr_score: [0.6498377308459753, 0.6420913920534549, 0.6344512732298155]\n",
      "Current values in avg_te_score: [0.6498377308459753, 0.6420913920534549, 0.6344512732298155]\n",
      "\n",
      "Current alpha 17.5\n",
      "Training scores: [0.7148468435322561, 0.5390920259318909]\n",
      "Test scores: [0.4191238455467319, 0.5866373704477533]\n",
      "Current values in avg_tr_score: [0.6498377308459753, 0.6420913920534549, 0.6344512732298155, 0.6269694347320736]\n",
      "Current values in avg_te_score: [0.6498377308459753, 0.6420913920534549, 0.6344512732298155, 0.6269694347320736]\n",
      "\n",
      "Current alpha 20.0\n",
      "Training scores: [0.7085250444560394, 0.5308094764630356]\n",
      "Test scores: [0.41690138573386504, 0.5780964372320125]\n",
      "Current values in avg_tr_score: [0.6498377308459753, 0.6420913920534549, 0.6344512732298155, 0.6269694347320736, 0.6196672604595375]\n",
      "Current values in avg_te_score: [0.6498377308459753, 0.6420913920534549, 0.6344512732298155, 0.6269694347320736, 0.6196672604595375]\n"
     ]
    }
   ],
   "source": [
    "#this is just a tester so you can see what the code is doing\n",
    "#if you're looking for something to copy and paste, use the code in the next block\n",
    "a_range = np.linspace(10,20,5)\n",
    "k = 2\n",
    "ss = SS()\n",
    "\n",
    "avg_tr_score=[]\n",
    "avg_te_score=[]\n",
    "\n",
    "for a in a_range:\n",
    "    print('\\nCurrent alpha', a)\n",
    "    rid_reg = Ridge(alpha=a)\n",
    "    train_scores, test_scores = do_Kfold(rid_reg, X, y, k, ss)\n",
    "    print('Training scores:', train_scores)\n",
    "    print('Test scores:', test_scores)\n",
    "    avg_tr_score.append(np.mean(train_scores))\n",
    "    print('Current values in avg_tr_score:',avg_tr_score)\n",
    "    avg_te_score.append(np.mean(test_scores))\n",
    "    print('Current values in avg_te_score:',avg_tr_score)"
   ]
  },
  {
   "cell_type": "code",
   "execution_count": 10,
   "metadata": {},
   "outputs": [],
   "source": [
    "k = 10\n",
    "ss = SS()\n",
    "\n",
    "a_range = np.linspace(10,20,100)\n",
    "\n",
    "avg_tr_score=[]\n",
    "avg_te_score=[]\n",
    "\n",
    "for a in a_range:\n",
    "    rid_reg = Ridge(alpha=a)\n",
    "    train_scores, test_scores = do_Kfold(rid_reg, X, y, k, ss)\n",
    "    \n",
    "    avg_tr_score.append(np.mean(train_scores))\n",
    "    avg_te_score.append(np.mean(test_scores))"
   ]
  },
  {
   "cell_type": "code",
   "execution_count": 11,
   "metadata": {},
   "outputs": [
    {
     "data": {
      "image/png": "[encoded data removed]",
      "text/plain": [
       "<Figure size 800x800 with 1 Axes>"
      ]
     },
     "metadata": {},
     "output_type": "display_data"
    }
   ],
   "source": [
    "plt.figure(figsize=(8,8))\n",
    "#plt.plot(a_range, avg_tr_score, color='k', label='Training')\n",
    "plt.plot(a_range, avg_te_score, color='r', label='Testing')\n",
    "plt.xlabel('$\\\\alpha$', fontsize=14)\n",
    "plt.ylabel('Avg. $R^2$', fontsize=14)\n",
    "#plt.legend()\n",
    "plt.show()"
   ]
  },
  {
   "cell_type": "code",
   "execution_count": 12,
   "metadata": {},
   "outputs": [
    {
     "name": "stdout",
     "output_type": "stream",
     "text": [
      "Optimal alpha in the range tested:  12.02020202020202\n",
      "Avg. training score at this value:  0.6344576593800286\n",
      "Avg. testing score at this value:  0.44258643208744763\n"
     ]
    }
   ],
   "source": [
    "idx_max = np.argmax(avg_te_score)\n",
    "\n",
    "print('Optimal alpha in the range tested: ', a_range[idx_max])\n",
    "print('Avg. training score at this value: ', avg_tr_score[idx_max])\n",
    "print('Avg. testing score at this value: ', avg_te_score[idx_max])"
   ]
  },
  {
   "cell_type": "markdown",
   "metadata": {},
   "source": [
    "Were we able to improve the model?\n",
    "\n",
    "OLS: 0.64813 0.42151  \n",
    "Ridge: 0.63446 0.44259 \n",
    "\n",
    "To reinforce what exactly is going on here, let's take a look at the model coefficients compared to the OLS solution. We will fit both types of models to a single train-test split. "
   ]
  },
  {
   "cell_type": "code",
   "execution_count": null,
   "metadata": {},
   "outputs": [],
   "source": [
    "Xtrain,Xtest,ytrain,ytest = tts(X,y,train_size = 0.8, shuffle = True, random_state = 201) #does this generate values or indices?"
   ]
  },
  {
   "cell_type": "code",
   "execution_count": null,
   "metadata": {},
   "outputs": [],
   "source": [
    "#Scale the data\n",
    "Xtrain_s = \n",
    "Xtest_s = "
   ]
  },
  {
   "cell_type": "markdown",
   "metadata": {},
   "source": [
    "#### Fit OLS Model"
   ]
  },
  {
   "cell_type": "code",
   "execution_count": null,
   "metadata": {},
   "outputs": [],
   "source": [
    "lin_reg.fit(Xtrain_s,ytrain)\n",
    "#Scores\n",
    "print('Train:',lin_reg.score(Xtrain_s, ytrain))\n",
    "print('Test:', lin_reg.score(Xtest_s, ytest))"
   ]
  },
  {
   "cell_type": "code",
   "execution_count": null,
   "metadata": {},
   "outputs": [],
   "source": [
    "lin_coefs = lin_reg.coef_ #add if you get an error [0]\n",
    "print(lin_coefs)"
   ]
  },
  {
   "cell_type": "markdown",
   "metadata": {},
   "source": [
    "#### Fit Ridge Model"
   ]
  },
  {
   "cell_type": "code",
   "execution_count": null,
   "metadata": {},
   "outputs": [],
   "source": [
    "rid_reg = Ridge(alpha = a_range[idx_max])\n",
    "rid_reg.fit(Xtrain_s, ytrain)"
   ]
  },
  {
   "cell_type": "code",
   "execution_count": null,
   "metadata": {},
   "outputs": [],
   "source": [
    "#Scores\n",
    "print('Train:',rid_reg.score(Xtrain_s, ytrain))\n",
    "print('Test:', rid_reg.score(Xtest_s, ytest))"
   ]
  },
  {
   "cell_type": "code",
   "execution_count": null,
   "metadata": {},
   "outputs": [],
   "source": [
    "rid_coefs = rid_reg.coef_ #add if you get an error [0]"
   ]
  },
  {
   "cell_type": "markdown",
   "metadata": {},
   "source": [
    "#### Compare coefficients"
   ]
  },
  {
   "cell_type": "code",
   "execution_count": null,
   "metadata": {},
   "outputs": [],
   "source": [
    "compare = pd.DataFrame(data=zip(lin_coefs,rid_coefs),index=X_df.columns,\n",
    "                      columns = ['OLS','Ridge'])\n",
    "compare"
   ]
  },
  {
   "cell_type": "code",
   "execution_count": null,
   "metadata": {},
   "outputs": [],
   "source": [
    "a_range = np.linspace(0,500,100)\n",
    "rid_coefs = []\n",
    "for a in a_range:\n",
    "    rid_reg = Ridge(alpha=a)\n",
    "    rid_reg.fit(Xs,y)\n",
    "    rid_coefs.append(rid_reg.coef_) #add [0] if you get something funky"
   ]
  },
  {
   "cell_type": "code",
   "execution_count": null,
   "metadata": {},
   "outputs": [],
   "source": [
    "plt.figure(figsize=(12,6))\n",
    "plt.plot(a_range, rid_coefs, linewidth = 3, alpha = 0.8)\n",
    "plt.scatter([0]*len(lin_coefs), lin_coefs, s= 80, c = 'k', zorder = 10)\n",
    "plt.axhline(0, linewidth = 4, c = 'black', linestyle = '--', alpha = 0.5)\n",
    "plt.xlabel('$\\\\alpha$', fontsize=14)\n",
    "plt.ylabel('Coefficients', fontsize=14)\n",
    "plt.legend(X_df.columns, bbox_to_anchor=[1,0.5], loc='center left')\n",
    "plt.show()"
   ]
  },
  {
   "cell_type": "markdown",
   "metadata": {},
   "source": [
    "### Lasso Regression"
   ]
  },
  {
   "cell_type": "markdown",
   "metadata": {},
   "source": [
    "Lasso regression is very similar to Ridge regression, although the results can be quite a bit different!  The only difference between the two methods is the regularization term.  For Lasso, the cost function is:\n",
    "\n",
    "$$\\sum_{i=1}^N (y_i - \\hat{y}_i)^2 + \\alpha \\sum_{i=1}^p |\\beta_i| $$\n",
    "\n",
    "That is, instead of squaring the coefficients, we are taking their absolute value.  Although this might not seem like a big difference, it has some interesting consequences. Do you remember what they are?\n",
    "\n",
    "The implementation, however, is identical:"
   ]
  },
  {
   "cell_type": "code",
   "execution_count": null,
   "metadata": {},
   "outputs": [],
   "source": [
    "from sklearn.linear_model import Lasso"
   ]
  },
  {
   "cell_type": "markdown",
   "metadata": {},
   "source": [
    "#### Final optimal alpha"
   ]
  },
  {
   "cell_type": "code",
   "execution_count": null,
   "metadata": {},
   "outputs": [],
   "source": [
    "a_range = np.linspace(1e-5,0.2,100)\n",
    "k = 10\n",
    "ss = SS()\n",
    "\n",
    "avg_tr_score=[]\n",
    "avg_te_score=[]\n",
    "\n",
    "for a in a_range:\n",
    "    las_reg = Lasso(alpha=a)\n",
    "    train_scores, test_scores = do_Kfold(las_reg, X, y, k, ss)\n",
    "    \n",
    "    avg_tr_score.append(np.mean(train_scores))\n",
    "    avg_te_score.append(np.mean(test_scores))"
   ]
  },
  {
   "cell_type": "code",
   "execution_count": null,
   "metadata": {},
   "outputs": [],
   "source": [
    "plt.figure(figsize=(8,8))\n",
    "#plt.plot(a_range, avg_tr_score, color='k', label='Training')\n",
    "plt.plot(a_range, avg_te_score, color='r', label='Testing')\n",
    "plt.xlabel('$\\\\alpha$', fontsize=14)\n",
    "plt.ylabel('Avg. $R^2$', fontsize=14)\n",
    "plt.legend()\n",
    "plt.show()"
   ]
  },
  {
   "cell_type": "code",
   "execution_count": null,
   "metadata": {},
   "outputs": [],
   "source": [
    "idx_max = np.argmax(avg_te_score)\n",
    "\n",
    "print('Optimal alpha in the range tested: ', a_range[idx_max])\n",
    "print('Avg. training score at this value: ', avg_tr_score[idx_max])\n",
    "print('Avg. testing score at this value: ', avg_te_score[idx_max])"
   ]
  },
  {
   "cell_type": "markdown",
   "metadata": {},
   "source": [
    "#### Run on single tts to compare with Ridge and OLS"
   ]
  },
  {
   "cell_type": "code",
   "execution_count": null,
   "metadata": {},
   "outputs": [],
   "source": [
    "las_reg = Lasso(alpha = a_range[idx_max])\n",
    "las_reg.fit(Xtrain_s, ytrain)"
   ]
  },
  {
   "cell_type": "code",
   "execution_count": null,
   "metadata": {},
   "outputs": [],
   "source": [
    "#Scores\n",
    "print('Train:',las_reg.score(Xtrain_s, ytrain))\n",
    "print('Test:', las_reg.score(Xtest_s, ytest))"
   ]
  },
  {
   "cell_type": "code",
   "execution_count": null,
   "metadata": {},
   "outputs": [],
   "source": [
    "las_coefs =las_reg.coef_\n",
    "las_coefs"
   ]
  },
  {
   "cell_type": "code",
   "execution_count": null,
   "metadata": {},
   "outputs": [],
   "source": [
    "compare['Lasso'] = las_coefs\n",
    "compare"
   ]
  },
  {
   "cell_type": "code",
   "execution_count": null,
   "metadata": {},
   "outputs": [],
   "source": [
    "a_range = np.linspace(1e-6,10,100)\n",
    "las_coefs = []\n",
    "for a in a_range:\n",
    "    las_reg = Lasso(alpha=a)\n",
    "    las_reg.fit(Xs,y)\n",
    "    las_coefs.append(las_reg.coef_)"
   ]
  },
  {
   "cell_type": "code",
   "execution_count": null,
   "metadata": {},
   "outputs": [],
   "source": [
    "plt.figure(figsize=(12,6))\n",
    "plt.plot(a_range, las_coefs)\n",
    "plt.scatter([0]*len(lin_coefs), lin_coefs)\n",
    "plt.xlabel('$\\\\alpha$', fontsize=14)\n",
    "plt.ylabel('Coefficients', fontsize=14)\n",
    "plt.legend(X_df.columns, bbox_to_anchor=[1,0.5], loc='center left')\n",
    "plt.show()"
   ]
  },
  {
   "cell_type": "code",
   "execution_count": null,
   "metadata": {},
   "outputs": [],
   "source": []
  },
  {
   "cell_type": "code",
   "execution_count": null,
   "metadata": {},
   "outputs": [],
   "source": []
  }
 ],
 "metadata": {
  "kernelspec": {
   "display_name": "Python 3 (ipykernel)",
   "language": "python",
   "name": "python3"
  },
  "language_info": {
   "codemirror_mode": {
    "name": "ipython",
    "version": 3
   },
   "file_extension": ".py",
   "mimetype": "text/x-python",
   "name": "python",
   "nbconvert_exporter": "python",
   "pygments_lexer": "ipython3",
   "version": "3.11.6"
  }
 },
 "nbformat": 4,
 "nbformat_minor": 4
}
